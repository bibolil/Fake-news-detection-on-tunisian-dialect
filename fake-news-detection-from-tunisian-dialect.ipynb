{
 "cells": [
  {
   "cell_type": "code",
   "execution_count": 1,
   "id": "11ee00d8",
   "metadata": {
    "_cell_guid": "b1076dfc-b9ad-4769-8c92-a6c4dae69d19",
    "_uuid": "8f2839f25d086af736a60e9eeb907d3b93b6e0e5",
    "execution": {
     "iopub.execute_input": "2022-03-11T23:11:17.144152Z",
     "iopub.status.busy": "2022-03-11T23:11:17.143345Z",
     "iopub.status.idle": "2022-03-11T23:11:18.096488Z",
     "shell.execute_reply": "2022-03-11T23:11:18.095634Z",
     "shell.execute_reply.started": "2022-03-11T21:59:03.472149Z"
    },
    "papermill": {
     "duration": 1.068449,
     "end_time": "2022-03-11T23:11:18.096644",
     "exception": false,
     "start_time": "2022-03-11T23:11:17.028195",
     "status": "completed"
    },
    "tags": []
   },
   "outputs": [
    {
     "name": "stdout",
     "output_type": "stream",
     "text": [
      "/kaggle/input/trustnews-website-database/trustnews_data.csv\n",
      "/kaggle/input/wataneya-website-dataset/wataneya_data.csv\n",
      "/kaggle/input/aravec-documents/full_grams_sg_300_twitter/full_grams_sg_300_twitter.mdl\n",
      "/kaggle/input/aravec-documents/full_grams_sg_300_twitter/full_grams_sg_300_twitter.mdl.trainables.syn1neg.npy\n",
      "/kaggle/input/aravec-documents/full_grams_sg_300_twitter/full_grams_sg_300_twitter.mdl.wv.vectors.npy\n"
     ]
    }
   ],
   "source": [
    "# This Python 3 environment comes with many helpful analytics libraries installed\n",
    "# It is defined by the kaggle/python Docker image: https://github.com/kaggle/docker-python\n",
    "# For example, here's several helpful packages to load\n",
    "\n",
    "import numpy as np # linear algebra\n",
    "import pandas as pd # data processing, CSV file I/O (e.g. pd.read_csv)\n",
    "import seaborn as sns\n",
    "from sklearn.utils import shuffle\n",
    "\n",
    "# Input data files are available in the read-only \"../input/\" directory\n",
    "# For example, running this (by clicking run or pressing Shift+Enter) will list all files under the input directory\n",
    "\n",
    "import os\n",
    "for dirname, _, filenames in os.walk('/kaggle/input'):\n",
    "    for filename in filenames:\n",
    "        print(os.path.join(dirname, filename))\n",
    "\n",
    "# You can write up to 20GB to the current directory (/kaggle/working/) that gets preserved as output when you create a version using \"Save & Run All\" \n",
    "# You can also write temporary files to /kaggle/temp/, but they won't be saved outside of the current session"
   ]
  },
  {
   "cell_type": "code",
   "execution_count": 2,
   "id": "73de1d82",
   "metadata": {
    "execution": {
     "iopub.execute_input": "2022-03-11T23:11:18.256472Z",
     "iopub.status.busy": "2022-03-11T23:11:18.255860Z",
     "iopub.status.idle": "2022-03-11T23:11:18.538189Z",
     "shell.execute_reply": "2022-03-11T23:11:18.539423Z",
     "shell.execute_reply.started": "2022-03-11T21:59:03.964113Z"
    },
    "papermill": {
     "duration": 0.363882,
     "end_time": "2022-03-11T23:11:18.539666",
     "exception": false,
     "start_time": "2022-03-11T23:11:18.175784",
     "status": "completed"
    },
    "tags": []
   },
   "outputs": [],
   "source": [
    "wataneya_data=pd.read_csv('/kaggle/input/wataneya-website-dataset/wataneya_data.csv')\n",
    "trustnews_data=pd.read_csv(\"/kaggle/input/trustnews-website-database/trustnews_data.csv\")"
   ]
  },
  {
   "cell_type": "code",
   "execution_count": 3,
   "id": "3b16ad76",
   "metadata": {
    "execution": {
     "iopub.execute_input": "2022-03-11T23:11:18.828807Z",
     "iopub.status.busy": "2022-03-11T23:11:18.828047Z",
     "iopub.status.idle": "2022-03-11T23:11:18.831451Z",
     "shell.execute_reply": "2022-03-11T23:11:18.832190Z",
     "shell.execute_reply.started": "2022-03-11T21:59:04.100158Z"
    },
    "papermill": {
     "duration": 0.1342,
     "end_time": "2022-03-11T23:11:18.832420",
     "exception": false,
     "start_time": "2022-03-11T23:11:18.698220",
     "status": "completed"
    },
    "tags": []
   },
   "outputs": [
    {
     "name": "stdout",
     "output_type": "stream",
     "text": [
      "2250 2098\n"
     ]
    }
   ],
   "source": [
    "print(len(wataneya_data),len(trustnews_data))"
   ]
  },
  {
   "cell_type": "code",
   "execution_count": 4,
   "id": "da38d37c",
   "metadata": {
    "execution": {
     "iopub.execute_input": "2022-03-11T23:11:19.094655Z",
     "iopub.status.busy": "2022-03-11T23:11:19.089345Z",
     "iopub.status.idle": "2022-03-11T23:11:19.110081Z",
     "shell.execute_reply": "2022-03-11T23:11:19.110547Z",
     "shell.execute_reply.started": "2022-03-11T21:59:04.108242Z"
    },
    "papermill": {
     "duration": 0.151803,
     "end_time": "2022-03-11T23:11:19.110685",
     "exception": false,
     "start_time": "2022-03-11T23:11:18.958882",
     "status": "completed"
    },
    "tags": []
   },
   "outputs": [],
   "source": [
    "data=shuffle(pd.concat([wataneya_data,trustnews_data]))"
   ]
  },
  {
   "cell_type": "code",
   "execution_count": 5,
   "id": "a0e3c7c7",
   "metadata": {
    "execution": {
     "iopub.execute_input": "2022-03-11T23:11:19.279148Z",
     "iopub.status.busy": "2022-03-11T23:11:19.278330Z",
     "iopub.status.idle": "2022-03-11T23:11:19.280163Z",
     "shell.execute_reply": "2022-03-11T23:11:19.280572Z",
     "shell.execute_reply.started": "2022-03-11T21:59:04.121989Z"
    },
    "papermill": {
     "duration": 0.089489,
     "end_time": "2022-03-11T23:11:19.280699",
     "exception": false,
     "start_time": "2022-03-11T23:11:19.191210",
     "status": "completed"
    },
    "tags": []
   },
   "outputs": [],
   "source": [
    "data.reset_index(inplace=True)"
   ]
  },
  {
   "cell_type": "code",
   "execution_count": 6,
   "id": "64043932",
   "metadata": {
    "execution": {
     "iopub.execute_input": "2022-03-11T23:11:19.438980Z",
     "iopub.status.busy": "2022-03-11T23:11:19.438303Z",
     "iopub.status.idle": "2022-03-11T23:11:19.451123Z",
     "shell.execute_reply": "2022-03-11T23:11:19.451512Z",
     "shell.execute_reply.started": "2022-03-11T21:59:04.12937Z"
    },
    "papermill": {
     "duration": 0.094642,
     "end_time": "2022-03-11T23:11:19.451643",
     "exception": false,
     "start_time": "2022-03-11T23:11:19.357001",
     "status": "completed"
    },
    "tags": []
   },
   "outputs": [
    {
     "data": {
      "text/html": [
       "<div>\n",
       "<style scoped>\n",
       "    .dataframe tbody tr th:only-of-type {\n",
       "        vertical-align: middle;\n",
       "    }\n",
       "\n",
       "    .dataframe tbody tr th {\n",
       "        vertical-align: top;\n",
       "    }\n",
       "\n",
       "    .dataframe thead th {\n",
       "        text-align: right;\n",
       "    }\n",
       "</style>\n",
       "<table border=\"1\" class=\"dataframe\">\n",
       "  <thead>\n",
       "    <tr style=\"text-align: right;\">\n",
       "      <th></th>\n",
       "      <th>level_0</th>\n",
       "      <th>Unnamed: 0</th>\n",
       "      <th>category</th>\n",
       "      <th>type</th>\n",
       "      <th>texts</th>\n",
       "      <th>fake</th>\n",
       "      <th>index</th>\n",
       "    </tr>\n",
       "  </thead>\n",
       "  <tbody>\n",
       "    <tr>\n",
       "      <th>0</th>\n",
       "      <td>238</td>\n",
       "      <td>238</td>\n",
       "      <td>ﺳﻴﺎﺳﺔ</td>\n",
       "      <td>ﻣﻀﻠﻞ</td>\n",
       "      <td>\"رسميا 45 قاضي تحت الاجراء الحدودي s17\" ... ...</td>\n",
       "      <td>0</td>\n",
       "      <td>214.0</td>\n",
       "    </tr>\n",
       "    <tr>\n",
       "      <th>1</th>\n",
       "      <td>1132</td>\n",
       "      <td>1132</td>\n",
       "      <td>متفرقات</td>\n",
       "      <td>ﺻﺤﻴﺢ</td>\n",
       "      <td>عودة تدريجية للأجواء الشتويةتتسم حالة الطقس ال...</td>\n",
       "      <td>1</td>\n",
       "      <td>NaN</td>\n",
       "    </tr>\n",
       "    <tr>\n",
       "      <th>2</th>\n",
       "      <td>540</td>\n",
       "      <td>540</td>\n",
       "      <td>ﻣﺠﺘﻤﻊ</td>\n",
       "      <td>ﺻﺤﻴﺢ</td>\n",
       "      <td>جامعة التعليم الثانوي تقرّر عدم التعامل مع ...</td>\n",
       "      <td>1</td>\n",
       "      <td>NaN</td>\n",
       "    </tr>\n",
       "    <tr>\n",
       "      <th>3</th>\n",
       "      <td>330</td>\n",
       "      <td>330</td>\n",
       "      <td>covid-19</td>\n",
       "      <td>ﻣﻀﻠﻞ</td>\n",
       "      <td>الأصلع ليس  أكثر عرضة للكورونا من غيره     ب...</td>\n",
       "      <td>0</td>\n",
       "      <td>275.0</td>\n",
       "    </tr>\n",
       "    <tr>\n",
       "      <th>4</th>\n",
       "      <td>628</td>\n",
       "      <td>628</td>\n",
       "      <td>ﺇﻗﺘﺼﺎﺩ</td>\n",
       "      <td>ﺯاﺋﻒ</td>\n",
       "      <td>لا صحة لخبر الزيادة في سعر الخبز     ,دقق فر...</td>\n",
       "      <td>0</td>\n",
       "      <td>65.0</td>\n",
       "    </tr>\n",
       "  </tbody>\n",
       "</table>\n",
       "</div>"
      ],
      "text/plain": [
       "   level_0  Unnamed: 0  category      type  \\\n",
       "0      238         238     ﺳﻴﺎﺳﺔ    ﻣﻀﻠﻞ     \n",
       "1     1132        1132   متفرقات    ﺻﺤﻴﺢ     \n",
       "2      540         540     ﻣﺠﺘﻤﻊ    ﺻﺤﻴﺢ     \n",
       "3      330         330  covid-19    ﻣﻀﻠﻞ     \n",
       "4      628         628    ﺇﻗﺘﺼﺎﺩ    ﺯاﺋﻒ     \n",
       "\n",
       "                                               texts  fake  index  \n",
       "0    \"رسميا 45 قاضي تحت الاجراء الحدودي s17\" ... ...     0  214.0  \n",
       "1  عودة تدريجية للأجواء الشتويةتتسم حالة الطقس ال...     1    NaN  \n",
       "2     جامعة التعليم الثانوي تقرّر عدم التعامل مع ...     1    NaN  \n",
       "3    الأصلع ليس  أكثر عرضة للكورونا من غيره     ب...     0  275.0  \n",
       "4    لا صحة لخبر الزيادة في سعر الخبز     ,دقق فر...     0   65.0  "
      ]
     },
     "execution_count": 6,
     "metadata": {},
     "output_type": "execute_result"
    }
   ],
   "source": [
    "data.head()"
   ]
  },
  {
   "cell_type": "code",
   "execution_count": 7,
   "id": "269e2bd2",
   "metadata": {
    "execution": {
     "iopub.execute_input": "2022-03-11T23:11:19.617039Z",
     "iopub.status.busy": "2022-03-11T23:11:19.616191Z",
     "iopub.status.idle": "2022-03-11T23:11:19.620039Z",
     "shell.execute_reply": "2022-03-11T23:11:19.619558Z",
     "shell.execute_reply.started": "2022-03-11T21:59:04.149843Z"
    },
    "papermill": {
     "duration": 0.091826,
     "end_time": "2022-03-11T23:11:19.620227",
     "exception": false,
     "start_time": "2022-03-11T23:11:19.528401",
     "status": "completed"
    },
    "tags": []
   },
   "outputs": [],
   "source": [
    "data.drop(['index','Unnamed: 0','level_0'], axis=1,inplace=True)"
   ]
  },
  {
   "cell_type": "code",
   "execution_count": 8,
   "id": "9ba4ccd3",
   "metadata": {
    "execution": {
     "iopub.execute_input": "2022-03-11T23:11:19.789416Z",
     "iopub.status.busy": "2022-03-11T23:11:19.788556Z",
     "iopub.status.idle": "2022-03-11T23:11:19.791713Z",
     "shell.execute_reply": "2022-03-11T23:11:19.792193Z",
     "shell.execute_reply.started": "2022-03-11T21:59:04.158127Z"
    },
    "papermill": {
     "duration": 0.092137,
     "end_time": "2022-03-11T23:11:19.792325",
     "exception": false,
     "start_time": "2022-03-11T23:11:19.700188",
     "status": "completed"
    },
    "tags": []
   },
   "outputs": [
    {
     "data": {
      "text/html": [
       "<div>\n",
       "<style scoped>\n",
       "    .dataframe tbody tr th:only-of-type {\n",
       "        vertical-align: middle;\n",
       "    }\n",
       "\n",
       "    .dataframe tbody tr th {\n",
       "        vertical-align: top;\n",
       "    }\n",
       "\n",
       "    .dataframe thead th {\n",
       "        text-align: right;\n",
       "    }\n",
       "</style>\n",
       "<table border=\"1\" class=\"dataframe\">\n",
       "  <thead>\n",
       "    <tr style=\"text-align: right;\">\n",
       "      <th></th>\n",
       "      <th>category</th>\n",
       "      <th>type</th>\n",
       "      <th>texts</th>\n",
       "      <th>fake</th>\n",
       "    </tr>\n",
       "  </thead>\n",
       "  <tbody>\n",
       "    <tr>\n",
       "      <th>0</th>\n",
       "      <td>ﺳﻴﺎﺳﺔ</td>\n",
       "      <td>ﻣﻀﻠﻞ</td>\n",
       "      <td>\"رسميا 45 قاضي تحت الاجراء الحدودي s17\" ... ...</td>\n",
       "      <td>0</td>\n",
       "    </tr>\n",
       "    <tr>\n",
       "      <th>1</th>\n",
       "      <td>متفرقات</td>\n",
       "      <td>ﺻﺤﻴﺢ</td>\n",
       "      <td>عودة تدريجية للأجواء الشتويةتتسم حالة الطقس ال...</td>\n",
       "      <td>1</td>\n",
       "    </tr>\n",
       "    <tr>\n",
       "      <th>2</th>\n",
       "      <td>ﻣﺠﺘﻤﻊ</td>\n",
       "      <td>ﺻﺤﻴﺢ</td>\n",
       "      <td>جامعة التعليم الثانوي تقرّر عدم التعامل مع ...</td>\n",
       "      <td>1</td>\n",
       "    </tr>\n",
       "    <tr>\n",
       "      <th>3</th>\n",
       "      <td>covid-19</td>\n",
       "      <td>ﻣﻀﻠﻞ</td>\n",
       "      <td>الأصلع ليس  أكثر عرضة للكورونا من غيره     ب...</td>\n",
       "      <td>0</td>\n",
       "    </tr>\n",
       "    <tr>\n",
       "      <th>4</th>\n",
       "      <td>ﺇﻗﺘﺼﺎﺩ</td>\n",
       "      <td>ﺯاﺋﻒ</td>\n",
       "      <td>لا صحة لخبر الزيادة في سعر الخبز     ,دقق فر...</td>\n",
       "      <td>0</td>\n",
       "    </tr>\n",
       "  </tbody>\n",
       "</table>\n",
       "</div>"
      ],
      "text/plain": [
       "   category      type                                              texts  fake\n",
       "0     ﺳﻴﺎﺳﺔ    ﻣﻀﻠﻞ      \"رسميا 45 قاضي تحت الاجراء الحدودي s17\" ... ...     0\n",
       "1   متفرقات    ﺻﺤﻴﺢ    عودة تدريجية للأجواء الشتويةتتسم حالة الطقس ال...     1\n",
       "2     ﻣﺠﺘﻤﻊ    ﺻﺤﻴﺢ       جامعة التعليم الثانوي تقرّر عدم التعامل مع ...     1\n",
       "3  covid-19    ﻣﻀﻠﻞ      الأصلع ليس  أكثر عرضة للكورونا من غيره     ب...     0\n",
       "4    ﺇﻗﺘﺼﺎﺩ    ﺯاﺋﻒ      لا صحة لخبر الزيادة في سعر الخبز     ,دقق فر...     0"
      ]
     },
     "execution_count": 8,
     "metadata": {},
     "output_type": "execute_result"
    }
   ],
   "source": [
    "data.head()"
   ]
  },
  {
   "cell_type": "markdown",
   "id": "32f5f3b1",
   "metadata": {
    "papermill": {
     "duration": 0.078808,
     "end_time": "2022-03-11T23:11:19.950922",
     "exception": false,
     "start_time": "2022-03-11T23:11:19.872114",
     "status": "completed"
    },
    "tags": []
   },
   "source": [
    "# **Data Description**"
   ]
  },
  {
   "cell_type": "code",
   "execution_count": 9,
   "id": "49ffa824",
   "metadata": {
    "execution": {
     "iopub.execute_input": "2022-03-11T23:11:20.125334Z",
     "iopub.status.busy": "2022-03-11T23:11:20.124702Z",
     "iopub.status.idle": "2022-03-11T23:11:20.127834Z",
     "shell.execute_reply": "2022-03-11T23:11:20.128248Z",
     "shell.execute_reply.started": "2022-03-11T21:59:04.171979Z"
    },
    "papermill": {
     "duration": 0.100039,
     "end_time": "2022-03-11T23:11:20.128403",
     "exception": false,
     "start_time": "2022-03-11T23:11:20.028364",
     "status": "completed"
    },
    "tags": []
   },
   "outputs": [
    {
     "name": "stdout",
     "output_type": "stream",
     "text": [
      "<class 'pandas.core.frame.DataFrame'>\n",
      "RangeIndex: 4348 entries, 0 to 4347\n",
      "Data columns (total 4 columns):\n",
      " #   Column    Non-Null Count  Dtype \n",
      "---  ------    --------------  ----- \n",
      " 0   category  4348 non-null   object\n",
      " 1   type      4348 non-null   object\n",
      " 2   texts     4348 non-null   object\n",
      " 3   fake      4348 non-null   int64 \n",
      "dtypes: int64(1), object(3)\n",
      "memory usage: 136.0+ KB\n"
     ]
    }
   ],
   "source": [
    "data.info()"
   ]
  },
  {
   "cell_type": "code",
   "execution_count": 10,
   "id": "2a9d7d7e",
   "metadata": {
    "execution": {
     "iopub.execute_input": "2022-03-11T23:11:20.288455Z",
     "iopub.status.busy": "2022-03-11T23:11:20.287809Z",
     "iopub.status.idle": "2022-03-11T23:11:20.290688Z",
     "shell.execute_reply": "2022-03-11T23:11:20.291104Z",
     "shell.execute_reply.started": "2022-03-11T21:59:04.190133Z"
    },
    "papermill": {
     "duration": 0.085495,
     "end_time": "2022-03-11T23:11:20.291234",
     "exception": false,
     "start_time": "2022-03-11T23:11:20.205739",
     "status": "completed"
    },
    "tags": []
   },
   "outputs": [
    {
     "name": "stdout",
     "output_type": "stream",
     "text": [
      "Data Shape: (4348, 4)\n"
     ]
    }
   ],
   "source": [
    "print(\"Data Shape:\", data.shape)"
   ]
  },
  {
   "cell_type": "code",
   "execution_count": 11,
   "id": "68022ad5",
   "metadata": {
    "execution": {
     "iopub.execute_input": "2022-03-11T23:11:20.450886Z",
     "iopub.status.busy": "2022-03-11T23:11:20.450120Z",
     "iopub.status.idle": "2022-03-11T23:11:20.611553Z",
     "shell.execute_reply": "2022-03-11T23:11:20.612477Z",
     "shell.execute_reply.started": "2022-03-11T21:59:04.197127Z"
    },
    "papermill": {
     "duration": 0.24404,
     "end_time": "2022-03-11T23:11:20.612713",
     "exception": false,
     "start_time": "2022-03-11T23:11:20.368673",
     "status": "completed"
    },
    "tags": []
   },
   "outputs": [
    {
     "data": {
      "text/plain": [
       "<AxesSubplot:xlabel='fake', ylabel='count'>"
      ]
     },
     "execution_count": 11,
     "metadata": {},
     "output_type": "execute_result"
    },
    {
     "data": {
      "image/png": "[encoded data removed]",
      "text/plain": [
       "<Figure size 432x288 with 1 Axes>"
      ]
     },
     "metadata": {
      "needs_background": "light"
     },
     "output_type": "display_data"
    }
   ],
   "source": [
    "sns.countplot(x='fake', data=data)"
   ]
  },
  {
   "cell_type": "code",
   "execution_count": 12,
   "id": "4c00e096",
   "metadata": {
    "execution": {
     "iopub.execute_input": "2022-03-11T23:11:20.794948Z",
     "iopub.status.busy": "2022-03-11T23:11:20.794092Z",
     "iopub.status.idle": "2022-03-11T23:11:21.260273Z",
     "shell.execute_reply": "2022-03-11T23:11:21.259612Z",
     "shell.execute_reply.started": "2022-03-11T21:59:04.35558Z"
    },
    "papermill": {
     "duration": 0.555523,
     "end_time": "2022-03-11T23:11:21.260403",
     "exception": false,
     "start_time": "2022-03-11T23:11:20.704880",
     "status": "completed"
    },
    "tags": []
   },
   "outputs": [
    {
     "data": {
      "image/png": "[encoded data removed]",
      "text/plain": [
       "<Figure size 806.4x576 with 2 Axes>"
      ]
     },
     "metadata": {
      "needs_background": "light"
     },
     "output_type": "display_data"
    }
   ],
   "source": [
    "g = sns.catplot(x=\"category\", col=\"fake\",\n",
    "                data=data, kind=\"count\",\n",
    "                height=8, aspect=.7);"
   ]
  },
  {
   "cell_type": "code",
   "execution_count": 13,
   "id": "3d615cc9",
   "metadata": {
    "execution": {
     "iopub.execute_input": "2022-03-11T23:11:21.447668Z",
     "iopub.status.busy": "2022-03-11T23:11:21.446645Z",
     "iopub.status.idle": "2022-03-11T23:11:21.543869Z",
     "shell.execute_reply": "2022-03-11T23:11:21.544932Z",
     "shell.execute_reply.started": "2022-03-11T21:59:04.829564Z"
    },
    "papermill": {
     "duration": 0.203679,
     "end_time": "2022-03-11T23:11:21.545179",
     "exception": false,
     "start_time": "2022-03-11T23:11:21.341500",
     "status": "completed"
    },
    "tags": []
   },
   "outputs": [
    {
     "data": {
      "image/png": "[encoded data removed]",
      "text/plain": [
       "<Figure size 432x288 with 1 Axes>"
      ]
     },
     "metadata": {
      "needs_background": "light"
     },
     "output_type": "display_data"
    }
   ],
   "source": [
    "lista=[(data.fake == 0).sum(),(data.fake == 1).sum()]\n",
    "import matplotlib.pyplot as plt\n",
    "fig = plt.figure()\n",
    "ax = fig.add_axes([0,0,1,1])\n",
    "langs = ['0', '1']\n",
    "ax.bar(langs,lista)\n",
    "plt.show()"
   ]
  },
  {
   "cell_type": "markdown",
   "id": "4a887c72",
   "metadata": {
    "papermill": {
     "duration": 0.080897,
     "end_time": "2022-03-11T23:11:21.725154",
     "exception": false,
     "start_time": "2022-03-11T23:11:21.644257",
     "status": "completed"
    },
    "tags": []
   },
   "source": [
    "# **Data Preparation**"
   ]
  },
  {
   "cell_type": "code",
   "execution_count": 14,
   "id": "132e60d0",
   "metadata": {
    "execution": {
     "iopub.execute_input": "2022-03-11T23:11:21.894000Z",
     "iopub.status.busy": "2022-03-11T23:11:21.892426Z",
     "iopub.status.idle": "2022-03-11T23:11:21.894569Z",
     "shell.execute_reply": "2022-03-11T23:11:21.894949Z",
     "shell.execute_reply.started": "2022-03-11T21:59:04.953384Z"
    },
    "papermill": {
     "duration": 0.089426,
     "end_time": "2022-03-11T23:11:21.895105",
     "exception": false,
     "start_time": "2022-03-11T23:11:21.805679",
     "status": "completed"
    },
    "tags": []
   },
   "outputs": [],
   "source": [
    "import string,re\n",
    "def remove_punct(text):\n",
    "    text  = \"\".join([char for char in text if char not in string.punctuation])\n",
    "    text = re.sub('[0-9]+', '', text)\n",
    "    text = re.sub('\\n', '', text)\n",
    "    text = re.sub('\\t', '', text)\n",
    "    text = re.sub('\\r', '', text)\n",
    "    return text\n"
   ]
  },
  {
   "cell_type": "code",
   "execution_count": 15,
   "id": "0d18eb8b",
   "metadata": {
    "execution": {
     "iopub.execute_input": "2022-03-11T23:11:22.083896Z",
     "iopub.status.busy": "2022-03-11T23:11:22.063805Z",
     "iopub.status.idle": "2022-03-11T23:11:22.833108Z",
     "shell.execute_reply": "2022-03-11T23:11:22.832211Z",
     "shell.execute_reply.started": "2022-03-11T21:59:04.962213Z"
    },
    "papermill": {
     "duration": 0.858625,
     "end_time": "2022-03-11T23:11:22.833254",
     "exception": false,
     "start_time": "2022-03-11T23:11:21.974629",
     "status": "completed"
    },
    "tags": []
   },
   "outputs": [],
   "source": [
    "data['texts'] = data['texts'].apply(lambda x: remove_punct(x))"
   ]
  },
  {
   "cell_type": "markdown",
   "id": "e49b89c0",
   "metadata": {
    "papermill": {
     "duration": 0.080836,
     "end_time": "2022-03-11T23:11:22.994389",
     "exception": false,
     "start_time": "2022-03-11T23:11:22.913553",
     "status": "completed"
    },
    "tags": []
   },
   "source": [
    "Arabic words cleaning"
   ]
  },
  {
   "cell_type": "markdown",
   "id": "2803c243",
   "metadata": {
    "papermill": {
     "duration": 0.080033,
     "end_time": "2022-03-11T23:11:23.154189",
     "exception": false,
     "start_time": "2022-03-11T23:11:23.074156",
     "status": "completed"
    },
    "tags": []
   },
   "source": [
    "https://github.com/saobou/arabic-text-preprocessing/blob/master/Preprocess.ipynb"
   ]
  },
  {
   "cell_type": "code",
   "execution_count": 16,
   "id": "e32e1abd",
   "metadata": {
    "_kg_hide-input": true,
    "_kg_hide-output": true,
    "execution": {
     "iopub.execute_input": "2022-03-11T23:11:23.321732Z",
     "iopub.status.busy": "2022-03-11T23:11:23.321208Z",
     "iopub.status.idle": "2022-03-11T23:11:48.470283Z",
     "shell.execute_reply": "2022-03-11T23:11:48.469443Z",
     "shell.execute_reply.started": "2022-03-11T21:59:05.851263Z"
    },
    "papermill": {
     "duration": 25.235705,
     "end_time": "2022-03-11T23:11:48.470422",
     "exception": false,
     "start_time": "2022-03-11T23:11:23.234717",
     "status": "completed"
    },
    "tags": []
   },
   "outputs": [
    {
     "name": "stdout",
     "output_type": "stream",
     "text": [
      "Requirement already satisfied: pyarabic in /opt/conda/lib/python3.7/site-packages (0.6.14)\r\n",
      "Requirement already satisfied: six>=1.14.0 in /opt/conda/lib/python3.7/site-packages (from pyarabic) (1.16.0)\r\n",
      "\u001b[33mWARNING: Running pip as the 'root' user can result in broken permissions and conflicting behaviour with the system package manager. It is recommended to use a virtual environment instead: https://pip.pypa.io/warnings/venv\u001b[0m\r\n",
      "Collecting farasapy\r\n",
      "  Downloading farasapy-0.0.14-py3-none-any.whl (11 kB)\r\n",
      "Requirement already satisfied: tqdm in /opt/conda/lib/python3.7/site-packages (from farasapy) (4.62.3)\r\n",
      "Requirement already satisfied: requests in /opt/conda/lib/python3.7/site-packages (from farasapy) (2.26.0)\r\n",
      "Requirement already satisfied: certifi>=2017.4.17 in /opt/conda/lib/python3.7/site-packages (from requests->farasapy) (2021.10.8)\r\n",
      "Requirement already satisfied: charset-normalizer~=2.0.0 in /opt/conda/lib/python3.7/site-packages (from requests->farasapy) (2.0.9)\r\n",
      "Requirement already satisfied: idna<4,>=2.5 in /opt/conda/lib/python3.7/site-packages (from requests->farasapy) (3.1)\r\n",
      "Requirement already satisfied: urllib3<1.27,>=1.21.1 in /opt/conda/lib/python3.7/site-packages (from requests->farasapy) (1.26.7)\r\n",
      "Installing collected packages: farasapy\r\n",
      "Successfully installed farasapy-0.0.14\r\n",
      "\u001b[33mWARNING: Running pip as the 'root' user can result in broken permissions and conflicting behaviour with the system package manager. It is recommended to use a virtual environment instead: https://pip.pypa.io/warnings/venv\u001b[0m\r\n",
      "Collecting tashaphyne\r\n",
      "  Downloading Tashaphyne-0.3.6-py3-none-any.whl (251 kB)\r\n",
      "     |████████████████████████████████| 251 kB 923 kB/s            \r\n",
      "\u001b[?25hRequirement already satisfied: pyarabic in /opt/conda/lib/python3.7/site-packages (from tashaphyne) (0.6.14)\r\n",
      "Requirement already satisfied: six>=1.14.0 in /opt/conda/lib/python3.7/site-packages (from pyarabic->tashaphyne) (1.16.0)\r\n",
      "Installing collected packages: tashaphyne\r\n",
      "Successfully installed tashaphyne-0.3.6\r\n",
      "\u001b[33mWARNING: Running pip as the 'root' user can result in broken permissions and conflicting behaviour with the system package manager. It is recommended to use a virtual environment instead: https://pip.pypa.io/warnings/venv\u001b[0m\r\n"
     ]
    }
   ],
   "source": [
    "!pip install pyarabic\n",
    "!pip install farasapy\n",
    "!pip install tashaphyne"
   ]
  },
  {
   "cell_type": "code",
   "execution_count": 17,
   "id": "ead3827d",
   "metadata": {
    "execution": {
     "iopub.execute_input": "2022-03-11T23:11:48.671076Z",
     "iopub.status.busy": "2022-03-11T23:11:48.670044Z",
     "iopub.status.idle": "2022-03-11T23:11:49.414953Z",
     "shell.execute_reply": "2022-03-11T23:11:49.414426Z",
     "shell.execute_reply.started": "2022-03-11T21:59:28.12827Z"
    },
    "papermill": {
     "duration": 0.859284,
     "end_time": "2022-03-11T23:11:49.415097",
     "exception": false,
     "start_time": "2022-03-11T23:11:48.555813",
     "status": "completed"
    },
    "tags": []
   },
   "outputs": [],
   "source": [
    "from nltk.corpus import stopwords\n",
    "from textblob import TextBlob\n",
    "\n",
    "from tashaphyne.stemming import ArabicLightStemmer\n",
    "from nltk.stem.isri import ISRIStemmer\n",
    "import tashaphyne.arabic_const as arabconst \n",
    "\n",
    "stops = set(stopwords.words(\"arabic\"))\n",
    "stop_word_comp = {\"،\",\"آض\",\"آمينَ\",\"آه\",\"آهاً\",\"آي\",\"أ\",\"أب\",\"أجل\",\"أجمع\",\"أخ\",\"أخذ\",\"أصبح\",\"أضحى\",\"أقبل\",\"أقل\",\"أكثر\",\"ألا\",\"أم\",\"أما\",\"أمامك\",\"أمامكَ\",\"أمسى\",\"أمّا\",\"أن\",\"أنا\",\"أنت\",\"أنتم\",\"أنتما\",\"أنتن\",\"أنتِ\",\"أنشأ\",\"أنّى\",\"أو\",\"أوشك\",\"أولئك\",\"أولئكم\",\"أولاء\",\"أولالك\",\"أوّهْ\",\"أي\",\"أيا\",\"أين\",\"أينما\",\"أيّ\",\"أَنَّ\",\"أََيُّ\",\"أُفٍّ\",\"إذ\",\"إذا\",\"إذاً\",\"إذما\",\"إذن\",\"إلى\",\"إليكم\",\"إليكما\",\"إليكنّ\",\"إليكَ\",\"إلَيْكَ\",\"إلّا\",\"إمّا\",\"إن\",\"إنّما\",\"إي\",\"إياك\",\"إياكم\",\"إياكما\",\"إياكن\",\"إيانا\",\"إياه\",\"إياها\",\"إياهم\",\"إياهما\",\"إياهن\",\"إياي\",\"إيهٍ\",\"إِنَّ\",\"ا\",\"ابتدأ\",\"اثر\",\"اجل\",\"احد\",\"اخرى\",\"اخلولق\",\"اذا\",\"اربعة\",\"ارتدّ\",\"استحال\",\"اطار\",\"اعادة\",\"اعلنت\",\"اف\",\"اكثر\",\"اكد\",\"الألاء\",\"الألى\",\"الا\",\"الاخيرة\",\"الان\",\"الاول\",\"الاولى\",\"التى\",\"التي\",\"الثاني\",\"الثانية\",\"الذاتي\",\"الذى\",\"الذي\",\"الذين\",\"السابق\",\"الف\",\"اللائي\",\"اللاتي\",\"اللتان\",\"اللتيا\",\"اللتين\",\"اللذان\",\"اللذين\",\"اللواتي\",\"الماضي\",\"المقبل\",\"الوقت\",\"الى\",\"اليوم\",\"اما\",\"امام\",\"امس\",\"ان\",\"انبرى\",\"انقلب\",\"انه\",\"انها\",\"او\",\"اول\",\"اي\",\"ايار\",\"ايام\",\"ايضا\",\"ب\",\"بات\",\"باسم\",\"بان\",\"بخٍ\",\"برس\",\"بسبب\",\"بسّ\",\"بشكل\",\"بضع\",\"بطآن\",\"بعد\",\"بعض\",\"بك\",\"بكم\",\"بكما\",\"بكن\",\"بل\",\"بلى\",\"بما\",\"بماذا\",\"بمن\",\"بن\",\"بنا\",\"به\",\"بها\",\"بي\",\"بيد\",\"بين\",\"بَسْ\",\"بَلْهَ\",\"بِئْسَ\",\"تانِ\",\"تانِك\",\"تبدّل\",\"تجاه\",\"تحوّل\",\"تلقاء\",\"تلك\",\"تلكم\",\"تلكما\",\"تم\",\"تينك\",\"تَيْنِ\",\"تِه\",\"تِي\",\"ثلاثة\",\"ثم\",\"ثمّ\",\"ثمّة\",\"ثُمَّ\",\"جعل\",\"جلل\",\"جميع\",\"جير\",\"حار\",\"حاشا\",\"حاليا\",\"حاي\",\"حتى\",\"حرى\",\"حسب\",\"حم\",\"حوالى\",\"حول\",\"حيث\",\"حيثما\",\"حين\",\"حيَّ\",\"حَبَّذَا\",\"حَتَّى\",\"حَذارِ\",\"خلا\",\"خلال\",\"دون\",\"دونك\",\"ذا\",\"ذات\",\"ذاك\",\"ذانك\",\"ذانِ\",\"ذلك\",\"ذلكم\",\"ذلكما\",\"ذلكن\",\"ذو\",\"ذوا\",\"ذواتا\",\"ذواتي\",\"ذيت\",\"ذينك\",\"ذَيْنِ\",\"ذِه\",\"ذِي\",\"راح\",\"رجع\",\"رويدك\",\"ريث\",\"رُبَّ\",\"زيارة\",\"سبحان\",\"سرعان\",\"سنة\",\"سنوات\",\"سوف\",\"سوى\",\"سَاءَ\",\"سَاءَمَا\",\"شبه\",\"شخصا\",\"شرع\",\"شَتَّانَ\",\"صار\",\"صباح\",\"صفر\",\"صهٍ\",\"صهْ\",\"ضد\",\"ضمن\",\"طاق\",\"طالما\",\"طفق\",\"طَق\",\"ظلّ\",\"عاد\",\"عام\",\"عاما\",\"عامة\",\"عدا\",\"عدة\",\"عدد\",\"عدم\",\"عسى\",\"عشر\",\"عشرة\",\"علق\",\"على\",\"عليك\",\"عليه\",\"عليها\",\"علًّ\",\"عن\",\"عند\",\"عندما\",\"عوض\",\"عين\",\"عَدَسْ\",\"عَمَّا\",\"غدا\",\"غير\",\"ـ\",\"ف\",\"فان\",\"فلان\",\"فو\",\"فى\",\"في\",\"فيم\",\"فيما\",\"فيه\",\"فيها\",\"قال\",\"قام\",\"قبل\",\"قد\",\"قطّ\",\"قلما\",\"قوة\",\"كأنّما\",\"كأين\",\"كأيّ\",\"كأيّن\",\"كاد\",\"كان\",\"كانت\",\"كذا\",\"كذلك\",\"كرب\",\"كل\",\"كلا\",\"كلاهما\",\"كلتا\",\"كلم\",\"كليكما\",\"كليهما\",\"كلّما\",\"كلَّا\",\"كم\",\"كما\",\"كي\",\"كيت\",\"كيف\",\"كيفما\",\"كَأَنَّ\",\"كِخ\",\"لئن\",\"لا\",\"لات\",\"لاسيما\",\"لدن\",\"لدى\",\"لعمر\",\"لقاء\",\"لك\",\"لكم\",\"لكما\",\"لكن\",\"لكنَّما\",\"لكي\",\"لكيلا\",\"للامم\",\"لم\",\"لما\",\"لمّا\",\"لن\",\"لنا\",\"له\",\"لها\",\"لو\",\"لوكالة\",\"لولا\",\"لوما\",\"لي\",\"لَسْتَ\",\"لَسْتُ\",\"لَسْتُم\",\"لَسْتُمَا\",\"لَسْتُنَّ\",\"لَسْتِ\",\"لَسْنَ\",\"لَعَلَّ\",\"لَكِنَّ\",\"لَيْتَ\",\"لَيْسَ\",\"لَيْسَا\",\"لَيْسَتَا\",\"لَيْسَتْ\",\"لَيْسُوا\",\"لَِسْنَا\",\"ما\",\"ماانفك\",\"مابرح\",\"مادام\",\"ماذا\",\"مازال\",\"مافتئ\",\"مايو\",\"متى\",\"مثل\",\"مذ\",\"مساء\",\"مع\",\"معاذ\",\"مقابل\",\"مكانكم\",\"مكانكما\",\"مكانكنّ\",\"مكانَك\",\"مليار\",\"مليون\",\"مما\",\"ممن\",\"من\",\"منذ\",\"منها\",\"مه\",\"مهما\",\"مَنْ\",\"مِن\",\"نحن\",\"نحو\",\"نعم\",\"نفس\",\"نفسه\",\"نهاية\",\"نَخْ\",\"نِعِمّا\",\"نِعْمَ\",\"ها\",\"هاؤم\",\"هاكَ\",\"هاهنا\",\"هبّ\",\"هذا\",\"هذه\",\"هكذا\",\"هل\",\"هلمَّ\",\"هلّا\",\"هم\",\"هما\",\"هن\",\"هنا\",\"هناك\",\"هنالك\",\"هو\",\"هي\",\"هيا\",\"هيت\",\"هيّا\",\"هَؤلاء\",\"هَاتانِ\",\"هَاتَيْنِ\",\"هَاتِه\",\"هَاتِي\",\"هَجْ\",\"هَذا\",\"هَذانِ\",\"هَذَيْنِ\",\"هَذِه\",\"هَذِي\",\"هَيْهَاتَ\",\"و\",\"و6\",\"وا\",\"واحد\",\"واضاف\",\"واضافت\",\"واكد\",\"وان\",\"واهاً\",\"واوضح\",\"وراءَك\",\"وفي\",\"وقال\",\"وقالت\",\"وقد\",\"وقف\",\"وكان\",\"وكانت\",\"ولا\",\"ولم\",\"ومن\",\"مَن\",\"وهو\",\"وهي\",\"ويكأنّ\",\"وَيْ\",\"وُشْكَانََ\",\"يكون\",\"يمكن\",\"يوم\",\"ّأيّان\"}\n",
    "ArListem = ArabicLightStemmer()\n",
    "\n",
    "\n",
    "def stem(text):\n",
    "    zen = TextBlob(text)\n",
    "    words = zen.words\n",
    "    cleaned = list()\n",
    "    for w in words:\n",
    "        ArListem.light_stem(w)\n",
    "        cleaned.append(ArListem.get_root())\n",
    "    return \" \".join(cleaned)\n",
    "\n",
    "import pyarabic.araby as araby\n",
    "def normalizeArabic(text):\n",
    "    text = re.sub(\"[إأٱآا]\", \"ا\", text)\n",
    "    text = re.sub(\"ى\", \"ي\", text)\n",
    "    text = re.sub(\"ؤ\", \"ء\", text)\n",
    "    text = re.sub(\"ئ\", \"ء\", text)\n",
    "    text = re.sub(\"ة\", \"ه\", text)\n",
    "    noise = re.compile(\"\"\" ّ    | # Tashdid\n",
    "                             َ    | # Fatha\n",
    "                             ً    | # Tanwin Fath\n",
    "                             ُ    | # Damma\n",
    "                             ٌ    | # Tanwin Damm\n",
    "                             ِ    | # Kasra\n",
    "                             ٍ    | # Tanwin Kasr\n",
    "                             ْ    | # Sukun\n",
    "                             ـ     # Tatwil/Kashida\n",
    "                         \"\"\", re.VERBOSE)\n",
    "    text = re.sub(noise, '', text)\n",
    "    text = re.sub(r'(.)\\1+', r\"\\1\\1\", text) # Remove longation\n",
    "    return araby.strip_tashkeel(text)\n",
    "\n",
    "def remove_stop_words(text):\n",
    "    zen = TextBlob(text)\n",
    "    words = zen.words\n",
    "    return \" \".join([w for w in words if not w in stops and not w in stop_word_comp and len(w) >= 2])"
   ]
  },
  {
   "cell_type": "markdown",
   "id": "70877446",
   "metadata": {
    "papermill": {
     "duration": 0.084905,
     "end_time": "2022-03-11T23:11:49.585075",
     "exception": false,
     "start_time": "2022-03-11T23:11:49.500170",
     "status": "completed"
    },
    "tags": []
   },
   "source": [
    "Trying examples"
   ]
  },
  {
   "cell_type": "code",
   "execution_count": 18,
   "id": "0f82e7fe",
   "metadata": {
    "execution": {
     "iopub.execute_input": "2022-03-11T23:11:49.760403Z",
     "iopub.status.busy": "2022-03-11T23:11:49.759716Z",
     "iopub.status.idle": "2022-03-11T23:11:49.762404Z",
     "shell.execute_reply": "2022-03-11T23:11:49.762794Z",
     "shell.execute_reply.started": "2022-03-11T21:59:28.608102Z"
    },
    "papermill": {
     "duration": 0.092892,
     "end_time": "2022-03-11T23:11:49.762915",
     "exception": false,
     "start_time": "2022-03-11T23:11:49.670023",
     "status": "completed"
    },
    "tags": []
   },
   "outputs": [
    {
     "data": {
      "text/plain": [
       "'قالوا الموفق شيعي فقلت لهم'"
      ]
     },
     "execution_count": 18,
     "metadata": {},
     "output_type": "execute_result"
    }
   ],
   "source": [
    "text=\"قالوا الموفقُ شِيعِيٌّ فقلتُ لهم\"\n",
    "normalizeArabic(text)"
   ]
  },
  {
   "cell_type": "code",
   "execution_count": 19,
   "id": "7c057c66",
   "metadata": {
    "execution": {
     "iopub.execute_input": "2022-03-11T23:11:49.939046Z",
     "iopub.status.busy": "2022-03-11T23:11:49.938461Z",
     "iopub.status.idle": "2022-03-11T23:11:49.941385Z",
     "shell.execute_reply": "2022-03-11T23:11:49.941977Z",
     "shell.execute_reply.started": "2022-03-11T21:59:28.616758Z"
    },
    "papermill": {
     "duration": 0.094379,
     "end_time": "2022-03-11T23:11:49.942138",
     "exception": false,
     "start_time": "2022-03-11T23:11:49.847759",
     "status": "completed"
    },
    "tags": []
   },
   "outputs": [
    {
     "name": "stdout",
     "output_type": "stream",
     "text": [
      "قبلي تنظيم وقفة مساندة ومسيرة سلمية للتعبير عن مساندة قرارات رئيس الجمهورية نظم عدد من نشطاء المجتمع المدني وممثلي بعض الاحزاب، صباح اليوم الاحد، وقفة مساندة امام مقر الولاية ومسيرة سلمية جابت ابرز شوارع المدينة رفعوا خلالها شعارات تعبر عن دعمهم للقرارات التي اتخذها رئيس الجمهورية يوم  جويلية الماضيوقال عدد من المشاركين في هذه المسيرة ان هذا التحرك الذي يعبر عن مساندة رئيس الجمهورية قيس سعيد، يؤكد تمسك اغلب التونسيين بالقرارات التي حسمت مع منظومة الخراب التي سادت البلاد طيلة  سنوات على حد تعبيرهم، واكدوا ان تاريخ  جويلية يمثل بالنسبة لهم محطة فاصلة في تاريخ تونس التي تم الشروع في استرجاعها من ايدي المخربينواشاروا الى ان خروجهم اليوم في هذا التحرك الوطني على حد تعبيرهم، يؤكد التفافهم حول رئيس الجمهورية وحول المسار الذي ينتهجه والذي يجب مواصلته لاسترجاع السيادة الوطنية وتحقيق مطالب المواطنين، ودعوا الى الاسراع بمحاسبة المفسدين و المجرمين في حق الوطن و المتسببين في انتشار الارهاب بالبلادواعتبروا ان نجاح رئيس الجمهورية في القطع مع منظومة ما قبل  جويلية يستوجب حل البرلمان والعمل على اعادة الاعتبار للمواطن من خلال الاهتمام بالمقدرة الشرائية ومعالجة الاشكاليات التي طالت جميع القطاعات وخاصة منها القطاعين الصحي والفلاحي\n"
     ]
    }
   ],
   "source": [
    "test=data['texts'][5]\n",
    "print(test)"
   ]
  },
  {
   "cell_type": "code",
   "execution_count": 20,
   "id": "195815ea",
   "metadata": {
    "execution": {
     "iopub.execute_input": "2022-03-11T23:11:50.119797Z",
     "iopub.status.busy": "2022-03-11T23:11:50.119000Z",
     "iopub.status.idle": "2022-03-11T23:11:50.122028Z",
     "shell.execute_reply": "2022-03-11T23:11:50.122500Z",
     "shell.execute_reply.started": "2022-03-11T21:59:28.632036Z"
    },
    "papermill": {
     "duration": 0.092585,
     "end_time": "2022-03-11T23:11:50.122614",
     "exception": false,
     "start_time": "2022-03-11T23:11:50.030029",
     "status": "completed"
    },
    "tags": []
   },
   "outputs": [
    {
     "data": {
      "text/plain": [
       "'قبلي تنظيم وقفه مسانده ومسيره سلميه للتعبير عن مسانده قرارات رءيس الجمهوريه\\xa0نظم عدد من نشطاء المجتمع المدني وممثلي بعض الاحزاب، صباح اليوم الاحد، وقفه مسانده امام مقر الولايه ومسيره سلميه جابت ابرز شوارع المدينه رفعوا خلالها شعارات تعبر عن دعمهم للقرارات التي اتخذها رءيس الجمهوريه يوم  جويليه الماضيوقال عدد من المشاركين في هذه المسيره ان هذا التحرك الذي يعبر عن مسانده رءيس الجمهوريه قيس سعيد، يءكد تمسك اغلب التونسيين بالقرارات التي حسمت مع منظومه الخراب التي سادت البلاد طيله  سنوات علي حد تعبيرهم، واكدوا ان تاريخ  جويليه يمثل بالنسبه لهم محطه فاصله في تاريخ تونس التي تم الشروع في استرجاعها من ايدي المخربينواشاروا الي ان خروجهم اليوم في هذا التحرك الوطني علي حد تعبيرهم، يءكد التفافهم حول رءيس الجمهوريه وحول المسار الذي ينتهجه والذي يجب مواصلته لاسترجاع السياده الوطنيه وتحقيق مطالب المواطنين، ودعوا الي الاسراع بمحاسبه المفسدين و المجرمين في حق الوطن و المتسببين في انتشار الارهاب بالبلادواعتبروا ان نجاح رءيس الجمهوريه في القطع مع منظومه ما قبل  جويليه يستوجب حل البرلمان والعمل علي اعاده الاعتبار للمواطن من خلال الاهتمام بالمقدره الشراءيه ومعالجه الاشكاليات التي طالت جميع القطاعات وخاصه منها القطاعين الصحي والفلاحي'"
      ]
     },
     "execution_count": 20,
     "metadata": {},
     "output_type": "execute_result"
    }
   ],
   "source": [
    "normalizeArabic(test)"
   ]
  },
  {
   "cell_type": "code",
   "execution_count": 21,
   "id": "d567fe0b",
   "metadata": {
    "execution": {
     "iopub.execute_input": "2022-03-11T23:11:50.296499Z",
     "iopub.status.busy": "2022-03-11T23:11:50.295740Z",
     "iopub.status.idle": "2022-03-11T23:11:50.314926Z",
     "shell.execute_reply": "2022-03-11T23:11:50.314433Z",
     "shell.execute_reply.started": "2022-03-11T21:59:28.644003Z"
    },
    "papermill": {
     "duration": 0.106572,
     "end_time": "2022-03-11T23:11:50.315044",
     "exception": false,
     "start_time": "2022-03-11T23:11:50.208472",
     "status": "completed"
    },
    "tags": []
   },
   "outputs": [
    {
     "data": {
      "text/plain": [
       "'قبلي تنظيم وقفة مساندة ومسيرة سلمية للتعبير مساندة قرارات رئيس الجمهورية نظم نشطاء المجتمع المدني وممثلي الاحزاب، الاحد، وقفة مساندة مقر الولاية ومسيرة سلمية جابت ابرز شوارع المدينة رفعوا خلالها شعارات تعبر دعمهم للقرارات اتخذها رئيس الجمهورية الماضيوقال المشاركين المسيرة التحرك يعبر مساندة رئيس الجمهورية قيس سعيد، يؤكد تمسك اغلب التونسيين بالقرارات حسمت منظومة الخراب سادت البلاد طيلة حد تعبيرهم، واكدوا تاريخ يمثل بالنسبة محطة فاصلة تاريخ تونس الشروع استرجاعها ايدي المخربينواشاروا خروجهم التحرك الوطني حد تعبيرهم، يؤكد التفافهم رئيس الجمهورية وحول المسار ينتهجه يجب مواصلته لاسترجاع السيادة الوطنية وتحقيق مطالب المواطنين، ودعوا الاسراع بمحاسبة المفسدين المجرمين حق الوطن المتسببين انتشار الارهاب بالبلادواعتبروا نجاح رئيس الجمهورية القطع منظومة يستوجب حل البرلمان والعمل الاعتبار للمواطن الاهتمام بالمقدرة الشرائية ومعالجة الاشكاليات طالت القطاعات وخاصة القطاعين الصحي والفلاحي'"
      ]
     },
     "execution_count": 21,
     "metadata": {},
     "output_type": "execute_result"
    }
   ],
   "source": [
    "remove_stop_words(test)"
   ]
  },
  {
   "cell_type": "code",
   "execution_count": 22,
   "id": "c00f5887",
   "metadata": {
    "execution": {
     "iopub.execute_input": "2022-03-11T23:11:50.518474Z",
     "iopub.status.busy": "2022-03-11T23:11:50.513251Z",
     "iopub.status.idle": "2022-03-11T23:11:50.529979Z",
     "shell.execute_reply": "2022-03-11T23:11:50.529536Z",
     "shell.execute_reply.started": "2022-03-11T21:59:28.664505Z"
    },
    "papermill": {
     "duration": 0.127668,
     "end_time": "2022-03-11T23:11:50.530091",
     "exception": false,
     "start_time": "2022-03-11T23:11:50.402423",
     "status": "completed"
    },
    "tags": []
   },
   "outputs": [
    {
     "data": {
      "text/plain": [
       "'قبل نظم وقف سند مسر سلم عبر عن سند قرر رءس جمهر نظم عدد من شطط جمع مدن مثل بعض حزب، صباح ولم حد، وقف سند موم قرر ولل مسر سلم جوب برز شرع مدن رفع خلال شعر عبر عن دعم قرر التي تخذ رءس جمهر يوم جول ضقل عدد من شرك في هذه مسر ن هذا حرك الذي عبر عن سند رءس جمهر قيس عد، ءكد مسك غلب ونس قرر التي حسم مع نظم خرب التي سود بلد طيل سنو على حدد عبرهم، وكد ن ورخ جول مثل نسب هم محط وصل في ورخ ونس التي تمم شرع في رجع من يدي لمخربنشر ولي ن خرج ولم في هذا حرك وطن على حدد عبرهم، ءكد فوف حول رءس جمهر حول مسر الذي نهج الذي جبب مصل رجع لسد وطن حقق طلب طنن، ودع ولي سرع حسب فسد و جرم في حقق وطن و سبب في نتشر رهب بلبلدعتبر ن نجح رءس جمهر في قطع مع نظم ما قبل جول وجب حلل برلم عمل على وعد عتبر وطن من خلال هتمم قدر شرء علج شكل التي طول جميع قطع وخص من قطع صحح فلح'"
      ]
     },
     "execution_count": 22,
     "metadata": {},
     "output_type": "execute_result"
    }
   ],
   "source": [
    "stem(test) "
   ]
  },
  {
   "cell_type": "code",
   "execution_count": 23,
   "id": "8114ac84",
   "metadata": {
    "execution": {
     "iopub.execute_input": "2022-03-11T23:11:50.707024Z",
     "iopub.status.busy": "2022-03-11T23:11:50.706163Z",
     "iopub.status.idle": "2022-03-11T23:11:50.708482Z",
     "shell.execute_reply": "2022-03-11T23:11:50.707988Z",
     "shell.execute_reply.started": "2022-03-11T21:59:28.691529Z"
    },
    "papermill": {
     "duration": 0.092278,
     "end_time": "2022-03-11T23:11:50.708579",
     "exception": false,
     "start_time": "2022-03-11T23:11:50.616301",
     "status": "completed"
    },
    "tags": []
   },
   "outputs": [],
   "source": [
    "def remove_dirt_after_transformation(text):\n",
    "    return re.sub('[a-z]|[A_Z]|[0-9]|\\n|:|N|,*', '', text)"
   ]
  },
  {
   "cell_type": "code",
   "execution_count": 24,
   "id": "58104af6",
   "metadata": {
    "execution": {
     "iopub.execute_input": "2022-03-11T23:11:50.908264Z",
     "iopub.status.busy": "2022-03-11T23:11:50.907541Z",
     "iopub.status.idle": "2022-03-11T23:13:39.515352Z",
     "shell.execute_reply": "2022-03-11T23:13:39.514803Z",
     "shell.execute_reply.started": "2022-03-11T21:59:28.699518Z"
    },
    "papermill": {
     "duration": 108.721263,
     "end_time": "2022-03-11T23:13:39.515505",
     "exception": false,
     "start_time": "2022-03-11T23:11:50.794242",
     "status": "completed"
    },
    "tags": []
   },
   "outputs": [],
   "source": [
    "data['texts'] = data['texts'].apply(lambda x:normalizeArabic(x))\n",
    "data['texts'] = data['texts'].apply(lambda x:remove_stop_words(x))\n",
    "data['texts'] = data['texts'].apply(lambda x:stem(x))"
   ]
  },
  {
   "cell_type": "code",
   "execution_count": 25,
   "id": "a907d974",
   "metadata": {
    "execution": {
     "iopub.execute_input": "2022-03-11T23:13:39.700852Z",
     "iopub.status.busy": "2022-03-11T23:13:39.700345Z",
     "iopub.status.idle": "2022-03-11T23:13:39.705689Z",
     "shell.execute_reply": "2022-03-11T23:13:39.705281Z",
     "shell.execute_reply.started": "2022-03-11T22:01:17.527997Z"
    },
    "papermill": {
     "duration": 0.1031,
     "end_time": "2022-03-11T23:13:39.705795",
     "exception": false,
     "start_time": "2022-03-11T23:13:39.602695",
     "status": "completed"
    },
    "tags": []
   },
   "outputs": [
    {
     "data": {
      "text/html": [
       "<div>\n",
       "<style scoped>\n",
       "    .dataframe tbody tr th:only-of-type {\n",
       "        vertical-align: middle;\n",
       "    }\n",
       "\n",
       "    .dataframe tbody tr th {\n",
       "        vertical-align: top;\n",
       "    }\n",
       "\n",
       "    .dataframe thead th {\n",
       "        text-align: right;\n",
       "    }\n",
       "</style>\n",
       "<table border=\"1\" class=\"dataframe\">\n",
       "  <thead>\n",
       "    <tr style=\"text-align: right;\">\n",
       "      <th></th>\n",
       "      <th>category</th>\n",
       "      <th>type</th>\n",
       "      <th>texts</th>\n",
       "      <th>fake</th>\n",
       "    </tr>\n",
       "  </thead>\n",
       "  <tbody>\n",
       "    <tr>\n",
       "      <th>0</th>\n",
       "      <td>ﺳﻴﺎﺳﺔ</td>\n",
       "      <td>ﻣﻀﻠﻞ</td>\n",
       "      <td>رسم قوض جرء حدد ضلل حري فرق روس نوز خبر شرر مد...</td>\n",
       "      <td>0</td>\n",
       "    </tr>\n",
       "    <tr>\n",
       "      <th>1</th>\n",
       "      <td>متفرقات</td>\n",
       "      <td>ﺻﺤﻴﺢ</td>\n",
       "      <td>عود درج لجء لشتهتتسم حول طقس سبت، بعد درج لجء ...</td>\n",
       "      <td>1</td>\n",
       "    </tr>\n",
       "    <tr>\n",
       "      <th>2</th>\n",
       "      <td>ﻣﺠﺘﻤﻊ</td>\n",
       "      <td>ﺻﺤﻴﺢ</td>\n",
       "      <td>جمع علم لثن قرر عمل وزر ترب خصص قرر زمم حمو سر...</td>\n",
       "      <td>1</td>\n",
       "    </tr>\n",
       "    <tr>\n",
       "      <th>3</th>\n",
       "      <td>covid-19</td>\n",
       "      <td>ﻣﻀﻠﻞ</td>\n",
       "      <td>صلع عرض كرو غير رجع ولي درس دله خصص علق صلع كر...</td>\n",
       "      <td>0</td>\n",
       "    </tr>\n",
       "    <tr>\n",
       "      <th>4</th>\n",
       "      <td>ﺇﻗﺘﺼﺎﺩ</td>\n",
       "      <td>ﺯاﺋﻒ</td>\n",
       "      <td>صحح خبر زود عرر خبز دقق فرق روس نوز خبر شرر عد...</td>\n",
       "      <td>0</td>\n",
       "    </tr>\n",
       "  </tbody>\n",
       "</table>\n",
       "</div>"
      ],
      "text/plain": [
       "   category      type                                              texts  fake\n",
       "0     ﺳﻴﺎﺳﺔ    ﻣﻀﻠﻞ    رسم قوض جرء حدد ضلل حري فرق روس نوز خبر شرر مد...     0\n",
       "1   متفرقات    ﺻﺤﻴﺢ    عود درج لجء لشتهتتسم حول طقس سبت، بعد درج لجء ...     1\n",
       "2     ﻣﺠﺘﻤﻊ    ﺻﺤﻴﺢ    جمع علم لثن قرر عمل وزر ترب خصص قرر زمم حمو سر...     1\n",
       "3  covid-19    ﻣﻀﻠﻞ    صلع عرض كرو غير رجع ولي درس دله خصص علق صلع كر...     0\n",
       "4    ﺇﻗﺘﺼﺎﺩ    ﺯاﺋﻒ    صحح خبر زود عرر خبز دقق فرق روس نوز خبر شرر عد...     0"
      ]
     },
     "execution_count": 25,
     "metadata": {},
     "output_type": "execute_result"
    }
   ],
   "source": [
    "data.head()"
   ]
  },
  {
   "cell_type": "markdown",
   "id": "f4196134",
   "metadata": {
    "papermill": {
     "duration": 0.086443,
     "end_time": "2022-03-11T23:13:39.878702",
     "exception": false,
     "start_time": "2022-03-11T23:13:39.792259",
     "status": "completed"
    },
    "tags": []
   },
   "source": [
    "# **Machine learning Apporach**"
   ]
  },
  {
   "cell_type": "code",
   "execution_count": 26,
   "id": "2c4a2cc0",
   "metadata": {
    "execution": {
     "iopub.execute_input": "2022-03-11T23:13:40.057022Z",
     "iopub.status.busy": "2022-03-11T23:13:40.056250Z",
     "iopub.status.idle": "2022-03-11T23:13:40.058783Z",
     "shell.execute_reply": "2022-03-11T23:13:40.058379Z",
     "shell.execute_reply.started": "2022-03-11T22:01:17.541081Z"
    },
    "papermill": {
     "duration": 0.093274,
     "end_time": "2022-03-11T23:13:40.058894",
     "exception": false,
     "start_time": "2022-03-11T23:13:39.965620",
     "status": "completed"
    },
    "tags": []
   },
   "outputs": [],
   "source": [
    "from sklearn.model_selection import train_test_split\n",
    "X = data.texts.values\n",
    "y = data.fake.values"
   ]
  },
  {
   "cell_type": "code",
   "execution_count": 27,
   "id": "6c242023",
   "metadata": {
    "execution": {
     "iopub.execute_input": "2022-03-11T23:13:40.239332Z",
     "iopub.status.busy": "2022-03-11T23:13:40.238637Z",
     "iopub.status.idle": "2022-03-11T23:13:40.243440Z",
     "shell.execute_reply": "2022-03-11T23:13:40.243020Z",
     "shell.execute_reply.started": "2022-03-11T22:01:17.549872Z"
    },
    "papermill": {
     "duration": 0.097835,
     "end_time": "2022-03-11T23:13:40.243585",
     "exception": false,
     "start_time": "2022-03-11T23:13:40.145750",
     "status": "completed"
    },
    "tags": []
   },
   "outputs": [],
   "source": [
    "X_train, X_test, y_train, y_test = train_test_split(X,y, test_size=0.3,shuffle=True, random_state=42)"
   ]
  },
  {
   "cell_type": "code",
   "execution_count": 28,
   "id": "d49bf7ff",
   "metadata": {
    "execution": {
     "iopub.execute_input": "2022-03-11T23:13:40.423362Z",
     "iopub.status.busy": "2022-03-11T23:13:40.422700Z",
     "iopub.status.idle": "2022-03-11T23:13:40.427458Z",
     "shell.execute_reply": "2022-03-11T23:13:40.427022Z",
     "shell.execute_reply.started": "2022-03-11T22:01:17.564863Z"
    },
    "papermill": {
     "duration": 0.09685,
     "end_time": "2022-03-11T23:13:40.427563",
     "exception": false,
     "start_time": "2022-03-11T23:13:40.330713",
     "status": "completed"
    },
    "tags": []
   },
   "outputs": [],
   "source": [
    "from sklearn.metrics import classification_report\n",
    "from sklearn.feature_extraction.text import CountVectorizer\n",
    "from sklearn.feature_extraction.text import TfidfVectorizer\n",
    "from sklearn.pipeline import Pipeline\n",
    "from sklearn.metrics import f1_score"
   ]
  },
  {
   "cell_type": "markdown",
   "id": "6482e7ca",
   "metadata": {
    "papermill": {
     "duration": 0.086325,
     "end_time": "2022-03-11T23:13:40.604109",
     "exception": false,
     "start_time": "2022-03-11T23:13:40.517784",
     "status": "completed"
    },
    "tags": []
   },
   "source": [
    "Creating a pipline using tf-idf for words embedding and different models."
   ]
  },
  {
   "cell_type": "code",
   "execution_count": 29,
   "id": "24013a58",
   "metadata": {
    "execution": {
     "iopub.execute_input": "2022-03-11T23:13:40.786745Z",
     "iopub.status.busy": "2022-03-11T23:13:40.785200Z",
     "iopub.status.idle": "2022-03-11T23:13:40.787363Z",
     "shell.execute_reply": "2022-03-11T23:13:40.787748Z",
     "shell.execute_reply.started": "2022-03-11T22:01:17.572792Z"
    },
    "papermill": {
     "duration": 0.097174,
     "end_time": "2022-03-11T23:13:40.787879",
     "exception": false,
     "start_time": "2022-03-11T23:13:40.690705",
     "status": "completed"
    },
    "tags": []
   },
   "outputs": [],
   "source": [
    "def train_model(model, data, targets):\n",
    "    text_clf = Pipeline([\n",
    "    ('vect',TfidfVectorizer()),\n",
    "    ('clf', model),\n",
    "    ])\n",
    "    text_clf.fit(data, targets)\n",
    "    return text_clf"
   ]
  },
  {
   "cell_type": "code",
   "execution_count": 30,
   "id": "e2135c03",
   "metadata": {
    "execution": {
     "iopub.execute_input": "2022-03-11T23:13:40.967257Z",
     "iopub.status.busy": "2022-03-11T23:13:40.966332Z",
     "iopub.status.idle": "2022-03-11T23:13:40.969187Z",
     "shell.execute_reply": "2022-03-11T23:13:40.968747Z",
     "shell.execute_reply.started": "2022-03-11T22:01:17.579997Z"
    },
    "papermill": {
     "duration": 0.093588,
     "end_time": "2022-03-11T23:13:40.969297",
     "exception": false,
     "start_time": "2022-03-11T23:13:40.875709",
     "status": "completed"
    },
    "tags": []
   },
   "outputs": [],
   "source": [
    "def get_accuracy(trained_model,X, y):\n",
    "    predicted = trained_model.predict(X)\n",
    "    accuracy = np.mean(predicted == y)\n",
    "    return accuracy"
   ]
  },
  {
   "cell_type": "code",
   "execution_count": 31,
   "id": "da4e291c",
   "metadata": {
    "execution": {
     "iopub.execute_input": "2022-03-11T23:13:41.146233Z",
     "iopub.status.busy": "2022-03-11T23:13:41.145523Z",
     "iopub.status.idle": "2022-03-11T23:13:41.147892Z",
     "shell.execute_reply": "2022-03-11T23:13:41.147469Z",
     "shell.execute_reply.started": "2022-03-11T22:01:17.58991Z"
    },
    "papermill": {
     "duration": 0.092077,
     "end_time": "2022-03-11T23:13:41.148017",
     "exception": false,
     "start_time": "2022-03-11T23:13:41.055940",
     "status": "completed"
    },
    "tags": []
   },
   "outputs": [],
   "source": [
    "def get_F1(trained_model,X,y):\n",
    "    predicted=trained_model.predict(X)\n",
    "    f1=f1_score(y,predicted, average=None)\n",
    "    return f1"
   ]
  },
  {
   "cell_type": "markdown",
   "id": "7a99f32b",
   "metadata": {
    "papermill": {
     "duration": 0.086558,
     "end_time": "2022-03-11T23:13:41.320972",
     "exception": false,
     "start_time": "2022-03-11T23:13:41.234414",
     "status": "completed"
    },
    "tags": []
   },
   "source": [
    "Logistic Regression is a useful model to run early in the workflow. Logistic regression measures the relationship between the categorical dependent variable (feature) and one or more independent variables (features) by estimating probabilities using a logistic function, which is the cumulative logistic distribution. Reference [Wikipedia](https://en.wikipedia.org/wiki/Logistic_regression)."
   ]
  },
  {
   "cell_type": "code",
   "execution_count": 32,
   "id": "bfb540a3",
   "metadata": {
    "execution": {
     "iopub.execute_input": "2022-03-11T23:13:41.497634Z",
     "iopub.status.busy": "2022-03-11T23:13:41.496821Z",
     "iopub.status.idle": "2022-03-11T23:13:42.831513Z",
     "shell.execute_reply": "2022-03-11T23:13:42.831996Z",
     "shell.execute_reply.started": "2022-03-11T22:01:17.600359Z"
    },
    "papermill": {
     "duration": 1.424353,
     "end_time": "2022-03-11T23:13:42.832153",
     "exception": false,
     "start_time": "2022-03-11T23:13:41.407800",
     "status": "completed"
    },
    "tags": []
   },
   "outputs": [
    {
     "name": "stdout",
     "output_type": "stream",
     "text": [
      "Test dataset accuracy with LogisticRegression: 0.96245\n",
      "Test dataset f1-score with LogisticRegression: [0.96051571 0.96420745]\n",
      "              precision    recall  f1-score   support\n",
      "\n",
      "           0       0.97      0.95      0.96       626\n",
      "           1       0.96      0.97      0.96       679\n",
      "\n",
      "    accuracy                           0.96      1305\n",
      "   macro avg       0.96      0.96      0.96      1305\n",
      "weighted avg       0.96      0.96      0.96      1305\n",
      "\n"
     ]
    }
   ],
   "source": [
    "from sklearn.linear_model import LogisticRegression\n",
    "trained_clf_logistic_regressing = train_model(LogisticRegression(),X_train, y_train)\n",
    "y_pred=trained_clf_logistic_regressing.predict(X_test)\n",
    "accuracy_LR = get_accuracy(trained_clf_logistic_regressing,X_test, y_test)\n",
    "f1_Score=get_F1(trained_clf_logistic_regressing,X_test,y_test)\n",
    "print(f\"Test dataset accuracy with LogisticRegression: {accuracy_LR:.5f}\")\n",
    "print(\"Test dataset f1-score with LogisticRegression:\",f1_Score)\n",
    "print(classification_report(y_test, y_pred))"
   ]
  },
  {
   "cell_type": "markdown",
   "id": "0e62f302",
   "metadata": {
    "papermill": {
     "duration": 0.086822,
     "end_time": "2022-03-11T23:13:43.007244",
     "exception": false,
     "start_time": "2022-03-11T23:13:42.920422",
     "status": "completed"
    },
    "tags": []
   },
   "source": [
    "In pattern recognition, the k-Nearest Neighbors algorithm (or k-NN for short) is a non-parametric method used for classification and regression. A sample is classified by a majority vote of its neighbors, with the sample being assigned to the class most common among its k nearest neighbors (k is a positive integer, typically small). If k = 1, then the object is simply assigned to the class of that single nearest neighbor. Reference [Wikipedia](https://en.wikipedia.org/wiki/K-nearest_neighbors_algorithm)."
   ]
  },
  {
   "cell_type": "code",
   "execution_count": 33,
   "id": "e6813028",
   "metadata": {
    "execution": {
     "iopub.execute_input": "2022-03-11T23:13:43.186729Z",
     "iopub.status.busy": "2022-03-11T23:13:43.186121Z",
     "iopub.status.idle": "2022-03-11T23:13:44.917127Z",
     "shell.execute_reply": "2022-03-11T23:13:44.917598Z",
     "shell.execute_reply.started": "2022-03-11T22:01:18.757097Z"
    },
    "papermill": {
     "duration": 1.823126,
     "end_time": "2022-03-11T23:13:44.917752",
     "exception": false,
     "start_time": "2022-03-11T23:13:43.094626",
     "status": "completed"
    },
    "tags": []
   },
   "outputs": [
    {
     "name": "stdout",
     "output_type": "stream",
     "text": [
      "Test dataset accuracy with kNeighbor: 0.87050\n",
      "Test dataset f1-score with kNeighbor: [0.85690093 0.88173548]\n",
      "              precision    recall  f1-score   support\n",
      "\n",
      "           0       0.91      0.81      0.86       626\n",
      "           1       0.84      0.93      0.88       679\n",
      "\n",
      "    accuracy                           0.87      1305\n",
      "   macro avg       0.88      0.87      0.87      1305\n",
      "weighted avg       0.87      0.87      0.87      1305\n",
      "\n"
     ]
    }
   ],
   "source": [
    "from sklearn.neighbors import KNeighborsClassifier\n",
    "trained_clf_kNeighbor = train_model(KNeighborsClassifier(),X_train, y_train)\n",
    "y_pred=trained_clf_kNeighbor.predict(X_test)\n",
    "accuracy_KN = get_accuracy(trained_clf_kNeighbor,X_test, y_test)\n",
    "f1_Score=get_F1(trained_clf_kNeighbor,X_test,y_test)\n",
    "print(f\"Test dataset accuracy with kNeighbor: {accuracy_KN:.5f}\")\n",
    "print(\"Test dataset f1-score with kNeighbor:\",f1_Score)\n",
    "print(classification_report(y_test, y_pred))"
   ]
  },
  {
   "cell_type": "markdown",
   "id": "4eb7b375",
   "metadata": {
    "papermill": {
     "duration": 0.0894,
     "end_time": "2022-03-11T23:13:45.096044",
     "exception": false,
     "start_time": "2022-03-11T23:13:45.006644",
     "status": "completed"
    },
    "tags": []
   },
   "source": [
    "This model uses a decision tree as a predictive model which maps features (tree branches) to conclusions about the target value (tree leaves). Tree models where the target variable can take a finite set of values are called classification trees; in these tree structures, leaves represent class labels and branches represent conjunctions of features that lead to those class labels. Decision trees where the target variable can take continuous values (typically real numbers) are called regression trees. Reference [Wikipedia](https://en.wikipedia.org/wiki/Decision_tree_learning)."
   ]
  },
  {
   "cell_type": "code",
   "execution_count": 34,
   "id": "18874ae7",
   "metadata": {
    "execution": {
     "iopub.execute_input": "2022-03-11T23:13:45.277188Z",
     "iopub.status.busy": "2022-03-11T23:13:45.276536Z",
     "iopub.status.idle": "2022-03-11T23:13:46.683184Z",
     "shell.execute_reply": "2022-03-11T23:13:46.682664Z",
     "shell.execute_reply.started": "2022-03-11T22:01:20.676439Z"
    },
    "papermill": {
     "duration": 1.499912,
     "end_time": "2022-03-11T23:13:46.683320",
     "exception": false,
     "start_time": "2022-03-11T23:13:45.183408",
     "status": "completed"
    },
    "tags": []
   },
   "outputs": [
    {
     "name": "stdout",
     "output_type": "stream",
     "text": [
      "Test dataset accuracy with DecisionTreeClassifier: 0.94100\n",
      "Test dataset f1-score with DecisionTreeClassifier: [0.93755069 0.94408134]\n",
      "              precision    recall  f1-score   support\n",
      "\n",
      "           0       0.95      0.92      0.94       626\n",
      "           1       0.93      0.96      0.94       679\n",
      "\n",
      "    accuracy                           0.94      1305\n",
      "   macro avg       0.94      0.94      0.94      1305\n",
      "weighted avg       0.94      0.94      0.94      1305\n",
      "\n"
     ]
    }
   ],
   "source": [
    "from sklearn.tree import DecisionTreeClassifier\n",
    "trained_clf_decision_tree = train_model(DecisionTreeClassifier(),X_train, y_train)\n",
    "y_pred=trained_clf_decision_tree.predict(X_test)\n",
    "accuracy_DT = get_accuracy(trained_clf_decision_tree,X_test, y_test)\n",
    "f1_Score=get_F1(trained_clf_decision_tree,X_test,y_test)\n",
    "print(f\"Test dataset accuracy with DecisionTreeClassifier: {accuracy_DT:.5f}\")\n",
    "print(\"Test dataset f1-score with DecisionTreeClassifier:\",f1_Score)\n",
    "print(classification_report(y_test, y_pred))"
   ]
  },
  {
   "cell_type": "markdown",
   "id": "2454f724",
   "metadata": {
    "papermill": {
     "duration": 0.08933,
     "end_time": "2022-03-11T23:13:46.861882",
     "exception": false,
     "start_time": "2022-03-11T23:13:46.772552",
     "status": "completed"
    },
    "tags": []
   },
   "source": [
    "In machine learning, naive Bayes classifiers are a family of simple probabilistic classifiers based on applying Bayes' theorem with strong (naive) independence assumptions between the features. Naive Bayes classifiers are highly scalable, requiring a number of parameters linear in the number of variables (features) in a learning problem. Reference [Wikipedia](https://en.wikipedia.org/wiki/Naive_Bayes_classifier)."
   ]
  },
  {
   "cell_type": "code",
   "execution_count": 35,
   "id": "47eb079e",
   "metadata": {
    "execution": {
     "iopub.execute_input": "2022-03-11T23:13:47.044699Z",
     "iopub.status.busy": "2022-03-11T23:13:47.043910Z",
     "iopub.status.idle": "2022-03-11T23:13:47.885738Z",
     "shell.execute_reply": "2022-03-11T23:13:47.886187Z",
     "shell.execute_reply.started": "2022-03-11T22:01:22.076753Z"
    },
    "papermill": {
     "duration": 0.934971,
     "end_time": "2022-03-11T23:13:47.886338",
     "exception": false,
     "start_time": "2022-03-11T23:13:46.951367",
     "status": "completed"
    },
    "tags": []
   },
   "outputs": [
    {
     "name": "stdout",
     "output_type": "stream",
     "text": [
      "Test dataset accuracy with MultinomialNB: 0.91648\n",
      "Test dataset f1-score with DecisionTreeClassifier: [0.90659811 0.92446292]\n",
      "              precision    recall  f1-score   support\n",
      "\n",
      "           0       0.98      0.85      0.91       626\n",
      "           1       0.87      0.98      0.92       679\n",
      "\n",
      "    accuracy                           0.92      1305\n",
      "   macro avg       0.93      0.91      0.92      1305\n",
      "weighted avg       0.92      0.92      0.92      1305\n",
      "\n"
     ]
    }
   ],
   "source": [
    "from sklearn.naive_bayes import MultinomialNB\n",
    "trained_clf_multinomial_nb = train_model(MultinomialNB(), X_train, y_train)\n",
    "y_pred=trained_clf_multinomial_nb.predict(X_test)\n",
    "accuracy_NB = get_accuracy(trained_clf_multinomial_nb,X_test, y_test)\n",
    "f1_Score=get_F1(trained_clf_multinomial_nb,X_test,y_test)\n",
    "print(f\"Test dataset accuracy with MultinomialNB: {accuracy_NB:.5f}\")\n",
    "print(\"Test dataset f1-score with DecisionTreeClassifier:\",f1_Score)\n",
    "print(classification_report(y_test, y_pred))"
   ]
  },
  {
   "cell_type": "markdown",
   "id": "b7f3bb9b",
   "metadata": {
    "papermill": {
     "duration": 0.090044,
     "end_time": "2022-03-11T23:13:48.065337",
     "exception": false,
     "start_time": "2022-03-11T23:13:47.975293",
     "status": "completed"
    },
    "tags": []
   },
   "source": [
    "Next we model using Support Vector Machines which are supervised learning models with associated learning algorithms that analyze data used for classification and regression analysis. Given a set of training samples, each marked as belonging to one or the other of two categories, an SVM training algorithm builds a model that assigns new test samples to one category or the other, making it a non-probabilistic binary linear classifier. Reference [Wikipedia](https://en.wikipedia.org/wiki/Support_vector_machine)."
   ]
  },
  {
   "cell_type": "code",
   "execution_count": 36,
   "id": "e624906d",
   "metadata": {
    "execution": {
     "iopub.execute_input": "2022-03-11T23:13:48.251248Z",
     "iopub.status.busy": "2022-03-11T23:13:48.244774Z",
     "iopub.status.idle": "2022-03-11T23:13:59.213239Z",
     "shell.execute_reply": "2022-03-11T23:13:59.213683Z",
     "shell.execute_reply.started": "2022-03-11T22:01:23.189273Z"
    },
    "papermill": {
     "duration": 11.059393,
     "end_time": "2022-03-11T23:13:59.213851",
     "exception": false,
     "start_time": "2022-03-11T23:13:48.154458",
     "status": "completed"
    },
    "tags": []
   },
   "outputs": [
    {
     "name": "stdout",
     "output_type": "stream",
     "text": [
      "Test dataset accuracy with SVC: 0.97241\n",
      "Test dataset f1-score with SVC: [0.97115385 0.97356828]\n",
      "              precision    recall  f1-score   support\n",
      "\n",
      "           0       0.97      0.97      0.97       626\n",
      "           1       0.97      0.98      0.97       679\n",
      "\n",
      "    accuracy                           0.97      1305\n",
      "   macro avg       0.97      0.97      0.97      1305\n",
      "weighted avg       0.97      0.97      0.97      1305\n",
      "\n"
     ]
    }
   ],
   "source": [
    "from sklearn.svm import SVC\n",
    "trained_clf_SVC = train_model(SVC(), X_train, y_train)\n",
    "y_pred=trained_clf_SVC.predict(X_test)\n",
    "accuracy_SVC = get_accuracy(trained_clf_SVC,X_test, y_test)\n",
    "f1_Score=get_F1(trained_clf_SVC,X_test,y_test)\n",
    "print(f\"Test dataset accuracy with SVC: {accuracy_SVC:.5f}\")\n",
    "print(\"Test dataset f1-score with SVC:\",f1_Score)\n",
    "print(classification_report(y_test, y_pred))"
   ]
  },
  {
   "cell_type": "markdown",
   "id": "78fd5a4c",
   "metadata": {
    "papermill": {
     "duration": 0.087862,
     "end_time": "2022-03-11T23:13:59.389773",
     "exception": false,
     "start_time": "2022-03-11T23:13:59.301911",
     "status": "completed"
    },
    "tags": []
   },
   "source": [
    "The next model Random Forests is one of the most popular. Random forests or random decision forests are an ensemble learning method for classification, regression and other tasks, that operate by constructing a multitude of decision trees at training time and outputting the class that is the mode of the classes (classification) or mean prediction (regression) of the individual trees. Reference [Wikipedia](https://en.wikipedia.org/wiki/Random_forest)."
   ]
  },
  {
   "cell_type": "code",
   "execution_count": 37,
   "id": "f9dd40e6",
   "metadata": {
    "execution": {
     "iopub.execute_input": "2022-03-11T23:13:59.577513Z",
     "iopub.status.busy": "2022-03-11T23:13:59.576922Z",
     "iopub.status.idle": "2022-03-11T23:14:01.704185Z",
     "shell.execute_reply": "2022-03-11T23:14:01.703721Z",
     "shell.execute_reply.started": "2022-03-11T22:01:34.410823Z"
    },
    "papermill": {
     "duration": 2.223626,
     "end_time": "2022-03-11T23:14:01.704318",
     "exception": false,
     "start_time": "2022-03-11T23:13:59.480692",
     "status": "completed"
    },
    "tags": []
   },
   "outputs": [
    {
     "name": "stdout",
     "output_type": "stream",
     "text": [
      "Test dataset accuracy with RandomForestClassifier: 0.97241\n",
      "Test dataset f1-score with RandomForestClassifier: [0.97096774 0.97372263]\n",
      "              precision    recall  f1-score   support\n",
      "\n",
      "           0       0.98      0.96      0.97       626\n",
      "           1       0.97      0.98      0.97       679\n",
      "\n",
      "    accuracy                           0.97      1305\n",
      "   macro avg       0.97      0.97      0.97      1305\n",
      "weighted avg       0.97      0.97      0.97      1305\n",
      "\n"
     ]
    }
   ],
   "source": [
    "from sklearn.ensemble import RandomForestClassifier\n",
    "trained_clf_random_forest = train_model(RandomForestClassifier(), X_train, y_train)\n",
    "y_pred=trained_clf_random_forest.predict(X_test)\n",
    "accuracy_RF = get_accuracy(trained_clf_random_forest,X_test, y_test)\n",
    "f1_Score=get_F1(trained_clf_random_forest,X_test,y_test)\n",
    "print(f\"Test dataset accuracy with RandomForestClassifier: {accuracy_RF:.5f}\")\n",
    "print(\"Test dataset f1-score with RandomForestClassifier:\",f1_Score)\n",
    "print(classification_report(y_test, y_pred))"
   ]
  },
  {
   "cell_type": "markdown",
   "id": "70cd1d6f",
   "metadata": {
    "papermill": {
     "duration": 0.093733,
     "end_time": "2022-03-11T23:14:01.892034",
     "exception": false,
     "start_time": "2022-03-11T23:14:01.798301",
     "status": "completed"
    },
    "tags": []
   },
   "source": [
    "We finish off with XGBoost which is also one of the most popular machine learning algorithm these days. Regardless of the type of prediction task at hand; regression or classification.XGBoost is a decision-tree-based ensemble Machine Learning algorithm that uses a gradient boosting framework. In prediction problems involving unstructured data (images, text, etc.) artificial neural networks tend to outperform all other algorithms or frameworks Reference [Wikipedia](https://en.wikipedia.org/wiki/XGBoost)"
   ]
  },
  {
   "cell_type": "code",
   "execution_count": 38,
   "id": "98422c60",
   "metadata": {
    "execution": {
     "iopub.execute_input": "2022-03-11T23:14:02.079271Z",
     "iopub.status.busy": "2022-03-11T23:14:02.078739Z",
     "iopub.status.idle": "2022-03-11T23:14:10.297484Z",
     "shell.execute_reply": "2022-03-11T23:14:10.296831Z",
     "shell.execute_reply.started": "2022-03-11T22:01:36.552825Z"
    },
    "papermill": {
     "duration": 8.314225,
     "end_time": "2022-03-11T23:14:10.297655",
     "exception": false,
     "start_time": "2022-03-11T23:14:01.983430",
     "status": "completed"
    },
    "tags": []
   },
   "outputs": [
    {
     "name": "stdout",
     "output_type": "stream",
     "text": [
      "[23:14:05] WARNING: ../src/learner.cc:1115: Starting in XGBoost 1.3.0, the default evaluation metric used with the objective 'binary:logistic' was changed from 'error' to 'logloss'. Explicitly set eval_metric if you'd like to restore the old behavior.\n",
      "Test dataset accuracy with trained_clf_XGB: 0.97778\n",
      "Test dataset f1-score with trained_clf_XGB: [0.97666935 0.97878566]\n",
      "              precision    recall  f1-score   support\n",
      "\n",
      "           0       0.98      0.97      0.98       626\n",
      "           1       0.97      0.99      0.98       679\n",
      "\n",
      "    accuracy                           0.98      1305\n",
      "   macro avg       0.98      0.98      0.98      1305\n",
      "weighted avg       0.98      0.98      0.98      1305\n",
      "\n"
     ]
    }
   ],
   "source": [
    "from xgboost import XGBClassifier\n",
    "trained_clf_XGB = train_model(XGBClassifier(learning_rate=0.2,use_label_encoder=False), X_train, y_train)\n",
    "y_pred=trained_clf_XGB.predict(X_test)\n",
    "accuracy_xgb = get_accuracy(trained_clf_XGB,X_test, y_test)\n",
    "f1_Score=get_F1(trained_clf_XGB,X_test,y_test)\n",
    "print(f\"Test dataset accuracy with trained_clf_XGB: {accuracy_xgb:.5f}\")\n",
    "print(\"Test dataset f1-score with trained_clf_XGB:\",f1_Score)\n",
    "print(classification_report(y_test, y_pred))"
   ]
  },
  {
   "cell_type": "markdown",
   "id": "3303e7fe",
   "metadata": {
    "papermill": {
     "duration": 0.146639,
     "end_time": "2022-03-11T23:14:10.595978",
     "exception": false,
     "start_time": "2022-03-11T23:14:10.449339",
     "status": "completed"
    },
    "tags": []
   },
   "source": [
    "**Conclusion**"
   ]
  },
  {
   "cell_type": "code",
   "execution_count": 39,
   "id": "8b86bb6b",
   "metadata": {
    "execution": {
     "iopub.execute_input": "2022-03-11T23:14:10.900565Z",
     "iopub.status.busy": "2022-03-11T23:14:10.899793Z",
     "iopub.status.idle": "2022-03-11T23:14:10.917394Z",
     "shell.execute_reply": "2022-03-11T23:14:10.918361Z",
     "shell.execute_reply.started": "2022-03-11T22:01:43.287647Z"
    },
    "papermill": {
     "duration": 0.175266,
     "end_time": "2022-03-11T23:14:10.918539",
     "exception": false,
     "start_time": "2022-03-11T23:14:10.743273",
     "status": "completed"
    },
    "tags": []
   },
   "outputs": [
    {
     "data": {
      "text/html": [
       "<div>\n",
       "<style scoped>\n",
       "    .dataframe tbody tr th:only-of-type {\n",
       "        vertical-align: middle;\n",
       "    }\n",
       "\n",
       "    .dataframe tbody tr th {\n",
       "        vertical-align: top;\n",
       "    }\n",
       "\n",
       "    .dataframe thead th {\n",
       "        text-align: right;\n",
       "    }\n",
       "</style>\n",
       "<table border=\"1\" class=\"dataframe\">\n",
       "  <thead>\n",
       "    <tr style=\"text-align: right;\">\n",
       "      <th></th>\n",
       "      <th>Model</th>\n",
       "      <th>Score</th>\n",
       "    </tr>\n",
       "  </thead>\n",
       "  <tbody>\n",
       "    <tr>\n",
       "      <th>0</th>\n",
       "      <td>Xtreme Gradient Boost</td>\n",
       "      <td>0.977778</td>\n",
       "    </tr>\n",
       "    <tr>\n",
       "      <th>1</th>\n",
       "      <td>Support Vector Machine</td>\n",
       "      <td>0.972414</td>\n",
       "    </tr>\n",
       "    <tr>\n",
       "      <th>2</th>\n",
       "      <td>Random Forest</td>\n",
       "      <td>0.972414</td>\n",
       "    </tr>\n",
       "    <tr>\n",
       "      <th>3</th>\n",
       "      <td>Logistic Regression</td>\n",
       "      <td>0.962452</td>\n",
       "    </tr>\n",
       "    <tr>\n",
       "      <th>4</th>\n",
       "      <td>Decision Tree</td>\n",
       "      <td>0.940996</td>\n",
       "    </tr>\n",
       "    <tr>\n",
       "      <th>5</th>\n",
       "      <td>Naive Bayes</td>\n",
       "      <td>0.916475</td>\n",
       "    </tr>\n",
       "    <tr>\n",
       "      <th>6</th>\n",
       "      <td>kNeighbours</td>\n",
       "      <td>0.870498</td>\n",
       "    </tr>\n",
       "  </tbody>\n",
       "</table>\n",
       "</div>"
      ],
      "text/plain": [
       "                    Model     Score\n",
       "0   Xtreme Gradient Boost  0.977778\n",
       "1  Support Vector Machine  0.972414\n",
       "2           Random Forest  0.972414\n",
       "3     Logistic Regression  0.962452\n",
       "4           Decision Tree  0.940996\n",
       "5             Naive Bayes  0.916475\n",
       "6             kNeighbours  0.870498"
      ]
     },
     "execution_count": 39,
     "metadata": {},
     "output_type": "execute_result"
    }
   ],
   "source": [
    "models = pd.DataFrame({\n",
    "    'Model': ['Xtreme Gradient Boost','Logistic Regression','kNeighbours','Decision Tree','Naive Bayes','Support Vector Machine','Random Forest'],\n",
    "    'Score': [accuracy_xgb,accuracy_LR,accuracy_KN,accuracy_DT,accuracy_NB,accuracy_SVC,accuracy_RF]})\n",
    "models.sort_values(by='Score', ascending=False).reset_index().drop(['index'], axis=1)"
   ]
  },
  {
   "cell_type": "markdown",
   "id": "3bc237df",
   "metadata": {
    "papermill": {
     "duration": 0.089453,
     "end_time": "2022-03-11T23:14:11.140951",
     "exception": false,
     "start_time": "2022-03-11T23:14:11.051498",
     "status": "completed"
    },
    "tags": []
   },
   "source": [
    "# **Deep Learning Approach**"
   ]
  },
  {
   "cell_type": "code",
   "execution_count": 40,
   "id": "df6b7ac1",
   "metadata": {
    "execution": {
     "iopub.execute_input": "2022-03-11T23:14:11.325763Z",
     "iopub.status.busy": "2022-03-11T23:14:11.325209Z",
     "iopub.status.idle": "2022-03-11T23:14:16.032405Z",
     "shell.execute_reply": "2022-03-11T23:14:16.031705Z",
     "shell.execute_reply.started": "2022-03-11T22:01:43.309799Z"
    },
    "papermill": {
     "duration": 4.801917,
     "end_time": "2022-03-11T23:14:16.032560",
     "exception": false,
     "start_time": "2022-03-11T23:14:11.230643",
     "status": "completed"
    },
    "tags": []
   },
   "outputs": [],
   "source": [
    "import tensorflow as tf\n",
    "from keras.preprocessing.text import Tokenizer\n",
    "from keras.preprocessing.sequence import pad_sequences\n",
    "from numpy import array\n",
    "import gensim\n",
    "from gensim.models import KeyedVectors\n",
    "from gensim.models import word2vec\n",
    "from keras.preprocessing.text import Tokenizer\n",
    "from keras.preprocessing.sequence import pad_sequences\n",
    "from keras.layers import Dense, Input, LSTM, Embedding, Dropout, Activation\n",
    "from keras.layers import Bidirectional, GlobalMaxPool1D\n",
    "from keras.models import Model\n",
    "from keras import initializers, regularizers, constraints, optimizers, layers"
   ]
  },
  {
   "cell_type": "markdown",
   "id": "c9e331bd",
   "metadata": {
    "papermill": {
     "duration": 0.094397,
     "end_time": "2022-03-11T23:14:16.220142",
     "exception": false,
     "start_time": "2022-03-11T23:14:16.125745",
     "status": "completed"
    },
    "tags": []
   },
   "source": [
    "The Tokenizer()function will split the sentence into tokens. The texts_to_sequences()convert word to integer number. "
   ]
  },
  {
   "cell_type": "code",
   "execution_count": 41,
   "id": "b02fbfa0",
   "metadata": {
    "execution": {
     "iopub.execute_input": "2022-03-11T23:14:16.430867Z",
     "iopub.status.busy": "2022-03-11T23:14:16.425781Z",
     "iopub.status.idle": "2022-03-11T23:14:16.992268Z",
     "shell.execute_reply": "2022-03-11T23:14:16.992718Z",
     "shell.execute_reply.started": "2022-03-11T22:01:44.929154Z"
    },
    "papermill": {
     "duration": 0.681894,
     "end_time": "2022-03-11T23:14:16.992880",
     "exception": false,
     "start_time": "2022-03-11T23:14:16.310986",
     "status": "completed"
    },
    "tags": []
   },
   "outputs": [],
   "source": [
    "# prepare tokenizer\n",
    "t = Tokenizer()\n",
    "t.fit_on_texts(data[\"texts\"])\n",
    "vocab_size = len(t.word_index) + 1"
   ]
  },
  {
   "cell_type": "code",
   "execution_count": 42,
   "id": "e284057f",
   "metadata": {
    "execution": {
     "iopub.execute_input": "2022-03-11T23:14:17.221706Z",
     "iopub.status.busy": "2022-03-11T23:14:17.196058Z",
     "iopub.status.idle": "2022-03-11T23:14:17.623881Z",
     "shell.execute_reply": "2022-03-11T23:14:17.623460Z",
     "shell.execute_reply.started": "2022-03-11T22:01:45.519875Z"
    },
    "papermill": {
     "duration": 0.541036,
     "end_time": "2022-03-11T23:14:17.624025",
     "exception": false,
     "start_time": "2022-03-11T23:14:17.082989",
     "status": "completed"
    },
    "tags": []
   },
   "outputs": [],
   "source": [
    "list_tokenized_train=t.texts_to_sequences(X_train)\n",
    "list_tokenized_test=t.texts_to_sequences(X_test)"
   ]
  },
  {
   "cell_type": "code",
   "execution_count": 43,
   "id": "ed8b644a",
   "metadata": {
    "execution": {
     "iopub.execute_input": "2022-03-11T23:14:17.811304Z",
     "iopub.status.busy": "2022-03-11T23:14:17.810648Z",
     "iopub.status.idle": "2022-03-11T23:14:17.813385Z",
     "shell.execute_reply": "2022-03-11T23:14:17.812910Z",
     "shell.execute_reply.started": "2022-03-11T22:01:45.977684Z"
    },
    "papermill": {
     "duration": 0.096225,
     "end_time": "2022-03-11T23:14:17.813495",
     "exception": false,
     "start_time": "2022-03-11T23:14:17.717270",
     "status": "completed"
    },
    "tags": []
   },
   "outputs": [],
   "source": [
    "#list_tokenized_train[:1] just for testing"
   ]
  },
  {
   "cell_type": "markdown",
   "id": "f6ac0ca4",
   "metadata": {
    "papermill": {
     "duration": 0.089462,
     "end_time": "2022-03-11T23:14:17.993182",
     "exception": false,
     "start_time": "2022-03-11T23:14:17.903720",
     "status": "completed"
    },
    "tags": []
   },
   "source": [
    "Checking word distribution to pick the max sentence length"
   ]
  },
  {
   "cell_type": "code",
   "execution_count": 44,
   "id": "046e669e",
   "metadata": {
    "execution": {
     "iopub.execute_input": "2022-03-11T23:14:18.190424Z",
     "iopub.status.busy": "2022-03-11T23:14:18.189416Z",
     "iopub.status.idle": "2022-03-11T23:14:18.442910Z",
     "shell.execute_reply": "2022-03-11T23:14:18.442153Z",
     "shell.execute_reply.started": "2022-03-11T22:01:45.983141Z"
    },
    "papermill": {
     "duration": 0.360251,
     "end_time": "2022-03-11T23:14:18.443048",
     "exception": false,
     "start_time": "2022-03-11T23:14:18.082797",
     "status": "completed"
    },
    "tags": []
   },
   "outputs": [
    {
     "data": {
      "image/png": "[encoded data removed]",
      "text/plain": [
       "<Figure size 432x288 with 1 Axes>"
      ]
     },
     "metadata": {
      "needs_background": "light"
     },
     "output_type": "display_data"
    }
   ],
   "source": [
    "totalNumWords = [len(one_comment) for one_comment in list_tokenized_train]\n",
    "plt.hist(totalNumWords,bins = np.arange(0,600,10))\n",
    "plt.show()"
   ]
  },
  {
   "cell_type": "markdown",
   "id": "86e0db68",
   "metadata": {
    "papermill": {
     "duration": 0.090327,
     "end_time": "2022-03-11T23:14:18.623766",
     "exception": false,
     "start_time": "2022-03-11T23:14:18.533439",
     "status": "completed"
    },
    "tags": []
   },
   "source": [
    "Most words have a length around 120 and all are less than 600 its a big number but better pick 580 to prevent any information loss"
   ]
  },
  {
   "cell_type": "code",
   "execution_count": 45,
   "id": "c6dfe8ec",
   "metadata": {
    "execution": {
     "iopub.execute_input": "2022-03-11T23:14:18.810428Z",
     "iopub.status.busy": "2022-03-11T23:14:18.809513Z",
     "iopub.status.idle": "2022-03-11T23:14:18.874536Z",
     "shell.execute_reply": "2022-03-11T23:14:18.874121Z",
     "shell.execute_reply.started": "2022-03-11T22:01:46.270529Z"
    },
    "papermill": {
     "duration": 0.159659,
     "end_time": "2022-03-11T23:14:18.874646",
     "exception": false,
     "start_time": "2022-03-11T23:14:18.714987",
     "status": "completed"
    },
    "tags": []
   },
   "outputs": [],
   "source": [
    "maxlen = 580\n",
    "X_t = pad_sequences(list_tokenized_train, maxlen=maxlen)\n",
    "X_te = pad_sequences(list_tokenized_test, maxlen=maxlen)"
   ]
  },
  {
   "cell_type": "markdown",
   "id": "5c26d813",
   "metadata": {
    "papermill": {
     "duration": 0.090662,
     "end_time": "2022-03-11T23:14:19.056352",
     "exception": false,
     "start_time": "2022-03-11T23:14:18.965690",
     "status": "completed"
    },
    "tags": []
   },
   "source": [
    "**LSTM**\n"
   ]
  },
  {
   "cell_type": "code",
   "execution_count": 46,
   "id": "dc6a430f",
   "metadata": {
    "execution": {
     "iopub.execute_input": "2022-03-11T23:14:19.243204Z",
     "iopub.status.busy": "2022-03-11T23:14:19.242642Z",
     "iopub.status.idle": "2022-03-11T23:14:23.567302Z",
     "shell.execute_reply": "2022-03-11T23:14:23.566816Z",
     "shell.execute_reply.started": "2022-03-11T22:02:07.459318Z"
    },
    "papermill": {
     "duration": 4.421238,
     "end_time": "2022-03-11T23:14:23.567432",
     "exception": false,
     "start_time": "2022-03-11T23:14:19.146194",
     "status": "completed"
    },
    "tags": []
   },
   "outputs": [
    {
     "name": "stderr",
     "output_type": "stream",
     "text": [
      "2022-03-11 23:14:19.278258: I tensorflow/stream_executor/cuda/cuda_gpu_executor.cc:937] successful NUMA node read from SysFS had negative value (-1), but there must be at least one NUMA node, so returning NUMA node zero\n",
      "2022-03-11 23:14:19.279394: I tensorflow/stream_executor/cuda/cuda_gpu_executor.cc:937] successful NUMA node read from SysFS had negative value (-1), but there must be at least one NUMA node, so returning NUMA node zero\n",
      "2022-03-11 23:14:19.280068: I tensorflow/stream_executor/cuda/cuda_gpu_executor.cc:937] successful NUMA node read from SysFS had negative value (-1), but there must be at least one NUMA node, so returning NUMA node zero\n",
      "2022-03-11 23:14:19.280807: I tensorflow/core/platform/cpu_feature_guard.cc:142] This TensorFlow binary is optimized with oneAPI Deep Neural Network Library (oneDNN) to use the following CPU instructions in performance-critical operations:  AVX2 AVX512F FMA\n",
      "To enable them in other operations, rebuild TensorFlow with the appropriate compiler flags.\n",
      "2022-03-11 23:14:19.281823: I tensorflow/stream_executor/cuda/cuda_gpu_executor.cc:937] successful NUMA node read from SysFS had negative value (-1), but there must be at least one NUMA node, so returning NUMA node zero\n",
      "2022-03-11 23:14:19.282519: I tensorflow/stream_executor/cuda/cuda_gpu_executor.cc:937] successful NUMA node read from SysFS had negative value (-1), but there must be at least one NUMA node, so returning NUMA node zero\n",
      "2022-03-11 23:14:19.283173: I tensorflow/stream_executor/cuda/cuda_gpu_executor.cc:937] successful NUMA node read from SysFS had negative value (-1), but there must be at least one NUMA node, so returning NUMA node zero\n",
      "2022-03-11 23:14:22.995113: I tensorflow/stream_executor/cuda/cuda_gpu_executor.cc:937] successful NUMA node read from SysFS had negative value (-1), but there must be at least one NUMA node, so returning NUMA node zero\n",
      "2022-03-11 23:14:22.995859: I tensorflow/stream_executor/cuda/cuda_gpu_executor.cc:937] successful NUMA node read from SysFS had negative value (-1), but there must be at least one NUMA node, so returning NUMA node zero\n",
      "2022-03-11 23:14:22.996518: I tensorflow/stream_executor/cuda/cuda_gpu_executor.cc:937] successful NUMA node read from SysFS had negative value (-1), but there must be at least one NUMA node, so returning NUMA node zero\n",
      "2022-03-11 23:14:22.997101: I tensorflow/core/common_runtime/gpu/gpu_device.cc:1510] Created device /job:localhost/replica:0/task:0/device:GPU:0 with 15191 MB memory:  -> device: 0, name: Tesla P100-PCIE-16GB, pci bus id: 0000:00:04.0, compute capability: 6.0\n"
     ]
    }
   ],
   "source": [
    "inp = Input(shape=(maxlen, ))\n",
    "embed_size = 100\n",
    "x = Embedding(vocab_size, embed_size)(inp)\n",
    "x = LSTM(100, return_sequences=True,name='lstm_layer')(x)\n",
    "x = GlobalMaxPool1D()(x)\n",
    "x = Dropout(0.1)(x)\n",
    "x = Dense(50, activation=\"relu\")(x)\n",
    "#x = Dropout(0.1)(x)\n",
    "x = Dense(1, activation=\"sigmoid\")(x)"
   ]
  },
  {
   "cell_type": "code",
   "execution_count": 47,
   "id": "6b04627d",
   "metadata": {
    "execution": {
     "iopub.execute_input": "2022-03-11T23:14:23.756713Z",
     "iopub.status.busy": "2022-03-11T23:14:23.755925Z",
     "iopub.status.idle": "2022-03-11T23:14:23.767222Z",
     "shell.execute_reply": "2022-03-11T23:14:23.766798Z",
     "shell.execute_reply.started": "2022-03-11T22:01:47.489938Z"
    },
    "papermill": {
     "duration": 0.107768,
     "end_time": "2022-03-11T23:14:23.767343",
     "exception": false,
     "start_time": "2022-03-11T23:14:23.659575",
     "status": "completed"
    },
    "tags": []
   },
   "outputs": [],
   "source": [
    "model = Model(inputs=inp, outputs=x)\n",
    "model.compile(loss='binary_crossentropy',optimizer='adam',metrics=['accuracy'])"
   ]
  },
  {
   "cell_type": "code",
   "execution_count": 48,
   "id": "51f4266c",
   "metadata": {
    "execution": {
     "iopub.execute_input": "2022-03-11T23:14:23.955656Z",
     "iopub.status.busy": "2022-03-11T23:14:23.954843Z",
     "iopub.status.idle": "2022-03-11T23:14:23.960478Z",
     "shell.execute_reply": "2022-03-11T23:14:23.959865Z",
     "shell.execute_reply.started": "2022-03-11T22:01:47.491938Z"
    },
    "papermill": {
     "duration": 0.102534,
     "end_time": "2022-03-11T23:14:23.960616",
     "exception": false,
     "start_time": "2022-03-11T23:14:23.858082",
     "status": "completed"
    },
    "tags": []
   },
   "outputs": [
    {
     "name": "stdout",
     "output_type": "stream",
     "text": [
      "Model: \"model\"\n",
      "_________________________________________________________________\n",
      "Layer (type)                 Output Shape              Param #   \n",
      "=================================================================\n",
      "input_1 (InputLayer)         [(None, 580)]             0         \n",
      "_________________________________________________________________\n",
      "embedding (Embedding)        (None, 580, 100)          2524900   \n",
      "_________________________________________________________________\n",
      "lstm_layer (LSTM)            (None, 580, 100)          80400     \n",
      "_________________________________________________________________\n",
      "global_max_pooling1d (Global (None, 100)               0         \n",
      "_________________________________________________________________\n",
      "dropout (Dropout)            (None, 100)               0         \n",
      "_________________________________________________________________\n",
      "dense (Dense)                (None, 50)                5050      \n",
      "_________________________________________________________________\n",
      "dense_1 (Dense)              (None, 1)                 51        \n",
      "=================================================================\n",
      "Total params: 2,610,401\n",
      "Trainable params: 2,610,401\n",
      "Non-trainable params: 0\n",
      "_________________________________________________________________\n",
      "None\n"
     ]
    }
   ],
   "source": [
    "print(model.summary())"
   ]
  },
  {
   "cell_type": "code",
   "execution_count": 49,
   "id": "55a5d375",
   "metadata": {
    "execution": {
     "iopub.execute_input": "2022-03-11T23:14:24.148406Z",
     "iopub.status.busy": "2022-03-11T23:14:24.147630Z",
     "iopub.status.idle": "2022-03-11T23:14:52.727317Z",
     "shell.execute_reply": "2022-03-11T23:14:52.726811Z",
     "shell.execute_reply.started": "2022-03-11T22:01:47.493573Z"
    },
    "papermill": {
     "duration": 28.673695,
     "end_time": "2022-03-11T23:14:52.727449",
     "exception": false,
     "start_time": "2022-03-11T23:14:24.053754",
     "status": "completed"
    },
    "tags": []
   },
   "outputs": [
    {
     "name": "stderr",
     "output_type": "stream",
     "text": [
      "2022-03-11 23:14:24.198050: I tensorflow/compiler/mlir/mlir_graph_optimization_pass.cc:185] None of the MLIR Optimization Passes are enabled (registered 2)\n"
     ]
    },
    {
     "name": "stdout",
     "output_type": "stream",
     "text": [
      "Epoch 1/10\n"
     ]
    },
    {
     "name": "stderr",
     "output_type": "stream",
     "text": [
      "2022-03-11 23:14:26.661772: I tensorflow/stream_executor/cuda/cuda_dnn.cc:369] Loaded cuDNN version 8005\n"
     ]
    },
    {
     "name": "stdout",
     "output_type": "stream",
     "text": [
      "86/86 [==============================] - 6s 33ms/step - loss: 0.6041 - accuracy: 0.7549 - val_loss: 0.2768 - val_accuracy: 0.9016\n",
      "Epoch 2/10\n",
      "86/86 [==============================] - 2s 28ms/step - loss: 0.1240 - accuracy: 0.9682 - val_loss: 0.1438 - val_accuracy: 0.9672\n",
      "Epoch 3/10\n",
      "86/86 [==============================] - 2s 28ms/step - loss: 0.0596 - accuracy: 0.9887 - val_loss: 0.1048 - val_accuracy: 0.9705\n",
      "Epoch 4/10\n",
      "86/86 [==============================] - 2s 29ms/step - loss: 0.0495 - accuracy: 0.9890 - val_loss: 0.1437 - val_accuracy: 0.9639\n",
      "Epoch 5/10\n",
      "86/86 [==============================] - 2s 28ms/step - loss: 0.0336 - accuracy: 0.9920 - val_loss: 0.1792 - val_accuracy: 0.9607\n",
      "Epoch 6/10\n",
      "86/86 [==============================] - 3s 30ms/step - loss: 0.0231 - accuracy: 0.9960 - val_loss: 0.1515 - val_accuracy: 0.9607\n",
      "Epoch 7/10\n",
      "86/86 [==============================] - 2s 28ms/step - loss: 0.0135 - accuracy: 0.9971 - val_loss: 0.2068 - val_accuracy: 0.9607\n",
      "Epoch 8/10\n",
      "86/86 [==============================] - 2s 29ms/step - loss: 0.0339 - accuracy: 0.9894 - val_loss: 0.0982 - val_accuracy: 0.9738\n",
      "Epoch 9/10\n",
      "86/86 [==============================] - 2s 29ms/step - loss: 0.0092 - accuracy: 0.9971 - val_loss: 0.1421 - val_accuracy: 0.9672\n",
      "Epoch 10/10\n",
      "86/86 [==============================] - 2s 28ms/step - loss: 0.0012 - accuracy: 1.0000 - val_loss: 0.1594 - val_accuracy: 0.9738\n"
     ]
    },
    {
     "data": {
      "text/plain": [
       "<keras.callbacks.History at 0x7f461023e350>"
      ]
     },
     "execution_count": 49,
     "metadata": {},
     "output_type": "execute_result"
    }
   ],
   "source": [
    "model.fit(X_t,y_train, batch_size=32, epochs=10, validation_split=0.1)"
   ]
  },
  {
   "cell_type": "code",
   "execution_count": 50,
   "id": "88f4026d",
   "metadata": {
    "execution": {
     "iopub.execute_input": "2022-03-11T23:14:53.193275Z",
     "iopub.status.busy": "2022-03-11T23:14:53.191709Z",
     "iopub.status.idle": "2022-03-11T23:14:53.193886Z",
     "shell.execute_reply": "2022-03-11T23:14:53.194317Z",
     "shell.execute_reply.started": "2022-03-11T22:01:47.495572Z"
    },
    "papermill": {
     "duration": 0.234743,
     "end_time": "2022-03-11T23:14:53.194450",
     "exception": false,
     "start_time": "2022-03-11T23:14:52.959707",
     "status": "completed"
    },
    "tags": []
   },
   "outputs": [],
   "source": [
    "#preds = model.predict(X_te, batch_size=32)\n",
    "#print(preds)"
   ]
  },
  {
   "cell_type": "code",
   "execution_count": null,
   "id": "4b9f1958",
   "metadata": {
    "papermill": {
     "duration": 0.249514,
     "end_time": "2022-03-11T23:14:53.672496",
     "exception": false,
     "start_time": "2022-03-11T23:14:53.422982",
     "status": "completed"
    },
    "tags": []
   },
   "outputs": [],
   "source": []
  },
  {
   "cell_type": "code",
   "execution_count": 51,
   "id": "82d12cd2",
   "metadata": {
    "execution": {
     "iopub.execute_input": "2022-03-11T23:14:54.135285Z",
     "iopub.status.busy": "2022-03-11T23:14:54.134375Z",
     "iopub.status.idle": "2022-03-11T23:14:54.600353Z",
     "shell.execute_reply": "2022-03-11T23:14:54.601469Z",
     "shell.execute_reply.started": "2022-03-11T22:01:47.497232Z"
    },
    "papermill": {
     "duration": 0.7018,
     "end_time": "2022-03-11T23:14:54.601697",
     "exception": false,
     "start_time": "2022-03-11T23:14:53.899897",
     "status": "completed"
    },
    "tags": []
   },
   "outputs": [
    {
     "name": "stdout",
     "output_type": "stream",
     "text": [
      "acc: 0.96858\n"
     ]
    }
   ],
   "source": [
    "loss,acc = model.evaluate(X_te,y_test, verbose = 0, batch_size = 32)\n",
    "print(\"acc: %.5f\" % (acc))"
   ]
  },
  {
   "cell_type": "markdown",
   "id": "c1e1d199",
   "metadata": {
    "papermill": {
     "duration": 0.252728,
     "end_time": "2022-03-11T23:14:55.116557",
     "exception": false,
     "start_time": "2022-03-11T23:14:54.863829",
     "status": "completed"
    },
    "tags": []
   },
   "source": [
    "**LSTM with a pretrained word2vec model aravec**"
   ]
  },
  {
   "cell_type": "markdown",
   "id": "05ca250d",
   "metadata": {
    "papermill": {
     "duration": 0.22847,
     "end_time": "2022-03-11T23:14:55.573216",
     "exception": false,
     "start_time": "2022-03-11T23:14:55.344746",
     "status": "completed"
    },
    "tags": []
   },
   "source": [
    "loading the AraVec Skip-gram word embedding "
   ]
  },
  {
   "cell_type": "code",
   "execution_count": 52,
   "id": "652401b0",
   "metadata": {
    "execution": {
     "iopub.execute_input": "2022-03-11T23:14:56.040729Z",
     "iopub.status.busy": "2022-03-11T23:14:56.040161Z",
     "iopub.status.idle": "2022-03-11T23:16:14.372245Z",
     "shell.execute_reply": "2022-03-11T23:16:14.372671Z",
     "shell.execute_reply.started": "2022-03-11T22:01:47.499086Z"
    },
    "papermill": {
     "duration": 78.568483,
     "end_time": "2022-03-11T23:16:14.372837",
     "exception": false,
     "start_time": "2022-03-11T23:14:55.804354",
     "status": "completed"
    },
    "tags": []
   },
   "outputs": [],
   "source": [
    "w2v_embeddings_index={}\n",
    "TOTAL_EMBEDDING_DIM=300\n",
    "embeddings_file='../input/aravec-documents/full_grams_sg_300_twitter/full_grams_sg_300_twitter.mdl'\n",
    "w2v_model =KeyedVectors.load(embeddings_file)\n"
   ]
  },
  {
   "cell_type": "code",
   "execution_count": 53,
   "id": "b3a8ceb1",
   "metadata": {
    "execution": {
     "iopub.execute_input": "2022-03-11T23:16:14.889760Z",
     "iopub.status.busy": "2022-03-11T23:16:14.888932Z",
     "iopub.status.idle": "2022-03-11T23:16:14.891543Z",
     "shell.execute_reply": "2022-03-11T23:16:14.891123Z",
     "shell.execute_reply.started": "2022-03-11T22:01:47.500947Z"
    },
    "papermill": {
     "duration": 0.286073,
     "end_time": "2022-03-11T23:16:14.891657",
     "exception": false,
     "start_time": "2022-03-11T23:16:14.605584",
     "status": "completed"
    },
    "tags": []
   },
   "outputs": [],
   "source": [
    "words = list(w2v_model.wv.index_to_key)"
   ]
  },
  {
   "cell_type": "code",
   "execution_count": 54,
   "id": "8b587ed5",
   "metadata": {
    "execution": {
     "iopub.execute_input": "2022-03-11T23:16:15.412848Z",
     "iopub.status.busy": "2022-03-11T23:16:15.397597Z",
     "iopub.status.idle": "2022-03-11T23:16:19.131842Z",
     "shell.execute_reply": "2022-03-11T23:16:19.131353Z",
     "shell.execute_reply.started": "2022-03-11T22:01:47.502406Z"
    },
    "papermill": {
     "duration": 4.01097,
     "end_time": "2022-03-11T23:16:19.132000",
     "exception": false,
     "start_time": "2022-03-11T23:16:15.121030",
     "status": "completed"
    },
    "tags": []
   },
   "outputs": [],
   "source": [
    "w2v_embeddings_index={}\n",
    "for key in words:\n",
    "    w2v_embeddings_index[key] =w2v_model.wv.get_vector(key)"
   ]
  },
  {
   "cell_type": "code",
   "execution_count": 55,
   "id": "7405562b",
   "metadata": {
    "execution": {
     "iopub.execute_input": "2022-03-11T23:16:19.596283Z",
     "iopub.status.busy": "2022-03-11T23:16:19.595632Z",
     "iopub.status.idle": "2022-03-11T23:16:19.598914Z",
     "shell.execute_reply": "2022-03-11T23:16:19.599518Z",
     "shell.execute_reply.started": "2022-03-11T22:01:47.506356Z"
    },
    "papermill": {
     "duration": 0.238295,
     "end_time": "2022-03-11T23:16:19.599732",
     "exception": false,
     "start_time": "2022-03-11T23:16:19.361437",
     "status": "completed"
    },
    "tags": []
   },
   "outputs": [
    {
     "name": "stdout",
     "output_type": "stream",
     "text": [
      "Loaded 1476715 word vectors.\n"
     ]
    }
   ],
   "source": [
    "print(\"Loaded %s word vectors.\"% len(w2v_embeddings_index))"
   ]
  },
  {
   "cell_type": "markdown",
   "id": "a0cae0e9",
   "metadata": {
    "papermill": {
     "duration": 0.230622,
     "end_time": "2022-03-11T23:16:20.061711",
     "exception": false,
     "start_time": "2022-03-11T23:16:19.831089",
     "status": "completed"
    },
    "tags": []
   },
   "source": [
    "create a weight matrix for words in training docs"
   ]
  },
  {
   "cell_type": "code",
   "execution_count": 56,
   "id": "b6e61482",
   "metadata": {
    "execution": {
     "iopub.execute_input": "2022-03-11T23:16:20.522779Z",
     "iopub.status.busy": "2022-03-11T23:16:20.522003Z",
     "iopub.status.idle": "2022-03-11T23:16:20.557977Z",
     "shell.execute_reply": "2022-03-11T23:16:20.557560Z",
     "shell.execute_reply.started": "2022-03-11T22:01:47.508342Z"
    },
    "papermill": {
     "duration": 0.268473,
     "end_time": "2022-03-11T23:16:20.558102",
     "exception": false,
     "start_time": "2022-03-11T23:16:20.289629",
     "status": "completed"
    },
    "tags": []
   },
   "outputs": [],
   "source": [
    "embedding_matrix = np.zeros((vocab_size, TOTAL_EMBEDDING_DIM))\n",
    "for word, i in t.word_index.items():\n",
    "    embedding_vector = w2v_embeddings_index.get(word)\n",
    "    if embedding_vector is not None:\n",
    "        embedding_matrix[i] = embedding_vector"
   ]
  },
  {
   "cell_type": "code",
   "execution_count": 57,
   "id": "6d0f032b",
   "metadata": {
    "execution": {
     "iopub.execute_input": "2022-03-11T23:16:21.021642Z",
     "iopub.status.busy": "2022-03-11T23:16:21.020081Z",
     "iopub.status.idle": "2022-03-11T23:16:21.024316Z",
     "shell.execute_reply": "2022-03-11T23:16:21.023595Z",
     "shell.execute_reply.started": "2022-03-11T22:01:47.510225Z"
    },
    "papermill": {
     "duration": 0.237051,
     "end_time": "2022-03-11T23:16:21.024439",
     "exception": false,
     "start_time": "2022-03-11T23:16:20.787388",
     "status": "completed"
    },
    "tags": []
   },
   "outputs": [
    {
     "name": "stdout",
     "output_type": "stream",
     "text": [
      "Embedding Matrix shape: (25249, 300)\n"
     ]
    }
   ],
   "source": [
    "print(\"Embedding Matrix shape:\", embedding_matrix.shape)"
   ]
  },
  {
   "cell_type": "markdown",
   "id": "cd842c8d",
   "metadata": {
    "papermill": {
     "duration": 0.229902,
     "end_time": "2022-03-11T23:16:21.484276",
     "exception": false,
     "start_time": "2022-03-11T23:16:21.254374",
     "status": "completed"
    },
    "tags": []
   },
   "source": [
    "The embedding layer is seeded by AraVec word embedding weight. The 300-dimensional Twitter Skip-gram version 3 was chosen. Therefore, the embedding layer defend with output_dim equal to 300."
   ]
  },
  {
   "cell_type": "code",
   "execution_count": 58,
   "id": "5760fc9b",
   "metadata": {
    "execution": {
     "iopub.execute_input": "2022-03-11T23:16:21.950300Z",
     "iopub.status.busy": "2022-03-11T23:16:21.949578Z",
     "iopub.status.idle": "2022-03-11T23:16:22.365425Z",
     "shell.execute_reply": "2022-03-11T23:16:22.364390Z",
     "shell.execute_reply.started": "2022-03-11T22:01:47.511968Z"
    },
    "papermill": {
     "duration": 0.650901,
     "end_time": "2022-03-11T23:16:22.365566",
     "exception": false,
     "start_time": "2022-03-11T23:16:21.714665",
     "status": "completed"
    },
    "tags": []
   },
   "outputs": [],
   "source": [
    "embedding_layer = tf.keras.layers.Embedding(vocab_size, TOTAL_EMBEDDING_DIM, weights=[embedding_matrix], input_length=maxlen, trainable=False)"
   ]
  },
  {
   "cell_type": "code",
   "execution_count": 59,
   "id": "cac0ba81",
   "metadata": {
    "execution": {
     "iopub.execute_input": "2022-03-11T23:16:22.834996Z",
     "iopub.status.busy": "2022-03-11T23:16:22.834456Z",
     "iopub.status.idle": "2022-03-11T23:16:23.223137Z",
     "shell.execute_reply": "2022-03-11T23:16:23.223562Z",
     "shell.execute_reply.started": "2022-03-11T22:01:47.513853Z"
    },
    "papermill": {
     "duration": 0.627362,
     "end_time": "2022-03-11T23:16:23.223726",
     "exception": false,
     "start_time": "2022-03-11T23:16:22.596364",
     "status": "completed"
    },
    "tags": []
   },
   "outputs": [],
   "source": [
    "input_placeholder= Input(shape=(maxlen,))\n",
    "input_embedding = embedding_layer(input_placeholder)\n",
    "lstm= LSTM(100, return_sequences=True,name='lstm_layer_2')(input_embedding)\n",
    "y = GlobalMaxPool1D()(lstm)\n",
    "#y = Dropout(0.1)(y)\n",
    "y = Dense(50, activation=\"relu\")(lstm)\n",
    "y = Dropout(0.1)(y)\n",
    "preds = Dense(1, activation='sigmoid', name = 'activation')(y)\n",
    "modelaravec = Model(inputs=input_placeholder, outputs=preds)"
   ]
  },
  {
   "cell_type": "code",
   "execution_count": 60,
   "id": "921d9903",
   "metadata": {
    "execution": {
     "iopub.execute_input": "2022-03-11T23:16:23.690312Z",
     "iopub.status.busy": "2022-03-11T23:16:23.689637Z",
     "iopub.status.idle": "2022-03-11T23:16:23.694461Z",
     "shell.execute_reply": "2022-03-11T23:16:23.694866Z",
     "shell.execute_reply.started": "2022-03-11T22:01:47.515639Z"
    },
    "papermill": {
     "duration": 0.241176,
     "end_time": "2022-03-11T23:16:23.695018",
     "exception": false,
     "start_time": "2022-03-11T23:16:23.453842",
     "status": "completed"
    },
    "tags": []
   },
   "outputs": [],
   "source": [
    "modelaravec.compile(loss='binary_crossentropy', optimizer='adam', metrics=['accuracy'])"
   ]
  },
  {
   "cell_type": "code",
   "execution_count": 61,
   "id": "91dde8bc",
   "metadata": {
    "execution": {
     "iopub.execute_input": "2022-03-11T23:16:24.158763Z",
     "iopub.status.busy": "2022-03-11T23:16:24.157942Z",
     "iopub.status.idle": "2022-03-11T23:16:24.159906Z",
     "shell.execute_reply": "2022-03-11T23:16:24.160310Z",
     "shell.execute_reply.started": "2022-03-11T22:01:47.517557Z"
    },
    "papermill": {
     "duration": 0.234332,
     "end_time": "2022-03-11T23:16:24.160448",
     "exception": false,
     "start_time": "2022-03-11T23:16:23.926116",
     "status": "completed"
    },
    "tags": []
   },
   "outputs": [],
   "source": [
    "#modelaravec.fit(X_t,y_train, batch_size=32, epochs=25, validation_split=0.1)"
   ]
  },
  {
   "cell_type": "code",
   "execution_count": 62,
   "id": "c8b0ab68",
   "metadata": {
    "execution": {
     "iopub.execute_input": "2022-03-11T23:16:24.625984Z",
     "iopub.status.busy": "2022-03-11T23:16:24.624372Z",
     "iopub.status.idle": "2022-03-11T23:16:24.633843Z",
     "shell.execute_reply": "2022-03-11T23:16:24.635469Z",
     "shell.execute_reply.started": "2022-03-11T22:01:47.519264Z"
    },
    "papermill": {
     "duration": 0.245586,
     "end_time": "2022-03-11T23:16:24.635644",
     "exception": false,
     "start_time": "2022-03-11T23:16:24.390058",
     "status": "completed"
    },
    "tags": []
   },
   "outputs": [
    {
     "name": "stdout",
     "output_type": "stream",
     "text": [
      "Model: \"model_1\"\n",
      "_________________________________________________________________\n",
      "Layer (type)                 Output Shape              Param #   \n",
      "=================================================================\n",
      "input_2 (InputLayer)         [(None, 580)]             0         \n",
      "_________________________________________________________________\n",
      "embedding_1 (Embedding)      (None, 580, 300)          7574700   \n",
      "_________________________________________________________________\n",
      "lstm_layer_2 (LSTM)          (None, 580, 100)          160400    \n",
      "_________________________________________________________________\n",
      "dense_2 (Dense)              (None, 580, 50)           5050      \n",
      "_________________________________________________________________\n",
      "dropout_1 (Dropout)          (None, 580, 50)           0         \n",
      "_________________________________________________________________\n",
      "activation (Dense)           (None, 580, 1)            51        \n",
      "=================================================================\n",
      "Total params: 7,740,201\n",
      "Trainable params: 165,501\n",
      "Non-trainable params: 7,574,700\n",
      "_________________________________________________________________\n",
      "None\n"
     ]
    }
   ],
   "source": [
    "print(modelaravec.summary())"
   ]
  },
  {
   "cell_type": "code",
   "execution_count": 63,
   "id": "3da79120",
   "metadata": {
    "execution": {
     "iopub.execute_input": "2022-03-11T23:16:25.118153Z",
     "iopub.status.busy": "2022-03-11T23:16:25.117039Z",
     "iopub.status.idle": "2022-03-11T23:16:38.767684Z",
     "shell.execute_reply": "2022-03-11T23:16:38.768129Z",
     "shell.execute_reply.started": "2022-03-11T22:01:47.521223Z"
    },
    "papermill": {
     "duration": 13.886635,
     "end_time": "2022-03-11T23:16:38.768284",
     "exception": false,
     "start_time": "2022-03-11T23:16:24.881649",
     "status": "completed"
    },
    "tags": []
   },
   "outputs": [
    {
     "name": "stdout",
     "output_type": "stream",
     "text": [
      "Epoch 1/5\n",
      "77/77 [==============================] - 4s 36ms/step - loss: 0.6573 - accuracy: 0.5688 - val_loss: 0.6874 - val_accuracy: 0.5114\n",
      "Epoch 2/5\n",
      "77/77 [==============================] - 2s 30ms/step - loss: 0.6509 - accuracy: 0.5706 - val_loss: 0.6120 - val_accuracy: 0.5918\n",
      "Epoch 3/5\n",
      "77/77 [==============================] - 2s 30ms/step - loss: 0.6201 - accuracy: 0.5964 - val_loss: 0.7344 - val_accuracy: 0.5327\n",
      "Epoch 4/5\n",
      "77/77 [==============================] - 2s 30ms/step - loss: 0.6223 - accuracy: 0.5961 - val_loss: 0.6393 - val_accuracy: 0.5826\n",
      "Epoch 5/5\n",
      "77/77 [==============================] - 2s 31ms/step - loss: 0.6026 - accuracy: 0.5995 - val_loss: 0.5926 - val_accuracy: 0.6019\n"
     ]
    },
    {
     "data": {
      "text/plain": [
       "<keras.callbacks.History at 0x7f41a9b7d490>"
      ]
     },
     "execution_count": 63,
     "metadata": {},
     "output_type": "execute_result"
    }
   ],
   "source": [
    "modelaravec.fit(X_t,y_train, batch_size=32, epochs=5, validation_split=0.2)"
   ]
  },
  {
   "cell_type": "code",
   "execution_count": 64,
   "id": "99cda08f",
   "metadata": {
    "execution": {
     "iopub.execute_input": "2022-03-11T23:16:39.369249Z",
     "iopub.status.busy": "2022-03-11T23:16:39.368364Z",
     "iopub.status.idle": "2022-03-11T23:16:39.886928Z",
     "shell.execute_reply": "2022-03-11T23:16:39.886390Z",
     "shell.execute_reply.started": "2022-03-11T22:01:47.52299Z"
    },
    "papermill": {
     "duration": 0.820146,
     "end_time": "2022-03-11T23:16:39.887142",
     "exception": false,
     "start_time": "2022-03-11T23:16:39.066996",
     "status": "completed"
    },
    "tags": []
   },
   "outputs": [
    {
     "name": "stdout",
     "output_type": "stream",
     "text": [
      "Accuracy: 0.592710\n"
     ]
    }
   ],
   "source": [
    "loss,accuracy = modelaravec.evaluate(X_te,y_test,verbose=0)\n",
    "print(\"Accuracy: %5f\" % (accuracy))"
   ]
  },
  {
   "cell_type": "markdown",
   "id": "b02b025c",
   "metadata": {
    "papermill": {
     "duration": 0.342878,
     "end_time": "2022-03-11T23:16:40.527747",
     "exception": false,
     "start_time": "2022-03-11T23:16:40.184869",
     "status": "completed"
    },
    "tags": []
   },
   "source": [
    "# **Transformers Approach**"
   ]
  },
  {
   "cell_type": "markdown",
   "id": "cc782ff6",
   "metadata": {
    "papermill": {
     "duration": 0.293708,
     "end_time": "2022-03-11T23:16:41.117141",
     "exception": false,
     "start_time": "2022-03-11T23:16:40.823433",
     "status": "completed"
    },
    "tags": []
   },
   "source": [
    "using bert pretrained model bert-base-arabic\n",
    "https://github.com/alisafaya/Arabic-BERT"
   ]
  },
  {
   "cell_type": "code",
   "execution_count": 65,
   "id": "653a1c2b",
   "metadata": {
    "execution": {
     "iopub.execute_input": "2022-03-11T23:16:41.718038Z",
     "iopub.status.busy": "2022-03-11T23:16:41.717000Z",
     "iopub.status.idle": "2022-03-11T23:16:49.232857Z",
     "shell.execute_reply": "2022-03-11T23:16:49.232160Z",
     "shell.execute_reply.started": "2022-03-11T22:01:47.524752Z"
    },
    "papermill": {
     "duration": 7.824709,
     "end_time": "2022-03-11T23:16:49.233066",
     "exception": false,
     "start_time": "2022-03-11T23:16:41.408357",
     "status": "completed"
    },
    "tags": []
   },
   "outputs": [
    {
     "name": "stdout",
     "output_type": "stream",
     "text": [
      "Requirement already satisfied: transformers in /opt/conda/lib/python3.7/site-packages (4.15.0)\r\n",
      "Requirement already satisfied: importlib-metadata in /opt/conda/lib/python3.7/site-packages (from transformers) (4.10.1)\r\n",
      "Requirement already satisfied: requests in /opt/conda/lib/python3.7/site-packages (from transformers) (2.26.0)\r\n",
      "Requirement already satisfied: tqdm>=4.27 in /opt/conda/lib/python3.7/site-packages (from transformers) (4.62.3)\r\n",
      "Requirement already satisfied: regex!=2019.12.17 in /opt/conda/lib/python3.7/site-packages (from transformers) (2021.11.10)\r\n",
      "Requirement already satisfied: tokenizers<0.11,>=0.10.1 in /opt/conda/lib/python3.7/site-packages (from transformers) (0.10.3)\r\n",
      "Requirement already satisfied: pyyaml>=5.1 in /opt/conda/lib/python3.7/site-packages (from transformers) (6.0)\r\n",
      "Requirement already satisfied: huggingface-hub<1.0,>=0.1.0 in /opt/conda/lib/python3.7/site-packages (from transformers) (0.2.1)\r\n",
      "Requirement already satisfied: sacremoses in /opt/conda/lib/python3.7/site-packages (from transformers) (0.0.47)\r\n",
      "Requirement already satisfied: numpy>=1.17 in /opt/conda/lib/python3.7/site-packages (from transformers) (1.20.3)\r\n",
      "Requirement already satisfied: filelock in /opt/conda/lib/python3.7/site-packages (from transformers) (3.4.2)\r\n",
      "Requirement already satisfied: packaging>=20.0 in /opt/conda/lib/python3.7/site-packages (from transformers) (21.3)\r\n",
      "Requirement already satisfied: typing-extensions>=3.7.4.3 in /opt/conda/lib/python3.7/site-packages (from huggingface-hub<1.0,>=0.1.0->transformers) (4.0.1)\r\n",
      "Requirement already satisfied: pyparsing!=3.0.5,>=2.0.2 in /opt/conda/lib/python3.7/site-packages (from packaging>=20.0->transformers) (3.0.6)\r\n",
      "Requirement already satisfied: zipp>=0.5 in /opt/conda/lib/python3.7/site-packages (from importlib-metadata->transformers) (3.6.0)\r\n",
      "Requirement already satisfied: idna<4,>=2.5 in /opt/conda/lib/python3.7/site-packages (from requests->transformers) (3.1)\r\n",
      "Requirement already satisfied: urllib3<1.27,>=1.21.1 in /opt/conda/lib/python3.7/site-packages (from requests->transformers) (1.26.7)\r\n",
      "Requirement already satisfied: charset-normalizer~=2.0.0 in /opt/conda/lib/python3.7/site-packages (from requests->transformers) (2.0.9)\r\n",
      "Requirement already satisfied: certifi>=2017.4.17 in /opt/conda/lib/python3.7/site-packages (from requests->transformers) (2021.10.8)\r\n",
      "Requirement already satisfied: click in /opt/conda/lib/python3.7/site-packages (from sacremoses->transformers) (8.0.3)\r\n",
      "Requirement already satisfied: joblib in /opt/conda/lib/python3.7/site-packages (from sacremoses->transformers) (1.1.0)\r\n",
      "Requirement already satisfied: six in /opt/conda/lib/python3.7/site-packages (from sacremoses->transformers) (1.16.0)\r\n",
      "\u001b[33mWARNING: Running pip as the 'root' user can result in broken permissions and conflicting behaviour with the system package manager. It is recommended to use a virtual environment instead: https://pip.pypa.io/warnings/venv\u001b[0m\r\n"
     ]
    }
   ],
   "source": [
    "!pip install transformers"
   ]
  },
  {
   "cell_type": "code",
   "execution_count": 66,
   "id": "cb0a4cda",
   "metadata": {
    "execution": {
     "iopub.execute_input": "2022-03-11T23:16:50.157686Z",
     "iopub.status.busy": "2022-03-11T23:16:50.156918Z",
     "iopub.status.idle": "2022-03-11T22:01:47.527361Z",
     "shell.execute_reply": "2022-03-11T22:01:47.527107Z",
     "shell.execute_reply.started": "2022-03-11T22:01:47.527079Z"
    },
    "papermill": {
     "duration": 25.445704,
     "end_time": "2022-03-11T23:17:15.180881",
     "exception": false,
     "start_time": "2022-03-11T23:16:49.735177",
     "status": "completed"
    },
    "tags": []
   },
   "outputs": [
    {
     "data": {
      "application/vnd.jupyter.widget-view+json": {
       "model_id": "ac8de94c3780475597d533d4e4d722b1",
       "version_major": 2,
       "version_minor": 0
      },
      "text/plain": [
       "Downloading:   0%|          | 0.00/62.0 [00:00<?, ?B/s]"
      ]
     },
     "metadata": {},
     "output_type": "display_data"
    },
    {
     "data": {
      "application/vnd.jupyter.widget-view+json": {
       "model_id": "3264a4a3b587464eaa7df0376624b006",
       "version_major": 2,
       "version_minor": 0
      },
      "text/plain": [
       "Downloading:   0%|          | 0.00/491 [00:00<?, ?B/s]"
      ]
     },
     "metadata": {},
     "output_type": "display_data"
    },
    {
     "data": {
      "application/vnd.jupyter.widget-view+json": {
       "model_id": "86669b6f3f414f01b913f86a319b78cf",
       "version_major": 2,
       "version_minor": 0
      },
      "text/plain": [
       "Downloading:   0%|          | 0.00/326k [00:00<?, ?B/s]"
      ]
     },
     "metadata": {},
     "output_type": "display_data"
    },
    {
     "data": {
      "application/vnd.jupyter.widget-view+json": {
       "model_id": "6121b6e000bc46fc91e6623437c023f2",
       "version_major": 2,
       "version_minor": 0
      },
      "text/plain": [
       "Downloading:   0%|          | 0.00/112 [00:00<?, ?B/s]"
      ]
     },
     "metadata": {},
     "output_type": "display_data"
    },
    {
     "data": {
      "application/vnd.jupyter.widget-view+json": {
       "model_id": "6484e3efc241479e8a8ab35dbbb3a972",
       "version_major": 2,
       "version_minor": 0
      },
      "text/plain": [
       "Downloading:   0%|          | 0.00/520M [00:00<?, ?B/s]"
      ]
     },
     "metadata": {},
     "output_type": "display_data"
    }
   ],
   "source": [
    "from transformers import AutoTokenizer, TFAutoModelForSequenceClassification\n",
    "\n",
    "# Mini:   asafaya/bert-mini-arabic\n",
    "# Medium: asafaya/bert-medium-arabic\n",
    "# Base:   asafaya/bert-base-arabic\n",
    "# Large:  asafaya/bert-large-arabic\n",
    "\n",
    "tokenizer = AutoTokenizer.from_pretrained(\"asafaya/bert-base-arabic\")\n",
    "arabic_bert = TFAutoModelForSequenceClassification.from_pretrained(\"asafaya/bert-base-arabic\")"
   ]
  },
  {
   "cell_type": "markdown",
   "id": "4aa22f7c",
   "metadata": {
    "papermill": {
     "duration": null,
     "end_time": null,
     "exception": null,
     "start_time": null,
     "status": "completed"
    },
    "tags": []
   },
   "source": [
    "prepare the data according to the format needed for the BERT model"
   ]
  },
  {
   "cell_type": "markdown",
   "id": "ea065b98",
   "metadata": {
    "papermill": {
     "duration": null,
     "end_time": null,
     "exception": null,
     "start_time": null,
     "status": "completed"
    },
    "tags": []
   },
   "source": [
    "The encode_plus  function of the tokenizer class will tokenize the raw input, add the special tokens, and pad the vector to a size equal to max length (that we can set).\n",
    "\n"
   ]
  },
  {
   "cell_type": "code",
   "execution_count": null,
   "id": "f20976ce",
   "metadata": {
    "execution": {
     "iopub.status.busy": "2022-03-11T22:01:47.528755Z",
     "iopub.status.idle": "2022-03-11T22:01:47.529189Z",
     "shell.execute_reply": "2022-03-11T22:01:47.528971Z",
     "shell.execute_reply.started": "2022-03-11T22:01:47.528948Z"
    },
    "papermill": {
     "duration": null,
     "end_time": null,
     "exception": null,
     "start_time": null,
     "status": "completed"
    },
    "tags": []
   },
   "outputs": [],
   "source": [
    "def convert_text_to_feature(text):\n",
    "  return tokenizer.encode_plus(text,\n",
    "                add_special_tokens = True, # add [CLS], [SEP]\n",
    "                max_length = max_length, # max length of the text that can go to BERT\n",
    "                pad_to_max_length = True, # add [PAD] tokens\n",
    "                return_attention_mask = True, # add attention mask to not focus on pad tokens\n",
    "              )"
   ]
  },
  {
   "cell_type": "code",
   "execution_count": null,
   "id": "36dec891",
   "metadata": {
    "execution": {
     "iopub.status.busy": "2022-03-11T22:01:47.531135Z",
     "iopub.status.idle": "2022-03-11T22:01:47.531698Z",
     "shell.execute_reply": "2022-03-11T22:01:47.531471Z",
     "shell.execute_reply.started": "2022-03-11T22:01:47.531448Z"
    },
    "papermill": {
     "duration": null,
     "end_time": null,
     "exception": null,
     "start_time": null,
     "status": "completed"
    },
    "tags": []
   },
   "outputs": [],
   "source": [
    "max_length = 150\n",
    "batch_size = 32"
   ]
  },
  {
   "cell_type": "markdown",
   "id": "85e1163b",
   "metadata": {
    "papermill": {
     "duration": null,
     "end_time": null,
     "exception": null,
     "start_time": null,
     "status": "completed"
    },
    "tags": []
   },
   "source": [
    "The following helper functions will help us to transform our raw data to an appropriate format ready to feed into the BERT model"
   ]
  },
  {
   "cell_type": "code",
   "execution_count": null,
   "id": "44119084",
   "metadata": {
    "execution": {
     "iopub.status.busy": "2022-03-11T22:01:47.532985Z",
     "iopub.status.idle": "2022-03-11T22:01:47.533423Z",
     "shell.execute_reply": "2022-03-11T22:01:47.533201Z",
     "shell.execute_reply.started": "2022-03-11T22:01:47.533178Z"
    },
    "papermill": {
     "duration": null,
     "end_time": null,
     "exception": null,
     "start_time": null,
     "status": "completed"
    },
    "tags": []
   },
   "outputs": [],
   "source": [
    "def map_example_to_dict(input_ids, attention_masks, token_type_ids, label):\n",
    "  return {\n",
    "      \"input_ids\": input_ids,\n",
    "      \"token_type_ids\": token_type_ids,\n",
    "      \"attention_mask\": attention_masks,\n",
    "  }, label"
   ]
  },
  {
   "cell_type": "code",
   "execution_count": null,
   "id": "13f1304b",
   "metadata": {
    "execution": {
     "iopub.status.busy": "2022-03-11T22:01:47.534701Z",
     "iopub.status.idle": "2022-03-11T22:01:47.535307Z",
     "shell.execute_reply": "2022-03-11T22:01:47.53508Z",
     "shell.execute_reply.started": "2022-03-11T22:01:47.535056Z"
    },
    "papermill": {
     "duration": null,
     "end_time": null,
     "exception": null,
     "start_time": null,
     "status": "completed"
    },
    "tags": []
   },
   "outputs": [],
   "source": [
    "def encode_examples(data,label,limit=-1):\n",
    "  # prepare list, so that we can build up final TensorFlow dataset from slices.\n",
    "  input_ids_list = []\n",
    "  token_type_ids_list = []\n",
    "  attention_mask_list = []\n",
    "  label_list = []\n",
    "  for i in range(len(data)):\n",
    "    bert_input = convert_text_to_feature(data[i])\n",
    "    input_ids_list.append(bert_input['input_ids'])\n",
    "    token_type_ids_list.append(bert_input['token_type_ids'])\n",
    "    attention_mask_list.append(bert_input['attention_mask'])\n",
    "    label_list.append([label[i]])\n",
    "  return tf.data.Dataset.from_tensor_slices((input_ids_list, attention_mask_list, token_type_ids_list, label_list)).map(map_example_to_dict)"
   ]
  },
  {
   "cell_type": "markdown",
   "id": "a87b5af8",
   "metadata": {
    "papermill": {
     "duration": null,
     "end_time": null,
     "exception": null,
     "start_time": null,
     "status": "completed"
    },
    "tags": []
   },
   "source": [
    "Let’s form our train and test dataset"
   ]
  },
  {
   "cell_type": "code",
   "execution_count": null,
   "id": "ac070888",
   "metadata": {
    "execution": {
     "iopub.status.busy": "2022-03-11T22:01:47.538466Z",
     "iopub.status.idle": "2022-03-11T22:01:47.538878Z",
     "shell.execute_reply": "2022-03-11T22:01:47.538683Z",
     "shell.execute_reply.started": "2022-03-11T22:01:47.538661Z"
    },
    "papermill": {
     "duration": null,
     "end_time": null,
     "exception": null,
     "start_time": null,
     "status": "completed"
    },
    "tags": []
   },
   "outputs": [],
   "source": [
    "# train dataset\n",
    "ds_train_encoded = encode_examples(X_train,y_train).shuffle(1000).batch(batch_size)\n",
    "# test dataset\n",
    "ds_test_encoded = encode_examples(X_test,y_test).batch(batch_size)"
   ]
  },
  {
   "cell_type": "code",
   "execution_count": null,
   "id": "3f7c24fc",
   "metadata": {
    "execution": {
     "iopub.status.busy": "2022-03-11T22:01:47.540197Z",
     "iopub.status.idle": "2022-03-11T22:01:47.540671Z",
     "shell.execute_reply": "2022-03-11T22:01:47.540437Z",
     "shell.execute_reply.started": "2022-03-11T22:01:47.540412Z"
    },
    "papermill": {
     "duration": null,
     "end_time": null,
     "exception": null,
     "start_time": null,
     "status": "completed"
    },
    "tags": []
   },
   "outputs": [],
   "source": [
    "# recommended learning rate for Adam 5e-5, 3e-5, 2e-5\n",
    "learning_rate = 2e-5\n",
    "# we will do just 1 epoch, though multiple epochs might be better as long as we will not overfit the model\n",
    "number_of_epochs = 4\n",
    "# model initialization\n",
    "model=arabic_bert"
   ]
  },
  {
   "cell_type": "code",
   "execution_count": null,
   "id": "1cbd865b",
   "metadata": {
    "execution": {
     "iopub.status.busy": "2022-03-11T22:01:47.541902Z",
     "iopub.status.idle": "2022-03-11T22:01:47.542457Z",
     "shell.execute_reply": "2022-03-11T22:01:47.542243Z",
     "shell.execute_reply.started": "2022-03-11T22:01:47.542219Z"
    },
    "papermill": {
     "duration": null,
     "end_time": null,
     "exception": null,
     "start_time": null,
     "status": "completed"
    },
    "tags": []
   },
   "outputs": [],
   "source": [
    "# choosing Adam optimizer\n",
    "optimizer = tf.keras.optimizers.Adam(learning_rate=learning_rate, epsilon=1e-08)\n",
    "# we do not have one-hot vectors, we can use sparce categorical cross entropy and accuracy\n",
    "loss = tf.keras.losses.SparseCategoricalCrossentropy(from_logits=True)\n",
    "metric = tf.keras.metrics.SparseCategoricalAccuracy('accuracy')\n",
    "model.compile(optimizer=optimizer, loss=loss, metrics=[metric])\n"
   ]
  },
  {
   "cell_type": "code",
   "execution_count": null,
   "id": "27cb9e9b",
   "metadata": {
    "execution": {
     "iopub.status.busy": "2022-03-11T22:01:47.54406Z",
     "iopub.status.idle": "2022-03-11T22:01:47.544536Z",
     "shell.execute_reply": "2022-03-11T22:01:47.544326Z",
     "shell.execute_reply.started": "2022-03-11T22:01:47.544303Z"
    },
    "papermill": {
     "duration": null,
     "end_time": null,
     "exception": null,
     "start_time": null,
     "status": "completed"
    },
    "tags": []
   },
   "outputs": [],
   "source": [
    "bert_history = model.fit(ds_train_encoded, epochs=number_of_epochs, validation_data=ds_test_encoded)"
   ]
  },
  {
   "cell_type": "code",
   "execution_count": null,
   "id": "d995b9b4",
   "metadata": {
    "papermill": {
     "duration": null,
     "end_time": null,
     "exception": null,
     "start_time": null,
     "status": "completed"
    },
    "tags": []
   },
   "outputs": [],
   "source": [
    "loss,accuracy = bert_history.evaluate(ds_train_encoded,y_test,verbose=0)\n",
    "print(\"Accuracy: %5f\" % (accuracy))"
   ]
  }
 ],
 "metadata": {
  "kernelspec": {
   "display_name": "Python 3",
   "language": "python",
   "name": "python3"
  },
  "language_info": {
   "codemirror_mode": {
    "name": "ipython",
    "version": 3
   },
   "file_extension": ".py",
   "mimetype": "text/x-python",
   "name": "python",
   "nbconvert_exporter": "python",
   "pygments_lexer": "ipython3",
   "version": "3.6.4"
  },
  "papermill": {
   "default_parameters": {},
   "duration": 366.614133,
   "end_time": "2022-03-11T23:17:15.496539",
   "environment_variables": {},
   "exception": null,
   "input_path": "__notebook__.ipynb",
   "output_path": "__notebook__.ipynb",
   "parameters": {},
   "start_time": "2022-03-11T23:11:08.882406",
   "version": "2.3.3"
  }
 },
 "nbformat": 4,
 "nbformat_minor": 5
}
