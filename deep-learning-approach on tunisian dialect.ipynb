{
 "cells": [
  {
   "cell_type": "code",
   "execution_count": 1,
   "id": "4da982e1",
   "metadata": {
    "_cell_guid": "b1076dfc-b9ad-4769-8c92-a6c4dae69d19",
    "_uuid": "8f2839f25d086af736a60e9eeb907d3b93b6e0e5",
    "execution": {
     "iopub.execute_input": "2022-03-15T12:47:01.032464Z",
     "iopub.status.busy": "2022-03-15T12:47:01.030782Z",
     "iopub.status.idle": "2022-03-15T12:47:01.959914Z",
     "shell.execute_reply": "2022-03-15T12:47:01.960363Z",
     "shell.execute_reply.started": "2022-03-15T12:06:59.333883Z"
    },
    "papermill": {
     "duration": 0.992694,
     "end_time": "2022-03-15T12:47:01.960607",
     "exception": false,
     "start_time": "2022-03-15T12:47:00.967913",
     "status": "completed"
    },
    "tags": []
   },
   "outputs": [
    {
     "name": "stdout",
     "output_type": "stream",
     "text": [
      "/kaggle/input/wataneya-website-dataset/wataneya_data.csv\n",
      "/kaggle/input/trustnews-website-database/trustnews_data.csv\n",
      "/kaggle/input/data-to-use-to-store-values/data (1).csv\n",
      "/kaggle/input/aravec-documents/full_grams_sg_300_twitter/full_grams_sg_300_twitter.mdl\n",
      "/kaggle/input/aravec-documents/full_grams_sg_300_twitter/full_grams_sg_300_twitter.mdl.trainables.syn1neg.npy\n",
      "/kaggle/input/aravec-documents/full_grams_sg_300_twitter/full_grams_sg_300_twitter.mdl.wv.vectors.npy\n"
     ]
    }
   ],
   "source": [
    "# This Python 3 environment comes with many helpful analytics libraries installed\n",
    "# It is defined by the kaggle/python Docker image: https://github.com/kaggle/docker-python\n",
    "# For example, here's several helpful packages to load\n",
    "\n",
    "import numpy as np # linear algebra\n",
    "import pandas as pd # data processing, CSV file I/O (e.g. pd.read_csv)\n",
    "import seaborn as sns\n",
    "from sklearn.utils import shuffle\n",
    "\n",
    "# Input data files are available in the read-only \"../input/\" directory\n",
    "# For example, running this (by clicking run or pressing Shift+Enter) will list all files under the input directory\n",
    "\n",
    "import os\n",
    "for dirname, _, filenames in os.walk('/kaggle/input'):\n",
    "    for filename in filenames:\n",
    "        print(os.path.join(dirname, filename))\n",
    "\n",
    "# You can write up to 20GB to the current directory (/kaggle/working/) that gets preserved as output when you create a version using \"Save & Run All\" \n",
    "# You can also write temporary files to /kaggle/temp/, but they won't be saved outside of the current session"
   ]
  },
  {
   "cell_type": "code",
   "execution_count": 2,
   "id": "0598102e",
   "metadata": {
    "execution": {
     "iopub.execute_input": "2022-03-15T12:47:02.078890Z",
     "iopub.status.busy": "2022-03-15T12:47:02.078047Z",
     "iopub.status.idle": "2022-03-15T12:47:02.221043Z",
     "shell.execute_reply": "2022-03-15T12:47:02.220564Z",
     "shell.execute_reply.started": "2022-03-15T12:06:59.351049Z"
    },
    "papermill": {
     "duration": 0.201975,
     "end_time": "2022-03-15T12:47:02.221176",
     "exception": false,
     "start_time": "2022-03-15T12:47:02.019201",
     "status": "completed"
    },
    "tags": []
   },
   "outputs": [],
   "source": [
    "data=pd.read_csv('/kaggle/input/data-to-use-to-store-values/data (1).csv')"
   ]
  },
  {
   "cell_type": "code",
   "execution_count": 3,
   "id": "d43cda50",
   "metadata": {
    "execution": {
     "iopub.execute_input": "2022-03-15T12:47:02.395890Z",
     "iopub.status.busy": "2022-03-15T12:47:02.395049Z",
     "iopub.status.idle": "2022-03-15T12:47:02.396784Z",
     "shell.execute_reply": "2022-03-15T12:47:02.397224Z",
     "shell.execute_reply.started": "2022-03-15T12:06:59.418084Z"
    },
    "papermill": {
     "duration": 0.081686,
     "end_time": "2022-03-15T12:47:02.397355",
     "exception": false,
     "start_time": "2022-03-15T12:47:02.315669",
     "status": "completed"
    },
    "tags": []
   },
   "outputs": [],
   "source": [
    "data.drop(['Unnamed: 0'], axis=1,inplace=True)"
   ]
  },
  {
   "cell_type": "code",
   "execution_count": 4,
   "id": "0865dba2",
   "metadata": {
    "execution": {
     "iopub.execute_input": "2022-03-15T12:47:02.515909Z",
     "iopub.status.busy": "2022-03-15T12:47:02.515128Z",
     "iopub.status.idle": "2022-03-15T12:47:02.525208Z",
     "shell.execute_reply": "2022-03-15T12:47:02.525611Z",
     "shell.execute_reply.started": "2022-03-15T12:06:59.428902Z"
    },
    "papermill": {
     "duration": 0.072214,
     "end_time": "2022-03-15T12:47:02.525739",
     "exception": false,
     "start_time": "2022-03-15T12:47:02.453525",
     "status": "completed"
    },
    "tags": []
   },
   "outputs": [
    {
     "data": {
      "text/html": [
       "<div>\n",
       "<style scoped>\n",
       "    .dataframe tbody tr th:only-of-type {\n",
       "        vertical-align: middle;\n",
       "    }\n",
       "\n",
       "    .dataframe tbody tr th {\n",
       "        vertical-align: top;\n",
       "    }\n",
       "\n",
       "    .dataframe thead th {\n",
       "        text-align: right;\n",
       "    }\n",
       "</style>\n",
       "<table border=\"1\" class=\"dataframe\">\n",
       "  <thead>\n",
       "    <tr style=\"text-align: right;\">\n",
       "      <th></th>\n",
       "      <th>category</th>\n",
       "      <th>type</th>\n",
       "      <th>texts</th>\n",
       "      <th>fake</th>\n",
       "    </tr>\n",
       "  </thead>\n",
       "  <tbody>\n",
       "    <tr>\n",
       "      <th>0</th>\n",
       "      <td>ﺇﻗﺘﺼﺎﺩ</td>\n",
       "      <td>ﺻﺤﻴﺢ</td>\n",
       "      <td>سفر ولن طلع ءنف رحل ولج ونس وعد دفق لسح عرب سف...</td>\n",
       "      <td>1</td>\n",
       "    </tr>\n",
       "    <tr>\n",
       "      <th>1</th>\n",
       "      <td>ﻣﺠﺘﻤﻊ</td>\n",
       "      <td>ﻣﺨﺎﺩﻉ</td>\n",
       "      <td>لوح شرع شهد لعب عمر جزءر ليست ونس ثبت ريق روس ...</td>\n",
       "      <td>0</td>\n",
       "    </tr>\n",
       "    <tr>\n",
       "      <th>2</th>\n",
       "      <td>جهات</td>\n",
       "      <td>ﺻﺤﻴﺢ</td>\n",
       "      <td>حرق فجء جمع كمء ظله نوج رتفع درج لحررهعءشه لجم...</td>\n",
       "      <td>1</td>\n",
       "    </tr>\n",
       "    <tr>\n",
       "      <th>3</th>\n",
       "      <td>جهات</td>\n",
       "      <td>ﺻﺤﻴﺢ</td>\n",
       "      <td>سوس ولق قبض على روج خطر خدر صيل لوه جور سمم بر...</td>\n",
       "      <td>1</td>\n",
       "    </tr>\n",
       "    <tr>\n",
       "      <th>4</th>\n",
       "      <td>ﺭﻳﺎﺿﺔ</td>\n",
       "      <td>ﺯاﺋﻒ</td>\n",
       "      <td>عبد سلم لنس غدر ونس نشر مقع للكترن خبر هرب رءس...</td>\n",
       "      <td>0</td>\n",
       "    </tr>\n",
       "  </tbody>\n",
       "</table>\n",
       "</div>"
      ],
      "text/plain": [
       "  category       type                                              texts  fake\n",
       "0   ﺇﻗﺘﺼﺎﺩ     ﺻﺤﻴﺢ    سفر ولن طلع ءنف رحل ولج ونس وعد دفق لسح عرب سف...     1\n",
       "1    ﻣﺠﺘﻤﻊ    ﻣﺨﺎﺩﻉ    لوح شرع شهد لعب عمر جزءر ليست ونس ثبت ريق روس ...     0\n",
       "2     جهات     ﺻﺤﻴﺢ    حرق فجء جمع كمء ظله نوج رتفع درج لحررهعءشه لجم...     1\n",
       "3     جهات     ﺻﺤﻴﺢ    سوس ولق قبض على روج خطر خدر صيل لوه جور سمم بر...     1\n",
       "4    ﺭﻳﺎﺿﺔ     ﺯاﺋﻒ    عبد سلم لنس غدر ونس نشر مقع للكترن خبر هرب رءس...     0"
      ]
     },
     "execution_count": 4,
     "metadata": {},
     "output_type": "execute_result"
    }
   ],
   "source": [
    "data.head()"
   ]
  },
  {
   "cell_type": "markdown",
   "id": "eeaa787d",
   "metadata": {
    "papermill": {
     "duration": 0.056189,
     "end_time": "2022-03-15T12:47:02.638934",
     "exception": false,
     "start_time": "2022-03-15T12:47:02.582745",
     "status": "completed"
    },
    "tags": []
   },
   "source": [
    "# **Data Description**"
   ]
  },
  {
   "cell_type": "code",
   "execution_count": 5,
   "id": "9a549940",
   "metadata": {
    "execution": {
     "iopub.execute_input": "2022-03-15T12:47:02.793508Z",
     "iopub.status.busy": "2022-03-15T12:47:02.792693Z",
     "iopub.status.idle": "2022-03-15T12:47:02.807612Z",
     "shell.execute_reply": "2022-03-15T12:47:02.808060Z",
     "shell.execute_reply.started": "2022-03-15T12:06:59.441846Z"
    },
    "papermill": {
     "duration": 0.11306,
     "end_time": "2022-03-15T12:47:02.808194",
     "exception": false,
     "start_time": "2022-03-15T12:47:02.695134",
     "status": "completed"
    },
    "tags": []
   },
   "outputs": [
    {
     "name": "stdout",
     "output_type": "stream",
     "text": [
      "<class 'pandas.core.frame.DataFrame'>\n",
      "RangeIndex: 4348 entries, 0 to 4347\n",
      "Data columns (total 4 columns):\n",
      " #   Column    Non-Null Count  Dtype \n",
      "---  ------    --------------  ----- \n",
      " 0   category  4348 non-null   object\n",
      " 1   type      4348 non-null   object\n",
      " 2   texts     4348 non-null   object\n",
      " 3   fake      4348 non-null   int64 \n",
      "dtypes: int64(1), object(3)\n",
      "memory usage: 136.0+ KB\n"
     ]
    }
   ],
   "source": [
    "data.info()"
   ]
  },
  {
   "cell_type": "code",
   "execution_count": 6,
   "id": "74b1938f",
   "metadata": {
    "execution": {
     "iopub.execute_input": "2022-03-15T12:47:02.925788Z",
     "iopub.status.busy": "2022-03-15T12:47:02.925214Z",
     "iopub.status.idle": "2022-03-15T12:47:02.927940Z",
     "shell.execute_reply": "2022-03-15T12:47:02.928501Z",
     "shell.execute_reply.started": "2022-03-15T12:06:59.456851Z"
    },
    "papermill": {
     "duration": 0.063728,
     "end_time": "2022-03-15T12:47:02.928657",
     "exception": false,
     "start_time": "2022-03-15T12:47:02.864929",
     "status": "completed"
    },
    "tags": []
   },
   "outputs": [
    {
     "name": "stdout",
     "output_type": "stream",
     "text": [
      "Data Shape: (4348, 4)\n"
     ]
    }
   ],
   "source": [
    "print(\"Data Shape:\", data.shape)"
   ]
  },
  {
   "cell_type": "code",
   "execution_count": 7,
   "id": "eafd54ec",
   "metadata": {
    "execution": {
     "iopub.execute_input": "2022-03-15T12:47:03.049504Z",
     "iopub.status.busy": "2022-03-15T12:47:03.048681Z",
     "iopub.status.idle": "2022-03-15T12:47:03.207656Z",
     "shell.execute_reply": "2022-03-15T12:47:03.208303Z",
     "shell.execute_reply.started": "2022-03-15T12:06:59.463450Z"
    },
    "papermill": {
     "duration": 0.22131,
     "end_time": "2022-03-15T12:47:03.208438",
     "exception": false,
     "start_time": "2022-03-15T12:47:02.987128",
     "status": "completed"
    },
    "tags": []
   },
   "outputs": [
    {
     "data": {
      "text/plain": [
       "<AxesSubplot:xlabel='fake', ylabel='count'>"
      ]
     },
     "execution_count": 7,
     "metadata": {},
     "output_type": "execute_result"
    },
    {
     "data": {
      "image/png": "[encoded data removed]",
      "text/plain": [
       "<Figure size 432x288 with 1 Axes>"
      ]
     },
     "metadata": {
      "needs_background": "light"
     },
     "output_type": "display_data"
    }
   ],
   "source": [
    "sns.countplot(x='fake', data=data)"
   ]
  },
  {
   "cell_type": "code",
   "execution_count": 8,
   "id": "bc127236",
   "metadata": {
    "execution": {
     "iopub.execute_input": "2022-03-15T12:47:03.349330Z",
     "iopub.status.busy": "2022-03-15T12:47:03.348770Z",
     "iopub.status.idle": "2022-03-15T12:47:03.834417Z",
     "shell.execute_reply": "2022-03-15T12:47:03.835224Z",
     "shell.execute_reply.started": "2022-03-15T12:06:59.601646Z"
    },
    "papermill": {
     "duration": 0.554217,
     "end_time": "2022-03-15T12:47:03.835474",
     "exception": false,
     "start_time": "2022-03-15T12:47:03.281257",
     "status": "completed"
    },
    "tags": []
   },
   "outputs": [
    {
     "data": {
      "image/png": "[encoded data removed]",
      "text/plain": [
       "<Figure size 806.4x576 with 2 Axes>"
      ]
     },
     "metadata": {
      "needs_background": "light"
     },
     "output_type": "display_data"
    }
   ],
   "source": [
    "g = sns.catplot(x=\"category\", col=\"fake\",\n",
    "                data=data, kind=\"count\",\n",
    "                height=8, aspect=.7);"
   ]
  },
  {
   "cell_type": "code",
   "execution_count": 9,
   "id": "ca6feffb",
   "metadata": {
    "execution": {
     "iopub.execute_input": "2022-03-15T12:47:04.062417Z",
     "iopub.status.busy": "2022-03-15T12:47:04.061636Z",
     "iopub.status.idle": "2022-03-15T12:47:04.204618Z",
     "shell.execute_reply": "2022-03-15T12:47:04.205887Z",
     "shell.execute_reply.started": "2022-03-15T12:07:00.065236Z"
    },
    "papermill": {
     "duration": 0.258756,
     "end_time": "2022-03-15T12:47:04.206141",
     "exception": false,
     "start_time": "2022-03-15T12:47:03.947385",
     "status": "completed"
    },
    "tags": []
   },
   "outputs": [
    {
     "data": {
      "image/png": "[encoded data removed]",
      "text/plain": [
       "<Figure size 432x288 with 1 Axes>"
      ]
     },
     "metadata": {
      "needs_background": "light"
     },
     "output_type": "display_data"
    }
   ],
   "source": [
    "lista=[(data.fake == 0).sum(),(data.fake == 1).sum()]\n",
    "import matplotlib.pyplot as plt\n",
    "fig = plt.figure()\n",
    "ax = fig.add_axes([0,0,1,1])\n",
    "langs = ['0', '1']\n",
    "ax.bar(langs,lista)\n",
    "plt.show()"
   ]
  },
  {
   "cell_type": "markdown",
   "id": "7c056771",
   "metadata": {
    "papermill": {
     "duration": 0.115699,
     "end_time": "2022-03-15T12:47:04.449071",
     "exception": false,
     "start_time": "2022-03-15T12:47:04.333372",
     "status": "completed"
    },
    "tags": []
   },
   "source": [
    "# **Data Preparation**"
   ]
  },
  {
   "cell_type": "code",
   "execution_count": 10,
   "id": "cbd5de1e",
   "metadata": {
    "execution": {
     "iopub.execute_input": "2022-03-15T12:47:04.597517Z",
     "iopub.status.busy": "2022-03-15T12:47:04.595792Z",
     "iopub.status.idle": "2022-03-15T12:47:04.598189Z",
     "shell.execute_reply": "2022-03-15T12:47:04.598642Z",
     "shell.execute_reply.started": "2022-03-15T12:07:00.182363Z"
    },
    "papermill": {
     "duration": 0.076868,
     "end_time": "2022-03-15T12:47:04.598842",
     "exception": false,
     "start_time": "2022-03-15T12:47:04.521974",
     "status": "completed"
    },
    "tags": []
   },
   "outputs": [],
   "source": [
    "import string,re\n",
    "def remove_punct(text):\n",
    "    text  = \"\".join([char for char in text if char not in string.punctuation])\n",
    "    text = re.sub('[0-9]+', '', text)\n",
    "    text = re.sub('\\n', '', text)\n",
    "    text = re.sub('\\t', '', text)\n",
    "    text = re.sub('\\r', '', text)\n",
    "    return text\n"
   ]
  },
  {
   "cell_type": "code",
   "execution_count": 11,
   "id": "356ddec2",
   "metadata": {
    "execution": {
     "iopub.execute_input": "2022-03-15T12:47:04.740545Z",
     "iopub.status.busy": "2022-03-15T12:47:04.733568Z",
     "iopub.status.idle": "2022-03-15T12:47:05.119843Z",
     "shell.execute_reply": "2022-03-15T12:47:05.119324Z",
     "shell.execute_reply.started": "2022-03-15T12:07:00.190902Z"
    },
    "papermill": {
     "duration": 0.45825,
     "end_time": "2022-03-15T12:47:05.119968",
     "exception": false,
     "start_time": "2022-03-15T12:47:04.661718",
     "status": "completed"
    },
    "tags": []
   },
   "outputs": [],
   "source": [
    "data['texts'] = data['texts'].apply(lambda x: remove_punct(x))"
   ]
  },
  {
   "cell_type": "markdown",
   "id": "68a2ccbb",
   "metadata": {
    "papermill": {
     "duration": 0.058768,
     "end_time": "2022-03-15T12:47:05.242402",
     "exception": false,
     "start_time": "2022-03-15T12:47:05.183634",
     "status": "completed"
    },
    "tags": []
   },
   "source": [
    "Arabic words cleaning"
   ]
  },
  {
   "cell_type": "markdown",
   "id": "69bd7f21",
   "metadata": {
    "papermill": {
     "duration": 0.058753,
     "end_time": "2022-03-15T12:47:05.359894",
     "exception": false,
     "start_time": "2022-03-15T12:47:05.301141",
     "status": "completed"
    },
    "tags": []
   },
   "source": [
    "https://github.com/saobou/arabic-text-preprocessing/blob/master/Preprocess.ipynb"
   ]
  },
  {
   "cell_type": "code",
   "execution_count": 12,
   "id": "d4405d14",
   "metadata": {
    "_kg_hide-input": true,
    "_kg_hide-output": true,
    "execution": {
     "iopub.execute_input": "2022-03-15T12:47:05.482657Z",
     "iopub.status.busy": "2022-03-15T12:47:05.482157Z",
     "iopub.status.idle": "2022-03-15T12:47:32.194447Z",
     "shell.execute_reply": "2022-03-15T12:47:32.193984Z",
     "shell.execute_reply.started": "2022-03-15T12:07:00.635053Z"
    },
    "papermill": {
     "duration": 26.776107,
     "end_time": "2022-03-15T12:47:32.194574",
     "exception": false,
     "start_time": "2022-03-15T12:47:05.418467",
     "status": "completed"
    },
    "tags": []
   },
   "outputs": [
    {
     "name": "stdout",
     "output_type": "stream",
     "text": [
      "Requirement already satisfied: pyarabic in /opt/conda/lib/python3.7/site-packages (0.6.14)\r\n",
      "Requirement already satisfied: six>=1.14.0 in /opt/conda/lib/python3.7/site-packages (from pyarabic) (1.16.0)\r\n",
      "\u001b[33mWARNING: Running pip as the 'root' user can result in broken permissions and conflicting behaviour with the system package manager. It is recommended to use a virtual environment instead: https://pip.pypa.io/warnings/venv\u001b[0m\r\n",
      "Collecting farasapy\r\n",
      "  Downloading farasapy-0.0.14-py3-none-any.whl (11 kB)\r\n",
      "Requirement already satisfied: tqdm in /opt/conda/lib/python3.7/site-packages (from farasapy) (4.62.3)\r\n",
      "Requirement already satisfied: requests in /opt/conda/lib/python3.7/site-packages (from farasapy) (2.26.0)\r\n",
      "Requirement already satisfied: certifi>=2017.4.17 in /opt/conda/lib/python3.7/site-packages (from requests->farasapy) (2021.10.8)\r\n",
      "Requirement already satisfied: urllib3<1.27,>=1.21.1 in /opt/conda/lib/python3.7/site-packages (from requests->farasapy) (1.26.7)\r\n",
      "Requirement already satisfied: charset-normalizer~=2.0.0 in /opt/conda/lib/python3.7/site-packages (from requests->farasapy) (2.0.9)\r\n",
      "Requirement already satisfied: idna<4,>=2.5 in /opt/conda/lib/python3.7/site-packages (from requests->farasapy) (3.1)\r\n",
      "Installing collected packages: farasapy\r\n",
      "Successfully installed farasapy-0.0.14\r\n",
      "\u001b[33mWARNING: Running pip as the 'root' user can result in broken permissions and conflicting behaviour with the system package manager. It is recommended to use a virtual environment instead: https://pip.pypa.io/warnings/venv\u001b[0m\r\n",
      "Collecting tashaphyne\r\n",
      "  Downloading Tashaphyne-0.3.6-py3-none-any.whl (251 kB)\r\n",
      "     |████████████████████████████████| 251 kB 287 kB/s            \r\n",
      "\u001b[?25hRequirement already satisfied: pyarabic in /opt/conda/lib/python3.7/site-packages (from tashaphyne) (0.6.14)\r\n",
      "Requirement already satisfied: six>=1.14.0 in /opt/conda/lib/python3.7/site-packages (from pyarabic->tashaphyne) (1.16.0)\r\n",
      "Installing collected packages: tashaphyne\r\n",
      "Successfully installed tashaphyne-0.3.6\r\n",
      "\u001b[33mWARNING: Running pip as the 'root' user can result in broken permissions and conflicting behaviour with the system package manager. It is recommended to use a virtual environment instead: https://pip.pypa.io/warnings/venv\u001b[0m\r\n"
     ]
    }
   ],
   "source": [
    "!pip install pyarabic\n",
    "!pip install farasapy\n",
    "!pip install tashaphyne"
   ]
  },
  {
   "cell_type": "code",
   "execution_count": 13,
   "id": "72077843",
   "metadata": {
    "execution": {
     "iopub.execute_input": "2022-03-15T12:47:32.361778Z",
     "iopub.status.busy": "2022-03-15T12:47:32.360700Z",
     "iopub.status.idle": "2022-03-15T12:47:33.070942Z",
     "shell.execute_reply": "2022-03-15T12:47:33.070379Z",
     "shell.execute_reply.started": "2022-03-15T12:07:22.769595Z"
    },
    "papermill": {
     "duration": 0.811308,
     "end_time": "2022-03-15T12:47:33.071093",
     "exception": false,
     "start_time": "2022-03-15T12:47:32.259785",
     "status": "completed"
    },
    "tags": []
   },
   "outputs": [],
   "source": [
    "from nltk.corpus import stopwords\n",
    "from textblob import TextBlob\n",
    "\n",
    "from tashaphyne.stemming import ArabicLightStemmer\n",
    "from nltk.stem.isri import ISRIStemmer\n",
    "import tashaphyne.arabic_const as arabconst \n",
    "\n",
    "stops = set(stopwords.words(\"arabic\"))\n",
    "stop_word_comp = {\"،\",\"آض\",\"آمينَ\",\"آه\",\"آهاً\",\"آي\",\"أ\",\"أب\",\"أجل\",\"أجمع\",\"أخ\",\"أخذ\",\"أصبح\",\"أضحى\",\"أقبل\",\"أقل\",\"أكثر\",\"ألا\",\"أم\",\"أما\",\"أمامك\",\"أمامكَ\",\"أمسى\",\"أمّا\",\"أن\",\"أنا\",\"أنت\",\"أنتم\",\"أنتما\",\"أنتن\",\"أنتِ\",\"أنشأ\",\"أنّى\",\"أو\",\"أوشك\",\"أولئك\",\"أولئكم\",\"أولاء\",\"أولالك\",\"أوّهْ\",\"أي\",\"أيا\",\"أين\",\"أينما\",\"أيّ\",\"أَنَّ\",\"أََيُّ\",\"أُفٍّ\",\"إذ\",\"إذا\",\"إذاً\",\"إذما\",\"إذن\",\"إلى\",\"إليكم\",\"إليكما\",\"إليكنّ\",\"إليكَ\",\"إلَيْكَ\",\"إلّا\",\"إمّا\",\"إن\",\"إنّما\",\"إي\",\"إياك\",\"إياكم\",\"إياكما\",\"إياكن\",\"إيانا\",\"إياه\",\"إياها\",\"إياهم\",\"إياهما\",\"إياهن\",\"إياي\",\"إيهٍ\",\"إِنَّ\",\"ا\",\"ابتدأ\",\"اثر\",\"اجل\",\"احد\",\"اخرى\",\"اخلولق\",\"اذا\",\"اربعة\",\"ارتدّ\",\"استحال\",\"اطار\",\"اعادة\",\"اعلنت\",\"اف\",\"اكثر\",\"اكد\",\"الألاء\",\"الألى\",\"الا\",\"الاخيرة\",\"الان\",\"الاول\",\"الاولى\",\"التى\",\"التي\",\"الثاني\",\"الثانية\",\"الذاتي\",\"الذى\",\"الذي\",\"الذين\",\"السابق\",\"الف\",\"اللائي\",\"اللاتي\",\"اللتان\",\"اللتيا\",\"اللتين\",\"اللذان\",\"اللذين\",\"اللواتي\",\"الماضي\",\"المقبل\",\"الوقت\",\"الى\",\"اليوم\",\"اما\",\"امام\",\"امس\",\"ان\",\"انبرى\",\"انقلب\",\"انه\",\"انها\",\"او\",\"اول\",\"اي\",\"ايار\",\"ايام\",\"ايضا\",\"ب\",\"بات\",\"باسم\",\"بان\",\"بخٍ\",\"برس\",\"بسبب\",\"بسّ\",\"بشكل\",\"بضع\",\"بطآن\",\"بعد\",\"بعض\",\"بك\",\"بكم\",\"بكما\",\"بكن\",\"بل\",\"بلى\",\"بما\",\"بماذا\",\"بمن\",\"بن\",\"بنا\",\"به\",\"بها\",\"بي\",\"بيد\",\"بين\",\"بَسْ\",\"بَلْهَ\",\"بِئْسَ\",\"تانِ\",\"تانِك\",\"تبدّل\",\"تجاه\",\"تحوّل\",\"تلقاء\",\"تلك\",\"تلكم\",\"تلكما\",\"تم\",\"تينك\",\"تَيْنِ\",\"تِه\",\"تِي\",\"ثلاثة\",\"ثم\",\"ثمّ\",\"ثمّة\",\"ثُمَّ\",\"جعل\",\"جلل\",\"جميع\",\"جير\",\"حار\",\"حاشا\",\"حاليا\",\"حاي\",\"حتى\",\"حرى\",\"حسب\",\"حم\",\"حوالى\",\"حول\",\"حيث\",\"حيثما\",\"حين\",\"حيَّ\",\"حَبَّذَا\",\"حَتَّى\",\"حَذارِ\",\"خلا\",\"خلال\",\"دون\",\"دونك\",\"ذا\",\"ذات\",\"ذاك\",\"ذانك\",\"ذانِ\",\"ذلك\",\"ذلكم\",\"ذلكما\",\"ذلكن\",\"ذو\",\"ذوا\",\"ذواتا\",\"ذواتي\",\"ذيت\",\"ذينك\",\"ذَيْنِ\",\"ذِه\",\"ذِي\",\"راح\",\"رجع\",\"رويدك\",\"ريث\",\"رُبَّ\",\"زيارة\",\"سبحان\",\"سرعان\",\"سنة\",\"سنوات\",\"سوف\",\"سوى\",\"سَاءَ\",\"سَاءَمَا\",\"شبه\",\"شخصا\",\"شرع\",\"شَتَّانَ\",\"صار\",\"صباح\",\"صفر\",\"صهٍ\",\"صهْ\",\"ضد\",\"ضمن\",\"طاق\",\"طالما\",\"طفق\",\"طَق\",\"ظلّ\",\"عاد\",\"عام\",\"عاما\",\"عامة\",\"عدا\",\"عدة\",\"عدد\",\"عدم\",\"عسى\",\"عشر\",\"عشرة\",\"علق\",\"على\",\"عليك\",\"عليه\",\"عليها\",\"علًّ\",\"عن\",\"عند\",\"عندما\",\"عوض\",\"عين\",\"عَدَسْ\",\"عَمَّا\",\"غدا\",\"غير\",\"ـ\",\"ف\",\"فان\",\"فلان\",\"فو\",\"فى\",\"في\",\"فيم\",\"فيما\",\"فيه\",\"فيها\",\"قال\",\"قام\",\"قبل\",\"قد\",\"قطّ\",\"قلما\",\"قوة\",\"كأنّما\",\"كأين\",\"كأيّ\",\"كأيّن\",\"كاد\",\"كان\",\"كانت\",\"كذا\",\"كذلك\",\"كرب\",\"كل\",\"كلا\",\"كلاهما\",\"كلتا\",\"كلم\",\"كليكما\",\"كليهما\",\"كلّما\",\"كلَّا\",\"كم\",\"كما\",\"كي\",\"كيت\",\"كيف\",\"كيفما\",\"كَأَنَّ\",\"كِخ\",\"لئن\",\"لا\",\"لات\",\"لاسيما\",\"لدن\",\"لدى\",\"لعمر\",\"لقاء\",\"لك\",\"لكم\",\"لكما\",\"لكن\",\"لكنَّما\",\"لكي\",\"لكيلا\",\"للامم\",\"لم\",\"لما\",\"لمّا\",\"لن\",\"لنا\",\"له\",\"لها\",\"لو\",\"لوكالة\",\"لولا\",\"لوما\",\"لي\",\"لَسْتَ\",\"لَسْتُ\",\"لَسْتُم\",\"لَسْتُمَا\",\"لَسْتُنَّ\",\"لَسْتِ\",\"لَسْنَ\",\"لَعَلَّ\",\"لَكِنَّ\",\"لَيْتَ\",\"لَيْسَ\",\"لَيْسَا\",\"لَيْسَتَا\",\"لَيْسَتْ\",\"لَيْسُوا\",\"لَِسْنَا\",\"ما\",\"ماانفك\",\"مابرح\",\"مادام\",\"ماذا\",\"مازال\",\"مافتئ\",\"مايو\",\"متى\",\"مثل\",\"مذ\",\"مساء\",\"مع\",\"معاذ\",\"مقابل\",\"مكانكم\",\"مكانكما\",\"مكانكنّ\",\"مكانَك\",\"مليار\",\"مليون\",\"مما\",\"ممن\",\"من\",\"منذ\",\"منها\",\"مه\",\"مهما\",\"مَنْ\",\"مِن\",\"نحن\",\"نحو\",\"نعم\",\"نفس\",\"نفسه\",\"نهاية\",\"نَخْ\",\"نِعِمّا\",\"نِعْمَ\",\"ها\",\"هاؤم\",\"هاكَ\",\"هاهنا\",\"هبّ\",\"هذا\",\"هذه\",\"هكذا\",\"هل\",\"هلمَّ\",\"هلّا\",\"هم\",\"هما\",\"هن\",\"هنا\",\"هناك\",\"هنالك\",\"هو\",\"هي\",\"هيا\",\"هيت\",\"هيّا\",\"هَؤلاء\",\"هَاتانِ\",\"هَاتَيْنِ\",\"هَاتِه\",\"هَاتِي\",\"هَجْ\",\"هَذا\",\"هَذانِ\",\"هَذَيْنِ\",\"هَذِه\",\"هَذِي\",\"هَيْهَاتَ\",\"و\",\"و6\",\"وا\",\"واحد\",\"واضاف\",\"واضافت\",\"واكد\",\"وان\",\"واهاً\",\"واوضح\",\"وراءَك\",\"وفي\",\"وقال\",\"وقالت\",\"وقد\",\"وقف\",\"وكان\",\"وكانت\",\"ولا\",\"ولم\",\"ومن\",\"مَن\",\"وهو\",\"وهي\",\"ويكأنّ\",\"وَيْ\",\"وُشْكَانََ\",\"يكون\",\"يمكن\",\"يوم\",\"ّأيّان\"}\n",
    "ArListem = ArabicLightStemmer()\n",
    "\n",
    "\n",
    "def stem(text):\n",
    "    zen = TextBlob(text)\n",
    "    words = zen.words\n",
    "    cleaned = list()\n",
    "    for w in words:\n",
    "        ArListem.light_stem(w)\n",
    "        cleaned.append(ArListem.get_root())\n",
    "    return \" \".join(cleaned)\n",
    "\n",
    "import pyarabic.araby as araby\n",
    "def normalizeArabic(text):\n",
    "    text = re.sub(\"[إأٱآا]\", \"ا\", text)\n",
    "    text = re.sub(\"ى\", \"ي\", text)\n",
    "    text = re.sub(\"ؤ\", \"ء\", text)\n",
    "    text = re.sub(\"ئ\", \"ء\", text)\n",
    "    text = re.sub(\"ة\", \"ه\", text)\n",
    "    noise = re.compile(\"\"\" ّ    | # Tashdid\n",
    "                             َ    | # Fatha\n",
    "                             ً    | # Tanwin Fath\n",
    "                             ُ    | # Damma\n",
    "                             ٌ    | # Tanwin Damm\n",
    "                             ِ    | # Kasra\n",
    "                             ٍ    | # Tanwin Kasr\n",
    "                             ْ    | # Sukun\n",
    "                             ـ     # Tatwil/Kashida\n",
    "                         \"\"\", re.VERBOSE)\n",
    "    text = re.sub(noise, '', text)\n",
    "    text = re.sub(r'(.)\\1+', r\"\\1\\1\", text) # Remove longation\n",
    "    return araby.strip_tashkeel(text)\n",
    "\n",
    "def remove_stop_words(text):\n",
    "    zen = TextBlob(text)\n",
    "    words = zen.words\n",
    "    return \" \".join([w for w in words if not w in stops and not w in stop_word_comp and len(w) >= 2])"
   ]
  },
  {
   "cell_type": "markdown",
   "id": "61ff6ba0",
   "metadata": {
    "papermill": {
     "duration": 0.063536,
     "end_time": "2022-03-15T12:47:33.199886",
     "exception": false,
     "start_time": "2022-03-15T12:47:33.136350",
     "status": "completed"
    },
    "tags": []
   },
   "source": [
    "Trying examples"
   ]
  },
  {
   "cell_type": "code",
   "execution_count": 14,
   "id": "13c1063e",
   "metadata": {
    "execution": {
     "iopub.execute_input": "2022-03-15T12:47:33.334853Z",
     "iopub.status.busy": "2022-03-15T12:47:33.334203Z",
     "iopub.status.idle": "2022-03-15T12:47:33.337366Z",
     "shell.execute_reply": "2022-03-15T12:47:33.337749Z",
     "shell.execute_reply.started": "2022-03-15T12:07:22.807844Z"
    },
    "papermill": {
     "duration": 0.073816,
     "end_time": "2022-03-15T12:47:33.337898",
     "exception": false,
     "start_time": "2022-03-15T12:47:33.264082",
     "status": "completed"
    },
    "tags": []
   },
   "outputs": [
    {
     "data": {
      "text/plain": [
       "'قالوا الموفق شيعي فقلت لهم'"
      ]
     },
     "execution_count": 14,
     "metadata": {},
     "output_type": "execute_result"
    }
   ],
   "source": [
    "text=\"قالوا الموفقُ شِيعِيٌّ فقلتُ لهم\"\n",
    "normalizeArabic(text)"
   ]
  },
  {
   "cell_type": "code",
   "execution_count": 15,
   "id": "3be41337",
   "metadata": {
    "execution": {
     "iopub.execute_input": "2022-03-15T12:47:33.471248Z",
     "iopub.status.busy": "2022-03-15T12:47:33.470687Z",
     "iopub.status.idle": "2022-03-15T12:47:33.475571Z",
     "shell.execute_reply": "2022-03-15T12:47:33.475005Z",
     "shell.execute_reply.started": "2022-03-15T12:07:22.818208Z"
    },
    "papermill": {
     "duration": 0.073232,
     "end_time": "2022-03-15T12:47:33.475714",
     "exception": false,
     "start_time": "2022-03-15T12:47:33.402482",
     "status": "completed"
    },
    "tags": []
   },
   "outputs": [
    {
     "name": "stdout",
     "output_type": "stream",
     "text": [
      "هشم حمد صرح بون على عدد ولي رءس جمهر نصب خلف رءس حكم نشر مقع Tunisie صفح كل قيس سعد على سبك صرح سبت لسس ونس رءسق قلل هشم حمد قول عدد ولي رءس لجمهرهتنصب سيف لدن خلف رءس حكمهفرق عمل روس نوز حري مرر تبب زءفذلك فحص دون هشم حمد على صفح رسم قطع حلق رنمجهعل صفح رسم قنو قلل وقن على تبقد صرح حمد نسب قسسعد قلب خير ريد رجع ونس ولي لدكتتر طلب بمسرتمظهر عزل جرء تخب بكر لكن يدع عيي رءس جمهر نصب سيف لدنمخلف رءس حكم هشم حمد ونو على عدد ولي رءس جمهر نصب خلف رءس حكم\n"
     ]
    }
   ],
   "source": [
    "test=data['texts'][5]\n",
    "print(test)"
   ]
  },
  {
   "cell_type": "code",
   "execution_count": 16,
   "id": "48941cea",
   "metadata": {
    "execution": {
     "iopub.execute_input": "2022-03-15T12:47:33.613519Z",
     "iopub.status.busy": "2022-03-15T12:47:33.612874Z",
     "iopub.status.idle": "2022-03-15T12:47:33.615407Z",
     "shell.execute_reply": "2022-03-15T12:47:33.615909Z",
     "shell.execute_reply.started": "2022-03-15T12:07:22.827806Z"
    },
    "papermill": {
     "duration": 0.075052,
     "end_time": "2022-03-15T12:47:33.616033",
     "exception": false,
     "start_time": "2022-03-15T12:47:33.540981",
     "status": "completed"
    },
    "tags": []
   },
   "outputs": [
    {
     "data": {
      "text/plain": [
       "'هشم حمد صرح بون علي عدد ولي رءس جمهر نصب خلف رءس حكم نشر مقع Tunisie صفح كل قيس سعد علي سبك صرح سبت لسس ونس رءسق قلل هشم حمد قول عدد ولي رءس لجمهرهتنصب سيف لدن خلف رءس حكمهفرق عمل روس نوز حري مرر تبب زءفذلك فحص دون هشم حمد علي صفح رسم قطع حلق رنمجهعل صفح رسم قنو قلل وقن علي تبقد صرح حمد نسب قسسعد قلب خير ريد رجع ونس ولي لدكتتر طلب بمسرتمظهر عزل جرء تخب بكر لكن يدع عيي رءس جمهر نصب سيف لدنمخلف رءس حكم هشم حمد ونو علي عدد ولي رءس جمهر نصب خلف رءس حكم'"
      ]
     },
     "execution_count": 16,
     "metadata": {},
     "output_type": "execute_result"
    }
   ],
   "source": [
    "normalizeArabic(test)"
   ]
  },
  {
   "cell_type": "code",
   "execution_count": 17,
   "id": "f5a7c138",
   "metadata": {
    "execution": {
     "iopub.execute_input": "2022-03-15T12:47:33.751524Z",
     "iopub.status.busy": "2022-03-15T12:47:33.750954Z",
     "iopub.status.idle": "2022-03-15T12:47:33.766683Z",
     "shell.execute_reply": "2022-03-15T12:47:33.766277Z",
     "shell.execute_reply.started": "2022-03-15T12:07:22.836869Z"
    },
    "papermill": {
     "duration": 0.083832,
     "end_time": "2022-03-15T12:47:33.766810",
     "exception": false,
     "start_time": "2022-03-15T12:47:33.682978",
     "status": "completed"
    },
    "tags": []
   },
   "outputs": [
    {
     "data": {
      "text/plain": [
       "'هشم حمد صرح بون ولي رءس جمهر نصب رءس حكم نشر مقع Tunisie صفح قيس سعد سبك صرح لسس ونس رءسق قلل هشم حمد قول ولي رءس لجمهرهتنصب سيف رءس حكمهفرق عمل روس نوز حري مرر تبب زءفذلك فحص هشم حمد صفح رسم قطع حلق رنمجهعل صفح رسم قنو قلل وقن تبقد صرح حمد نسب قسسعد قلب خير ريد ونس ولي لدكتتر طلب بمسرتمظهر عزل جرء تخب بكر يدع عيي رءس جمهر نصب سيف لدنمخلف رءس حكم هشم حمد ونو ولي رءس جمهر نصب رءس حكم'"
      ]
     },
     "execution_count": 17,
     "metadata": {},
     "output_type": "execute_result"
    }
   ],
   "source": [
    "remove_stop_words(test)"
   ]
  },
  {
   "cell_type": "code",
   "execution_count": 18,
   "id": "2d018c8c",
   "metadata": {
    "execution": {
     "iopub.execute_input": "2022-03-15T12:47:33.912979Z",
     "iopub.status.busy": "2022-03-15T12:47:33.905595Z",
     "iopub.status.idle": "2022-03-15T12:47:33.915592Z",
     "shell.execute_reply": "2022-03-15T12:47:33.916054Z",
     "shell.execute_reply.started": "2022-03-15T12:07:22.846447Z"
    },
    "papermill": {
     "duration": 0.084184,
     "end_time": "2022-03-15T12:47:33.916175",
     "exception": false,
     "start_time": "2022-03-15T12:47:33.831991",
     "status": "completed"
    },
    "tags": []
   },
   "outputs": [
    {
     "data": {
      "text/plain": [
       "'هشم حمد صرح بون على عدد لي رءس جمهر صبب خلف رءس حكم نشر مقع Tunisie صفح كل قيس عدد على بكك صرح بتت لسس نسس رءسق قلل هشم حمد قول عدد لي رءس جمهرهتنصب سيف لدن خلف رءس حكمهفرق عمل روس نوز حرر مرر تبب زءفذلك حصص دون هشم حمد على صفح رسم قطع حلق رنمجهعل صفح رسم قنو قلل وقن على بقد صرح حمد نسب قسسعد قلب خير ريد رجع نسس لي لدكتتر طلب سرتمظهر عزل جرء خبب بكر لكن يدع عيي رءس جمهر صبب سيف دنمخلف رءس حكم هشم حمد ونو على عدد لي رءس جمهر صبب خلف رءس حكم'"
      ]
     },
     "execution_count": 18,
     "metadata": {},
     "output_type": "execute_result"
    }
   ],
   "source": [
    "stem(test) "
   ]
  },
  {
   "cell_type": "code",
   "execution_count": 19,
   "id": "05729f19",
   "metadata": {
    "execution": {
     "iopub.execute_input": "2022-03-15T12:47:34.051534Z",
     "iopub.status.busy": "2022-03-15T12:47:34.050752Z",
     "iopub.status.idle": "2022-03-15T12:47:34.053070Z",
     "shell.execute_reply": "2022-03-15T12:47:34.052647Z",
     "shell.execute_reply.started": "2022-03-15T12:07:22.863618Z"
    },
    "papermill": {
     "duration": 0.071409,
     "end_time": "2022-03-15T12:47:34.053177",
     "exception": false,
     "start_time": "2022-03-15T12:47:33.981768",
     "status": "completed"
    },
    "tags": []
   },
   "outputs": [],
   "source": [
    "def remove_dirt_after_transformation(text):\n",
    "    return re.sub('[a-z]|[A_Z]|[0-9]|\\n|:|N|,*', '', text)"
   ]
  },
  {
   "cell_type": "code",
   "execution_count": 20,
   "id": "ed94b424",
   "metadata": {
    "execution": {
     "iopub.execute_input": "2022-03-15T12:47:34.189961Z",
     "iopub.status.busy": "2022-03-15T12:47:34.189153Z",
     "iopub.status.idle": "2022-03-15T12:47:34.191376Z",
     "shell.execute_reply": "2022-03-15T12:47:34.190892Z",
     "shell.execute_reply.started": "2022-03-15T12:07:22.871898Z"
    },
    "papermill": {
     "duration": 0.071981,
     "end_time": "2022-03-15T12:47:34.191472",
     "exception": false,
     "start_time": "2022-03-15T12:47:34.119491",
     "status": "completed"
    },
    "tags": []
   },
   "outputs": [],
   "source": [
    "from sklearn.model_selection import train_test_split\n",
    "X = data.texts.values\n",
    "y = data.fake.values"
   ]
  },
  {
   "cell_type": "code",
   "execution_count": 21,
   "id": "50936aa7",
   "metadata": {
    "execution": {
     "iopub.execute_input": "2022-03-15T12:47:34.329083Z",
     "iopub.status.busy": "2022-03-15T12:47:34.328441Z",
     "iopub.status.idle": "2022-03-15T12:47:34.331031Z",
     "shell.execute_reply": "2022-03-15T12:47:34.330578Z",
     "shell.execute_reply.started": "2022-03-15T12:07:22.880674Z"
    },
    "papermill": {
     "duration": 0.073958,
     "end_time": "2022-03-15T12:47:34.331133",
     "exception": false,
     "start_time": "2022-03-15T12:47:34.257175",
     "status": "completed"
    },
    "tags": []
   },
   "outputs": [],
   "source": [
    "X_train, X_test, y_train, y_test = train_test_split(X,y, test_size=0.3,shuffle=True, random_state=42)"
   ]
  },
  {
   "cell_type": "code",
   "execution_count": 22,
   "id": "4bfb744f",
   "metadata": {
    "execution": {
     "iopub.execute_input": "2022-03-15T12:47:34.522635Z",
     "iopub.status.busy": "2022-03-15T12:47:34.507295Z",
     "iopub.status.idle": "2022-03-15T12:48:23.735374Z",
     "shell.execute_reply": "2022-03-15T12:48:23.734863Z",
     "shell.execute_reply.started": "2022-03-15T12:07:22.894554Z"
    },
    "papermill": {
     "duration": 49.338968,
     "end_time": "2022-03-15T12:48:23.735514",
     "exception": false,
     "start_time": "2022-03-15T12:47:34.396546",
     "status": "completed"
    },
    "tags": []
   },
   "outputs": [],
   "source": [
    "data['texts'] = data['texts'].apply(lambda x:normalizeArabic(x))\n",
    "data['texts'] = data['texts'].apply(lambda x:remove_stop_words(x))\n",
    "data['texts'] = data['texts'].apply(lambda x:stem(x))"
   ]
  },
  {
   "cell_type": "code",
   "execution_count": 23,
   "id": "fa9eea70",
   "metadata": {
    "execution": {
     "iopub.execute_input": "2022-03-15T12:48:23.879386Z",
     "iopub.status.busy": "2022-03-15T12:48:23.878589Z",
     "iopub.status.idle": "2022-03-15T12:48:23.881568Z",
     "shell.execute_reply": "2022-03-15T12:48:23.881988Z",
     "shell.execute_reply.started": "2022-03-15T12:08:11.549884Z"
    },
    "papermill": {
     "duration": 0.079164,
     "end_time": "2022-03-15T12:48:23.882118",
     "exception": false,
     "start_time": "2022-03-15T12:48:23.802954",
     "status": "completed"
    },
    "tags": []
   },
   "outputs": [
    {
     "data": {
      "text/html": [
       "<div>\n",
       "<style scoped>\n",
       "    .dataframe tbody tr th:only-of-type {\n",
       "        vertical-align: middle;\n",
       "    }\n",
       "\n",
       "    .dataframe tbody tr th {\n",
       "        vertical-align: top;\n",
       "    }\n",
       "\n",
       "    .dataframe thead th {\n",
       "        text-align: right;\n",
       "    }\n",
       "</style>\n",
       "<table border=\"1\" class=\"dataframe\">\n",
       "  <thead>\n",
       "    <tr style=\"text-align: right;\">\n",
       "      <th></th>\n",
       "      <th>category</th>\n",
       "      <th>type</th>\n",
       "      <th>texts</th>\n",
       "      <th>fake</th>\n",
       "    </tr>\n",
       "  </thead>\n",
       "  <tbody>\n",
       "    <tr>\n",
       "      <th>0</th>\n",
       "      <td>ﺇﻗﺘﺼﺎﺩ</td>\n",
       "      <td>ﺻﺤﻴﺢ</td>\n",
       "      <td>سفر لن طلع ءنف رحل ولج نسس عدد دفق سحح عرب سفر...</td>\n",
       "      <td>1</td>\n",
       "    </tr>\n",
       "    <tr>\n",
       "      <th>1</th>\n",
       "      <td>ﻣﺠﺘﻤﻊ</td>\n",
       "      <td>ﻣﺨﺎﺩﻉ</td>\n",
       "      <td>لوح شهد عبب عمر جزءر نسس ثبب ريق روس نوز صور ق...</td>\n",
       "      <td>0</td>\n",
       "    </tr>\n",
       "    <tr>\n",
       "      <th>2</th>\n",
       "      <td>جهات</td>\n",
       "      <td>ﺻﺤﻴﺢ</td>\n",
       "      <td>حرق فجء جمع كمء ظلل نوج رفع درج حررهعءشه لجم ج...</td>\n",
       "      <td>1</td>\n",
       "    </tr>\n",
       "    <tr>\n",
       "      <th>3</th>\n",
       "      <td>جهات</td>\n",
       "      <td>ﺻﺤﻴﺢ</td>\n",
       "      <td>سوس لقق قبض على روج خطر خدر صيل لوه جور سمم بر...</td>\n",
       "      <td>1</td>\n",
       "    </tr>\n",
       "    <tr>\n",
       "      <th>4</th>\n",
       "      <td>ﺭﻳﺎﺿﺔ</td>\n",
       "      <td>ﺯاﺋﻒ</td>\n",
       "      <td>عبد سلم نسس غدر نسس نشر مقع كتر خبر هرب رءس نو...</td>\n",
       "      <td>0</td>\n",
       "    </tr>\n",
       "  </tbody>\n",
       "</table>\n",
       "</div>"
      ],
      "text/plain": [
       "  category       type                                              texts  fake\n",
       "0   ﺇﻗﺘﺼﺎﺩ     ﺻﺤﻴﺢ    سفر لن طلع ءنف رحل ولج نسس عدد دفق سحح عرب سفر...     1\n",
       "1    ﻣﺠﺘﻤﻊ    ﻣﺨﺎﺩﻉ    لوح شهد عبب عمر جزءر نسس ثبب ريق روس نوز صور ق...     0\n",
       "2     جهات     ﺻﺤﻴﺢ    حرق فجء جمع كمء ظلل نوج رفع درج حررهعءشه لجم ج...     1\n",
       "3     جهات     ﺻﺤﻴﺢ    سوس لقق قبض على روج خطر خدر صيل لوه جور سمم بر...     1\n",
       "4    ﺭﻳﺎﺿﺔ     ﺯاﺋﻒ    عبد سلم نسس غدر نسس نشر مقع كتر خبر هرب رءس نو...     0"
      ]
     },
     "execution_count": 23,
     "metadata": {},
     "output_type": "execute_result"
    }
   ],
   "source": [
    "data.head()"
   ]
  },
  {
   "cell_type": "code",
   "execution_count": 24,
   "id": "25ef8b52",
   "metadata": {
    "execution": {
     "iopub.execute_input": "2022-03-15T12:48:24.027734Z",
     "iopub.status.busy": "2022-03-15T12:48:24.026784Z",
     "iopub.status.idle": "2022-03-15T12:48:24.028828Z",
     "shell.execute_reply": "2022-03-15T12:48:24.029341Z",
     "shell.execute_reply.started": "2022-03-15T12:08:11.563884Z"
    },
    "papermill": {
     "duration": 0.080932,
     "end_time": "2022-03-15T12:48:24.029471",
     "exception": false,
     "start_time": "2022-03-15T12:48:23.948539",
     "status": "completed"
    },
    "tags": []
   },
   "outputs": [],
   "source": [
    "def get_accuracy(trained_model,X, y):\n",
    "    predicted = trained_model.predict(X)\n",
    "    accuracy = np.mean(predicted == y)\n",
    "    return accuracy\n",
    "def get_F1(trained_model,X,y):\n",
    "    predicted=trained_model.predict(X)\n",
    "    f1=f1_score(y,predicted, average=None)\n",
    "    return f1"
   ]
  },
  {
   "cell_type": "markdown",
   "id": "86409427",
   "metadata": {
    "papermill": {
     "duration": 0.06902,
     "end_time": "2022-03-15T12:48:24.176881",
     "exception": false,
     "start_time": "2022-03-15T12:48:24.107861",
     "status": "completed"
    },
    "tags": []
   },
   "source": [
    "# **Deep Learning Approach**"
   ]
  },
  {
   "cell_type": "code",
   "execution_count": 25,
   "id": "c7db25d6",
   "metadata": {
    "execution": {
     "iopub.execute_input": "2022-03-15T12:48:24.314823Z",
     "iopub.status.busy": "2022-03-15T12:48:24.314267Z",
     "iopub.status.idle": "2022-03-15T12:48:28.410595Z",
     "shell.execute_reply": "2022-03-15T12:48:28.409648Z",
     "shell.execute_reply.started": "2022-03-15T12:10:27.954052Z"
    },
    "papermill": {
     "duration": 4.167932,
     "end_time": "2022-03-15T12:48:28.410750",
     "exception": false,
     "start_time": "2022-03-15T12:48:24.242818",
     "status": "completed"
    },
    "tags": []
   },
   "outputs": [],
   "source": [
    "import tensorflow as tf\n",
    "import keras.models\n",
    "from keras.preprocessing.text import Tokenizer\n",
    "from keras.preprocessing.sequence import pad_sequences\n",
    "from numpy import array\n",
    "import gensim\n",
    "from gensim.models import KeyedVectors\n",
    "from gensim.models import word2vec\n",
    "from keras.preprocessing.text import Tokenizer\n",
    "from keras.preprocessing.sequence import pad_sequences\n",
    "from keras.layers import Dense, Input, LSTM, Embedding, Dropout, Activation,SimpleRNN\n",
    "from keras.layers import Bidirectional, GlobalMaxPool1D\n",
    "from keras.models import Model\n",
    "from keras import initializers, regularizers, constraints, optimizers, layers"
   ]
  },
  {
   "cell_type": "markdown",
   "id": "101fd70a",
   "metadata": {
    "papermill": {
     "duration": 0.071628,
     "end_time": "2022-03-15T12:48:28.553181",
     "exception": false,
     "start_time": "2022-03-15T12:48:28.481553",
     "status": "completed"
    },
    "tags": []
   },
   "source": [
    "The Tokenizer()function will split the sentence into tokens. The texts_to_sequences()convert word to integer number. "
   ]
  },
  {
   "cell_type": "code",
   "execution_count": 26,
   "id": "3d31debb",
   "metadata": {
    "execution": {
     "iopub.execute_input": "2022-03-15T12:48:28.712607Z",
     "iopub.status.busy": "2022-03-15T12:48:28.702140Z",
     "iopub.status.idle": "2022-03-15T12:48:29.390537Z",
     "shell.execute_reply": "2022-03-15T12:48:29.391044Z",
     "shell.execute_reply.started": "2022-03-15T12:09:13.551227Z"
    },
    "papermill": {
     "duration": 0.76631,
     "end_time": "2022-03-15T12:48:29.391208",
     "exception": false,
     "start_time": "2022-03-15T12:48:28.624898",
     "status": "completed"
    },
    "tags": []
   },
   "outputs": [],
   "source": [
    "# prepare tokenizer\n",
    "t = Tokenizer()\n",
    "t.fit_on_texts(data[\"texts\"])\n",
    "vocab_size = len(t.word_index) + 1"
   ]
  },
  {
   "cell_type": "code",
   "execution_count": 27,
   "id": "60fd1665",
   "metadata": {
    "execution": {
     "iopub.execute_input": "2022-03-15T12:48:29.560196Z",
     "iopub.status.busy": "2022-03-15T12:48:29.555022Z",
     "iopub.status.idle": "2022-03-15T12:48:29.984787Z",
     "shell.execute_reply": "2022-03-15T12:48:29.984374Z",
     "shell.execute_reply.started": "2022-03-15T12:09:16.351861Z"
    },
    "papermill": {
     "duration": 0.522486,
     "end_time": "2022-03-15T12:48:29.984937",
     "exception": false,
     "start_time": "2022-03-15T12:48:29.462451",
     "status": "completed"
    },
    "tags": []
   },
   "outputs": [],
   "source": [
    "list_tokenized_train=t.texts_to_sequences(X_train)\n",
    "list_tokenized_test=t.texts_to_sequences(X_test)"
   ]
  },
  {
   "cell_type": "code",
   "execution_count": 28,
   "id": "eeaab369",
   "metadata": {
    "execution": {
     "iopub.execute_input": "2022-03-15T12:48:30.120932Z",
     "iopub.status.busy": "2022-03-15T12:48:30.120177Z",
     "iopub.status.idle": "2022-03-15T12:48:30.122557Z",
     "shell.execute_reply": "2022-03-15T12:48:30.122143Z",
     "shell.execute_reply.started": "2022-03-15T12:08:12.574294Z"
    },
    "papermill": {
     "duration": 0.071334,
     "end_time": "2022-03-15T12:48:30.122660",
     "exception": false,
     "start_time": "2022-03-15T12:48:30.051326",
     "status": "completed"
    },
    "tags": []
   },
   "outputs": [],
   "source": [
    "#list_tokenized_train[:1] just for testing"
   ]
  },
  {
   "cell_type": "markdown",
   "id": "51ea859d",
   "metadata": {
    "papermill": {
     "duration": 0.066052,
     "end_time": "2022-03-15T12:48:30.255325",
     "exception": false,
     "start_time": "2022-03-15T12:48:30.189273",
     "status": "completed"
    },
    "tags": []
   },
   "source": [
    "Checking word distribution to pick the max sentence length"
   ]
  },
  {
   "cell_type": "code",
   "execution_count": 29,
   "id": "4d41d059",
   "metadata": {
    "execution": {
     "iopub.execute_input": "2022-03-15T12:48:30.394818Z",
     "iopub.status.busy": "2022-03-15T12:48:30.394032Z",
     "iopub.status.idle": "2022-03-15T12:48:30.696164Z",
     "shell.execute_reply": "2022-03-15T12:48:30.695463Z",
     "shell.execute_reply.started": "2022-03-15T12:09:20.153033Z"
    },
    "papermill": {
     "duration": 0.37488,
     "end_time": "2022-03-15T12:48:30.696298",
     "exception": false,
     "start_time": "2022-03-15T12:48:30.321418",
     "status": "completed"
    },
    "tags": []
   },
   "outputs": [
    {
     "data": {
      "image/png": "[encoded data removed]",
      "text/plain": [
       "<Figure size 432x288 with 1 Axes>"
      ]
     },
     "metadata": {
      "needs_background": "light"
     },
     "output_type": "display_data"
    }
   ],
   "source": [
    "totalNumWords = [len(one_comment) for one_comment in list_tokenized_train]\n",
    "plt.hist(totalNumWords,bins = np.arange(0,600,10))\n",
    "plt.show()"
   ]
  },
  {
   "cell_type": "markdown",
   "id": "5c94e01a",
   "metadata": {
    "papermill": {
     "duration": 0.072366,
     "end_time": "2022-03-15T12:48:30.848828",
     "exception": false,
     "start_time": "2022-03-15T12:48:30.776462",
     "status": "completed"
    },
    "tags": []
   },
   "source": []
  },
  {
   "cell_type": "markdown",
   "id": "53ba03a3",
   "metadata": {
    "papermill": {
     "duration": 0.067738,
     "end_time": "2022-03-15T12:48:30.987408",
     "exception": false,
     "start_time": "2022-03-15T12:48:30.919670",
     "status": "completed"
    },
    "tags": []
   },
   "source": [
    "Most words have a length around 120 and all are less than 600 its a big number but better pick 580 to prevent any information loss"
   ]
  },
  {
   "cell_type": "code",
   "execution_count": 30,
   "id": "a54ece33",
   "metadata": {
    "execution": {
     "iopub.execute_input": "2022-03-15T12:48:31.125822Z",
     "iopub.status.busy": "2022-03-15T12:48:31.125089Z",
     "iopub.status.idle": "2022-03-15T12:48:31.173906Z",
     "shell.execute_reply": "2022-03-15T12:48:31.173426Z",
     "shell.execute_reply.started": "2022-03-15T12:09:24.303282Z"
    },
    "papermill": {
     "duration": 0.120062,
     "end_time": "2022-03-15T12:48:31.174018",
     "exception": false,
     "start_time": "2022-03-15T12:48:31.053956",
     "status": "completed"
    },
    "tags": []
   },
   "outputs": [],
   "source": [
    "maxlen = 128\n",
    "X_t = pad_sequences(list_tokenized_train, maxlen=maxlen)\n",
    "X_te = pad_sequences(list_tokenized_test, maxlen=maxlen)"
   ]
  },
  {
   "cell_type": "code",
   "execution_count": 31,
   "id": "7f6fc457",
   "metadata": {
    "execution": {
     "iopub.execute_input": "2022-03-15T12:48:31.313335Z",
     "iopub.status.busy": "2022-03-15T12:48:31.312687Z",
     "iopub.status.idle": "2022-03-15T12:48:31.611498Z",
     "shell.execute_reply": "2022-03-15T12:48:31.610943Z",
     "shell.execute_reply.started": "2022-03-15T12:10:33.171483Z"
    },
    "papermill": {
     "duration": 0.370766,
     "end_time": "2022-03-15T12:48:31.611756",
     "exception": true,
     "start_time": "2022-03-15T12:48:31.240990",
     "status": "failed"
    },
    "tags": []
   },
   "outputs": [
    {
     "ename": "NameError",
     "evalue": "name 'Sequential' is not defined",
     "output_type": "error",
     "traceback": [
      "\u001b[0;31m---------------------------------------------------------------------------\u001b[0m",
      "\u001b[0;31mNameError\u001b[0m                                 Traceback (most recent call last)",
      "\u001b[0;32m/tmp/ipykernel_25/1022925373.py\u001b[0m in \u001b[0;36m<module>\u001b[0;34m\u001b[0m\n\u001b[1;32m      1\u001b[0m \u001b[0;31m# A simpleRNN without any pretrained embeddings and one dense layer\u001b[0m\u001b[0;34m\u001b[0m\u001b[0;34m\u001b[0m\u001b[0;34m\u001b[0m\u001b[0m\n\u001b[0;32m----> 2\u001b[0;31m \u001b[0mmodel\u001b[0m \u001b[0;34m=\u001b[0m \u001b[0mSequential\u001b[0m\u001b[0;34m(\u001b[0m\u001b[0;34m)\u001b[0m\u001b[0;34m\u001b[0m\u001b[0;34m\u001b[0m\u001b[0m\n\u001b[0m\u001b[1;32m      3\u001b[0m \u001b[0mmodel\u001b[0m\u001b[0;34m.\u001b[0m\u001b[0madd\u001b[0m\u001b[0;34m(\u001b[0m\u001b[0mEmbedding\u001b[0m\u001b[0;34m(\u001b[0m\u001b[0mvocab_size\u001b[0m\u001b[0;34m,\u001b[0m\u001b[0;36m100\u001b[0m\u001b[0;34m,\u001b[0m \u001b[0minput_length\u001b[0m\u001b[0;34m=\u001b[0m\u001b[0mmaxlen\u001b[0m\u001b[0;34m)\u001b[0m\u001b[0;34m)\u001b[0m\u001b[0;34m\u001b[0m\u001b[0;34m\u001b[0m\u001b[0m\n\u001b[1;32m      4\u001b[0m \u001b[0mmodel\u001b[0m\u001b[0;34m.\u001b[0m\u001b[0madd\u001b[0m\u001b[0;34m(\u001b[0m\u001b[0mSimpleRNN\u001b[0m\u001b[0;34m(\u001b[0m\u001b[0;36m100\u001b[0m\u001b[0;34m)\u001b[0m\u001b[0;34m)\u001b[0m\u001b[0;34m\u001b[0m\u001b[0;34m\u001b[0m\u001b[0m\n\u001b[1;32m      5\u001b[0m \u001b[0mmodel\u001b[0m\u001b[0;34m.\u001b[0m\u001b[0madd\u001b[0m\u001b[0;34m(\u001b[0m\u001b[0mDense\u001b[0m\u001b[0;34m(\u001b[0m\u001b[0;36m1\u001b[0m\u001b[0;34m,\u001b[0m \u001b[0mactivation\u001b[0m\u001b[0;34m=\u001b[0m\u001b[0;34m'sigmoid'\u001b[0m\u001b[0;34m)\u001b[0m\u001b[0;34m)\u001b[0m\u001b[0;34m\u001b[0m\u001b[0;34m\u001b[0m\u001b[0m\n",
      "\u001b[0;31mNameError\u001b[0m: name 'Sequential' is not defined"
     ]
    }
   ],
   "source": [
    "# A simpleRNN without any pretrained embeddings and one dense layer\n",
    "model = Sequential()\n",
    "model.add(Embedding(vocab_size,100, input_length=maxlen))\n",
    "model.add(SimpleRNN(100))\n",
    "model.add(Dense(1, activation='sigmoid'))\n",
    "model.compile(loss='binary_crossentropy', optimizer='adam', metrics=['accuracy'])\n",
    "    \n",
    "model.summary()"
   ]
  },
  {
   "cell_type": "code",
   "execution_count": null,
   "id": "0f5752bd",
   "metadata": {
    "execution": {
     "iopub.execute_input": "2022-03-15T12:10:39.451460Z",
     "iopub.status.busy": "2022-03-15T12:10:39.451171Z",
     "iopub.status.idle": "2022-03-15T12:13:02.223431Z",
     "shell.execute_reply": "2022-03-15T12:13:02.222705Z",
     "shell.execute_reply.started": "2022-03-15T12:10:39.451418Z"
    },
    "papermill": {
     "duration": null,
     "end_time": null,
     "exception": null,
     "start_time": null,
     "status": "pending"
    },
    "tags": []
   },
   "outputs": [],
   "source": [
    "model.fit(X_t,y_train, batch_size=32, epochs=10, validation_split=0.1)"
   ]
  },
  {
   "cell_type": "code",
   "execution_count": null,
   "id": "1562c14c",
   "metadata": {
    "execution": {
     "iopub.execute_input": "2022-03-15T12:13:05.152622Z",
     "iopub.status.busy": "2022-03-15T12:13:05.151834Z",
     "iopub.status.idle": "2022-03-15T12:13:05.616932Z",
     "shell.execute_reply": "2022-03-15T12:13:05.616072Z",
     "shell.execute_reply.started": "2022-03-15T12:13:05.152580Z"
    },
    "papermill": {
     "duration": null,
     "end_time": null,
     "exception": null,
     "start_time": null,
     "status": "pending"
    },
    "tags": []
   },
   "outputs": [],
   "source": [
    "loss,acc = model.evaluate(X_te,y_test, verbose = 0, batch_size = 32)\n",
    "print(\"acc: %.5f\" % (acc))"
   ]
  },
  {
   "cell_type": "markdown",
   "id": "a978da21",
   "metadata": {
    "papermill": {
     "duration": null,
     "end_time": null,
     "exception": null,
     "start_time": null,
     "status": "pending"
    },
    "tags": []
   },
   "source": [
    "**LSTM**\n"
   ]
  },
  {
   "cell_type": "code",
   "execution_count": null,
   "id": "c0410387",
   "metadata": {
    "papermill": {
     "duration": null,
     "end_time": null,
     "exception": null,
     "start_time": null,
     "status": "pending"
    },
    "tags": []
   },
   "outputs": [],
   "source": [
    "inp = Input(shape=(maxlen, ))\n",
    "embed_size = 100\n",
    "x = Embedding(vocab_size, embed_size)(inp)\n",
    "x = LSTM(100, return_sequences=True,name='lstm_layer')(x)\n",
    "x = GlobalMaxPool1D()(x)\n",
    "x = Dropout(0.1)(x)\n",
    "x = Dense(50, activation=\"relu\")(x)\n",
    "#x = Dropout(0.1)(x)\n",
    "x = Dense(1, activation=\"sigmoid\")(x)"
   ]
  },
  {
   "cell_type": "code",
   "execution_count": null,
   "id": "2ee81da3",
   "metadata": {
    "execution": {
     "iopub.execute_input": "2022-03-15T12:16:14.591362Z",
     "iopub.status.busy": "2022-03-15T12:16:14.590926Z",
     "iopub.status.idle": "2022-03-15T12:16:14.605888Z",
     "shell.execute_reply": "2022-03-15T12:16:14.605078Z",
     "shell.execute_reply.started": "2022-03-15T12:16:14.591325Z"
    },
    "papermill": {
     "duration": null,
     "end_time": null,
     "exception": null,
     "start_time": null,
     "status": "pending"
    },
    "tags": []
   },
   "outputs": [],
   "source": [
    "model2 = Model(inputs=inp, outputs=x)\n",
    "model2.compile(loss='binary_crossentropy',optimizer='adam',metrics=['accuracy'])"
   ]
  },
  {
   "cell_type": "code",
   "execution_count": null,
   "id": "6936724e",
   "metadata": {
    "execution": {
     "iopub.execute_input": "2022-03-15T12:16:16.191532Z",
     "iopub.status.busy": "2022-03-15T12:16:16.190931Z",
     "iopub.status.idle": "2022-03-15T12:16:16.202256Z",
     "shell.execute_reply": "2022-03-15T12:16:16.201423Z",
     "shell.execute_reply.started": "2022-03-15T12:16:16.191492Z"
    },
    "papermill": {
     "duration": null,
     "end_time": null,
     "exception": null,
     "start_time": null,
     "status": "pending"
    },
    "tags": []
   },
   "outputs": [],
   "source": [
    "print(model2.summary())"
   ]
  },
  {
   "cell_type": "code",
   "execution_count": null,
   "id": "3c2cf369",
   "metadata": {
    "execution": {
     "iopub.execute_input": "2022-03-15T12:16:20.091930Z",
     "iopub.status.busy": "2022-03-15T12:16:20.091201Z",
     "iopub.status.idle": "2022-03-15T12:16:30.916946Z",
     "shell.execute_reply": "2022-03-15T12:16:30.916226Z",
     "shell.execute_reply.started": "2022-03-15T12:16:20.091878Z"
    },
    "papermill": {
     "duration": null,
     "end_time": null,
     "exception": null,
     "start_time": null,
     "status": "pending"
    },
    "tags": []
   },
   "outputs": [],
   "source": [
    "model2.fit(X_t,y_train, batch_size=32, epochs=10, validation_split=0.1)"
   ]
  },
  {
   "cell_type": "code",
   "execution_count": null,
   "id": "373ed7f4",
   "metadata": {
    "execution": {
     "iopub.status.busy": "2022-03-15T12:08:14.195818Z",
     "iopub.status.idle": "2022-03-15T12:08:14.196359Z",
     "shell.execute_reply": "2022-03-15T12:08:14.196146Z",
     "shell.execute_reply.started": "2022-03-15T12:08:14.196122Z"
    },
    "papermill": {
     "duration": null,
     "end_time": null,
     "exception": null,
     "start_time": null,
     "status": "pending"
    },
    "tags": []
   },
   "outputs": [],
   "source": [
    "#preds = model.predict(X_te, batch_size=32)\n",
    "#print(preds)"
   ]
  },
  {
   "cell_type": "code",
   "execution_count": null,
   "id": "87157e12",
   "metadata": {
    "papermill": {
     "duration": null,
     "end_time": null,
     "exception": null,
     "start_time": null,
     "status": "pending"
    },
    "tags": []
   },
   "outputs": [],
   "source": []
  },
  {
   "cell_type": "code",
   "execution_count": null,
   "id": "bf3b64ff",
   "metadata": {
    "execution": {
     "iopub.execute_input": "2022-03-15T12:16:38.679966Z",
     "iopub.status.busy": "2022-03-15T12:16:38.679493Z",
     "iopub.status.idle": "2022-03-15T12:16:38.879739Z",
     "shell.execute_reply": "2022-03-15T12:16:38.879012Z",
     "shell.execute_reply.started": "2022-03-15T12:16:38.679926Z"
    },
    "papermill": {
     "duration": null,
     "end_time": null,
     "exception": null,
     "start_time": null,
     "status": "pending"
    },
    "tags": []
   },
   "outputs": [],
   "source": [
    "loss,acc = model2.evaluate(X_te,y_test, verbose = 0, batch_size = 32)\n",
    "print(\"acc: %.5f\" % (acc))"
   ]
  },
  {
   "cell_type": "markdown",
   "id": "38fd10d5",
   "metadata": {
    "papermill": {
     "duration": null,
     "end_time": null,
     "exception": null,
     "start_time": null,
     "status": "pending"
    },
    "tags": []
   },
   "source": [
    "**LSTM with a pretrained word2vec model aravec**"
   ]
  },
  {
   "cell_type": "markdown",
   "id": "37ea7fb8",
   "metadata": {
    "papermill": {
     "duration": null,
     "end_time": null,
     "exception": null,
     "start_time": null,
     "status": "pending"
    },
    "tags": []
   },
   "source": [
    "loading the AraVec Skip-gram word embedding "
   ]
  },
  {
   "cell_type": "code",
   "execution_count": null,
   "id": "81c73b7b",
   "metadata": {
    "execution": {
     "iopub.execute_input": "2022-03-15T12:20:04.261100Z",
     "iopub.status.busy": "2022-03-15T12:20:04.260703Z",
     "iopub.status.idle": "2022-03-15T12:20:55.644033Z",
     "shell.execute_reply": "2022-03-15T12:20:55.642923Z",
     "shell.execute_reply.started": "2022-03-15T12:20:04.261052Z"
    },
    "papermill": {
     "duration": null,
     "end_time": null,
     "exception": null,
     "start_time": null,
     "status": "pending"
    },
    "tags": []
   },
   "outputs": [],
   "source": [
    "w2v_embeddings_index={}\n",
    "TOTAL_EMBEDDING_DIM=300\n",
    "embeddings_file='../input/aravec-documents/full_grams_sg_300_twitter/full_grams_sg_300_twitter.mdl'\n",
    "w2v_model =KeyedVectors.load(embeddings_file)\n"
   ]
  },
  {
   "cell_type": "code",
   "execution_count": null,
   "id": "0f1c7abd",
   "metadata": {
    "execution": {
     "iopub.execute_input": "2022-03-15T12:20:59.621894Z",
     "iopub.status.busy": "2022-03-15T12:20:59.621272Z",
     "iopub.status.idle": "2022-03-15T12:20:59.691683Z",
     "shell.execute_reply": "2022-03-15T12:20:59.690892Z",
     "shell.execute_reply.started": "2022-03-15T12:20:59.621850Z"
    },
    "papermill": {
     "duration": null,
     "end_time": null,
     "exception": null,
     "start_time": null,
     "status": "pending"
    },
    "tags": []
   },
   "outputs": [],
   "source": [
    "words = list(w2v_model.wv.index_to_key)"
   ]
  },
  {
   "cell_type": "code",
   "execution_count": null,
   "id": "898c6a26",
   "metadata": {
    "execution": {
     "iopub.execute_input": "2022-03-15T12:21:03.940302Z",
     "iopub.status.busy": "2022-03-15T12:21:03.940040Z",
     "iopub.status.idle": "2022-03-15T12:21:07.050079Z",
     "shell.execute_reply": "2022-03-15T12:21:07.049317Z",
     "shell.execute_reply.started": "2022-03-15T12:21:03.940271Z"
    },
    "papermill": {
     "duration": null,
     "end_time": null,
     "exception": null,
     "start_time": null,
     "status": "pending"
    },
    "tags": []
   },
   "outputs": [],
   "source": [
    "w2v_embeddings_index={}\n",
    "for key in words:\n",
    "    w2v_embeddings_index[key] =w2v_model.wv.get_vector(key)"
   ]
  },
  {
   "cell_type": "code",
   "execution_count": null,
   "id": "a1c92b8d",
   "metadata": {
    "execution": {
     "iopub.execute_input": "2022-03-15T12:21:07.051853Z",
     "iopub.status.busy": "2022-03-15T12:21:07.051625Z",
     "iopub.status.idle": "2022-03-15T12:21:07.056756Z",
     "shell.execute_reply": "2022-03-15T12:21:07.055817Z",
     "shell.execute_reply.started": "2022-03-15T12:21:07.051820Z"
    },
    "papermill": {
     "duration": null,
     "end_time": null,
     "exception": null,
     "start_time": null,
     "status": "pending"
    },
    "tags": []
   },
   "outputs": [],
   "source": [
    "print(\"Loaded %s word vectors.\"% len(w2v_embeddings_index))"
   ]
  },
  {
   "cell_type": "markdown",
   "id": "67f12d51",
   "metadata": {
    "papermill": {
     "duration": null,
     "end_time": null,
     "exception": null,
     "start_time": null,
     "status": "pending"
    },
    "tags": []
   },
   "source": [
    "create a weight matrix for words in training docs"
   ]
  },
  {
   "cell_type": "code",
   "execution_count": null,
   "id": "4d60e543",
   "metadata": {
    "execution": {
     "iopub.execute_input": "2022-03-15T12:21:10.780719Z",
     "iopub.status.busy": "2022-03-15T12:21:10.779880Z",
     "iopub.status.idle": "2022-03-15T12:21:10.812324Z",
     "shell.execute_reply": "2022-03-15T12:21:10.811637Z",
     "shell.execute_reply.started": "2022-03-15T12:21:10.780668Z"
    },
    "papermill": {
     "duration": null,
     "end_time": null,
     "exception": null,
     "start_time": null,
     "status": "pending"
    },
    "tags": []
   },
   "outputs": [],
   "source": [
    "embedding_matrix = np.zeros((vocab_size, TOTAL_EMBEDDING_DIM))\n",
    "for word, i in t.word_index.items():\n",
    "    embedding_vector = w2v_embeddings_index.get(word)\n",
    "    if embedding_vector is not None:\n",
    "        embedding_matrix[i] = embedding_vector"
   ]
  },
  {
   "cell_type": "code",
   "execution_count": null,
   "id": "19a9c2e2",
   "metadata": {
    "execution": {
     "iopub.execute_input": "2022-03-15T12:21:15.981465Z",
     "iopub.status.busy": "2022-03-15T12:21:15.981121Z",
     "iopub.status.idle": "2022-03-15T12:21:15.988565Z",
     "shell.execute_reply": "2022-03-15T12:21:15.987458Z",
     "shell.execute_reply.started": "2022-03-15T12:21:15.981359Z"
    },
    "papermill": {
     "duration": null,
     "end_time": null,
     "exception": null,
     "start_time": null,
     "status": "pending"
    },
    "tags": []
   },
   "outputs": [],
   "source": [
    "print(\"Embedding Matrix shape:\", embedding_matrix.shape)"
   ]
  },
  {
   "cell_type": "markdown",
   "id": "e25152ec",
   "metadata": {
    "papermill": {
     "duration": null,
     "end_time": null,
     "exception": null,
     "start_time": null,
     "status": "pending"
    },
    "tags": []
   },
   "source": [
    "The embedding layer is seeded by AraVec word embedding weight. The 300-dimensional Twitter Skip-gram version 3 was chosen. Therefore, the embedding layer defend with output_dim equal to 300."
   ]
  },
  {
   "cell_type": "code",
   "execution_count": null,
   "id": "b718914c",
   "metadata": {
    "execution": {
     "iopub.execute_input": "2022-03-15T12:21:20.228569Z",
     "iopub.status.busy": "2022-03-15T12:21:20.227835Z",
     "iopub.status.idle": "2022-03-15T12:21:20.626651Z",
     "shell.execute_reply": "2022-03-15T12:21:20.625906Z",
     "shell.execute_reply.started": "2022-03-15T12:21:20.228528Z"
    },
    "papermill": {
     "duration": null,
     "end_time": null,
     "exception": null,
     "start_time": null,
     "status": "pending"
    },
    "tags": []
   },
   "outputs": [],
   "source": [
    "embedding_layer = tf.keras.layers.Embedding(vocab_size, TOTAL_EMBEDDING_DIM, weights=[embedding_matrix], input_length=maxlen, trainable=False)"
   ]
  },
  {
   "cell_type": "markdown",
   "id": "f024bf59",
   "metadata": {
    "papermill": {
     "duration": null,
     "end_time": null,
     "exception": null,
     "start_time": null,
     "status": "pending"
    },
    "tags": []
   },
   "source": [
    "lstm+aravec"
   ]
  },
  {
   "cell_type": "code",
   "execution_count": null,
   "id": "f39e94fc",
   "metadata": {
    "execution": {
     "iopub.execute_input": "2022-03-15T12:21:23.160229Z",
     "iopub.status.busy": "2022-03-15T12:21:23.159971Z",
     "iopub.status.idle": "2022-03-15T12:21:23.510090Z",
     "shell.execute_reply": "2022-03-15T12:21:23.509415Z",
     "shell.execute_reply.started": "2022-03-15T12:21:23.160200Z"
    },
    "papermill": {
     "duration": null,
     "end_time": null,
     "exception": null,
     "start_time": null,
     "status": "pending"
    },
    "tags": []
   },
   "outputs": [],
   "source": [
    "input_placeholder= Input(shape=(maxlen,))\n",
    "input_embedding = embedding_layer(input_placeholder)\n",
    "lstm= LSTM(100, return_sequences=True,name='lstm_layer_2')(input_embedding)\n",
    "y = GlobalMaxPool1D()(lstm)\n",
    "#y = Dropout(0.1)(y)\n",
    "y = Dense(50, activation=\"relu\")(lstm)\n",
    "y = Dropout(0.1)(y)\n",
    "preds = Dense(1, activation='sigmoid', name = 'activation')(y)\n",
    "modelaravec = Model(inputs=input_placeholder, outputs=preds)"
   ]
  },
  {
   "cell_type": "code",
   "execution_count": null,
   "id": "8aef6354",
   "metadata": {
    "execution": {
     "iopub.execute_input": "2022-03-15T12:21:25.772474Z",
     "iopub.status.busy": "2022-03-15T12:21:25.771980Z",
     "iopub.status.idle": "2022-03-15T12:21:25.782836Z",
     "shell.execute_reply": "2022-03-15T12:21:25.782052Z",
     "shell.execute_reply.started": "2022-03-15T12:21:25.772436Z"
    },
    "papermill": {
     "duration": null,
     "end_time": null,
     "exception": null,
     "start_time": null,
     "status": "pending"
    },
    "tags": []
   },
   "outputs": [],
   "source": [
    "modelaravec.compile(loss='binary_crossentropy', optimizer='adam', metrics=['accuracy'])"
   ]
  },
  {
   "cell_type": "code",
   "execution_count": null,
   "id": "e480f790",
   "metadata": {
    "execution": {
     "iopub.status.busy": "2022-03-15T12:08:14.216534Z",
     "iopub.status.idle": "2022-03-15T12:08:14.216937Z",
     "shell.execute_reply": "2022-03-15T12:08:14.216740Z",
     "shell.execute_reply.started": "2022-03-15T12:08:14.216718Z"
    },
    "papermill": {
     "duration": null,
     "end_time": null,
     "exception": null,
     "start_time": null,
     "status": "pending"
    },
    "tags": []
   },
   "outputs": [],
   "source": [
    "#modelaravec.fit(X_t,y_train, batch_size=32, epochs=25, validation_split=0.1)"
   ]
  },
  {
   "cell_type": "code",
   "execution_count": null,
   "id": "2fd21092",
   "metadata": {
    "execution": {
     "iopub.execute_input": "2022-03-15T12:21:33.582481Z",
     "iopub.status.busy": "2022-03-15T12:21:33.582181Z",
     "iopub.status.idle": "2022-03-15T12:21:33.593859Z",
     "shell.execute_reply": "2022-03-15T12:21:33.593010Z",
     "shell.execute_reply.started": "2022-03-15T12:21:33.582439Z"
    },
    "papermill": {
     "duration": null,
     "end_time": null,
     "exception": null,
     "start_time": null,
     "status": "pending"
    },
    "tags": []
   },
   "outputs": [],
   "source": [
    "print(modelaravec.summary())"
   ]
  },
  {
   "cell_type": "code",
   "execution_count": null,
   "id": "a06e96be",
   "metadata": {
    "execution": {
     "iopub.execute_input": "2022-03-15T12:21:39.949529Z",
     "iopub.status.busy": "2022-03-15T12:21:39.948788Z",
     "iopub.status.idle": "2022-03-15T12:21:50.290912Z",
     "shell.execute_reply": "2022-03-15T12:21:50.289885Z",
     "shell.execute_reply.started": "2022-03-15T12:21:39.949487Z"
    },
    "papermill": {
     "duration": null,
     "end_time": null,
     "exception": null,
     "start_time": null,
     "status": "pending"
    },
    "tags": []
   },
   "outputs": [],
   "source": [
    "modelaravec.fit(X_t,y_train, batch_size=32, epochs=10, validation_split=0.2)"
   ]
  },
  {
   "cell_type": "code",
   "execution_count": null,
   "id": "066a4cc6",
   "metadata": {
    "execution": {
     "iopub.execute_input": "2022-03-15T12:21:52.761264Z",
     "iopub.status.busy": "2022-03-15T12:21:52.760349Z",
     "iopub.status.idle": "2022-03-15T12:21:53.000261Z",
     "shell.execute_reply": "2022-03-15T12:21:52.998935Z",
     "shell.execute_reply.started": "2022-03-15T12:21:52.761216Z"
    },
    "papermill": {
     "duration": null,
     "end_time": null,
     "exception": null,
     "start_time": null,
     "status": "pending"
    },
    "tags": []
   },
   "outputs": [],
   "source": [
    "loss,accuracy = modelaravec.evaluate(X_te,y_test,verbose=0)\n",
    "print(\"Accuracy: %5f\" % (accuracy))"
   ]
  },
  {
   "cell_type": "markdown",
   "id": "d896f039",
   "metadata": {
    "papermill": {
     "duration": null,
     "end_time": null,
     "exception": null,
     "start_time": null,
     "status": "pending"
    },
    "tags": []
   },
   "source": [
    "simplernn+aravec"
   ]
  },
  {
   "cell_type": "code",
   "execution_count": null,
   "id": "a5deec24",
   "metadata": {
    "execution": {
     "iopub.execute_input": "2022-03-15T12:32:45.620190Z",
     "iopub.status.busy": "2022-03-15T12:32:45.619926Z",
     "iopub.status.idle": "2022-03-15T12:32:45.689074Z",
     "shell.execute_reply": "2022-03-15T12:32:45.688432Z",
     "shell.execute_reply.started": "2022-03-15T12:32:45.620159Z"
    },
    "papermill": {
     "duration": null,
     "end_time": null,
     "exception": null,
     "start_time": null,
     "status": "pending"
    },
    "tags": []
   },
   "outputs": [],
   "source": [
    "input_placeholder= Input(shape=(maxlen,))\n",
    "input_embedding = embedding_layer(input_placeholder)\n",
    "rnn= SimpleRNN(100, return_sequences=True,name='SimpleRnnLayer')(input_embedding)\n",
    "preds = Dense(1, activation='sigmoid', name = 'activation')(rnn)\n",
    "model_aravec_2 = Model(inputs=input_placeholder, outputs=preds)"
   ]
  },
  {
   "cell_type": "code",
   "execution_count": null,
   "id": "8d44c0bb",
   "metadata": {
    "execution": {
     "iopub.execute_input": "2022-03-15T12:33:13.652245Z",
     "iopub.status.busy": "2022-03-15T12:33:13.651965Z",
     "iopub.status.idle": "2022-03-15T12:33:13.663916Z",
     "shell.execute_reply": "2022-03-15T12:33:13.663076Z",
     "shell.execute_reply.started": "2022-03-15T12:33:13.652212Z"
    },
    "papermill": {
     "duration": null,
     "end_time": null,
     "exception": null,
     "start_time": null,
     "status": "pending"
    },
    "tags": []
   },
   "outputs": [],
   "source": [
    "print(model_aravec_2.summary())"
   ]
  },
  {
   "cell_type": "code",
   "execution_count": null,
   "id": "5633d50b",
   "metadata": {
    "execution": {
     "iopub.execute_input": "2022-03-15T12:34:08.120422Z",
     "iopub.status.busy": "2022-03-15T12:34:08.120139Z",
     "iopub.status.idle": "2022-03-15T12:34:08.130788Z",
     "shell.execute_reply": "2022-03-15T12:34:08.130021Z",
     "shell.execute_reply.started": "2022-03-15T12:34:08.120373Z"
    },
    "papermill": {
     "duration": null,
     "end_time": null,
     "exception": null,
     "start_time": null,
     "status": "pending"
    },
    "tags": []
   },
   "outputs": [],
   "source": [
    "model_aravec_2.compile(loss='binary_crossentropy', optimizer='adam', metrics=['accuracy'])"
   ]
  },
  {
   "cell_type": "code",
   "execution_count": null,
   "id": "89551974",
   "metadata": {
    "execution": {
     "iopub.execute_input": "2022-03-15T12:39:16.641038Z",
     "iopub.status.busy": "2022-03-15T12:39:16.640503Z",
     "iopub.status.idle": "2022-03-15T12:42:08.489044Z",
     "shell.execute_reply": "2022-03-15T12:42:08.488251Z",
     "shell.execute_reply.started": "2022-03-15T12:39:16.641000Z"
    },
    "papermill": {
     "duration": null,
     "end_time": null,
     "exception": null,
     "start_time": null,
     "status": "pending"
    },
    "tags": []
   },
   "outputs": [],
   "source": [
    "model_aravec_2.fit(X_t,y_train, batch_size=32, epochs=10, validation_split=0.2)"
   ]
  },
  {
   "cell_type": "code",
   "execution_count": null,
   "id": "88bdf48c",
   "metadata": {
    "execution": {
     "iopub.execute_input": "2022-03-15T12:44:23.381819Z",
     "iopub.status.busy": "2022-03-15T12:44:23.380979Z",
     "iopub.status.idle": "2022-03-15T12:44:23.636825Z",
     "shell.execute_reply": "2022-03-15T12:44:23.636065Z",
     "shell.execute_reply.started": "2022-03-15T12:44:23.381775Z"
    },
    "papermill": {
     "duration": null,
     "end_time": null,
     "exception": null,
     "start_time": null,
     "status": "pending"
    },
    "tags": []
   },
   "outputs": [],
   "source": [
    "loss,accuracy = modelaravec.evaluate(X_te,y_test,verbose=0)\n",
    "print(\"Accuracy: %5f\" % (accuracy))"
   ]
  }
 ],
 "metadata": {
  "kernelspec": {
   "display_name": "Python 3",
   "language": "python",
   "name": "python3"
  },
  "language_info": {
   "codemirror_mode": {
    "name": "ipython",
    "version": 3
   },
   "file_extension": ".py",
   "mimetype": "text/x-python",
   "name": "python",
   "nbconvert_exporter": "python",
   "pygments_lexer": "ipython3",
   "version": "3.7.12"
  },
  "papermill": {
   "default_parameters": {},
   "duration": 102.546274,
   "end_time": "2022-03-15T12:48:35.170258",
   "environment_variables": {},
   "exception": true,
   "input_path": "__notebook__.ipynb",
   "output_path": "__notebook__.ipynb",
   "parameters": {},
   "start_time": "2022-03-15T12:46:52.623984",
   "version": "2.3.3"
  }
 },
 "nbformat": 4,
 "nbformat_minor": 5
}
